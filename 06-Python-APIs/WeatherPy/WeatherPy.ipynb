{
 "cells": [
  {
   "cell_type": "markdown",
   "metadata": {},
   "source": [
    "# WeatherPy\n",
    "----\n",
    "\n",
    "### Summary of WeatherPy"
   ]
  },
  {
   "cell_type": "markdown",
   "metadata": {},
   "source": [
    "#### Code Analysis & Experience:"
   ]
  },
  {
   "cell_type": "markdown",
   "metadata": {},
   "source": [
    "Using a random structure was a quite informative and novel exercise given so many data points that were available to be analised, tabulated and plotted. As each time the code (Kernel) was restarted and output cleared a different set of cities and the related data within the Northern and Southern Hemisphere showed only modest changes with respect to the weather outputs along the reandomly generated latitudes and longtitudes.\n",
    "\n",
    "To be honest, I found a fault in my code that represented maximum temperatures that exceeded 300 degrees F. After many attempts,I had noticed I had unintentionally left out units within the url query. As a result, this skewed my results significantly in that regard, however the plots had minimal change (in terms of visual comparisons). Once I had rectified the issue, my maximum temperatures lowered to a more reasonable and believable max F.\n",
    "\n",
    "A second great learning experience was the annotation within my Linear Regressions. Running through the diagrams I noticed something wrong - I could not see some of the results displayed within the figure and some I could see off centre or in areas where you could not acurately visualise what it was representing. As a result of researching - I found myself feeling a little foolish as I had left the annotation at 0, 0. So a simple mistake but one I was happy to fix and test to see where the best place was to locate it within the model/diagrams to give a clearer and better visual impact. The problem here is if you refresh the kernel, it will again change the data output positioning. This is somewhat of an issue as it will have to be changed again to give the best VISUAL aspect. \n",
    "\n",
    "The step by step process, of creating a Python script to locate cities, then numpy to randomly select and OpenweatherPy to link all of the data together was a great experience to see and learn the power of adding layer upon layer of initial data to present a final product (in this notebook) of scatter plots and linear regression models."
   ]
  },
  {
   "cell_type": "markdown",
   "metadata": {},
   "source": [
    "#### General Analysis:"
   ]
  },
  {
   "cell_type": "markdown",
   "metadata": {},
   "source": [
    "For all scatter plots and linear regression models there are summaries for each listed, as per the instructions with the exception of the scatterplots. Here I have added many observations and trends that can account for differences and / or similarities between each.\n",
    "\n",
    "Having said that - the primary (or initial question) of: -\n",
    "\n",
    "\"What's the weather like as we approach the equator?\"\n",
    "\n",
    "Now, we know what you may be thinking: _\"Duh. It gets hotter...\"_\n",
    "\n",
    "But, if pressed, how would you **prove** it?\n",
    "\n",
    "Well, there is some truth to it being hotter closer to the equator - however looking into it closer - you will see that in particular, the Southern Hemisphere has higher temperatures at lower (from the base of the equator) latitudes in many instances. This can be attributed to many factors, and land mass and positioning is one. If you scroll through the data saved in the .csv file you will see a varying difference dependent upon land mass / location.\n",
    "\n",
    "A clear example is in the original.csv file. Australia - Perth (Lat -31.3) has a max temp average of 79'F However, average for Australia is 85.29'F with Latitudes ranging from -12.23 through -42.88.\n",
    "\n",
    "In this instance, the closer you are to the equator it would seem the hotter it would be as logic suggests. However -12.23 latitude (Nhulunbuy) max temp is 82.4'F as where -42.88 (Hobart) had a max temp of 86'F\n",
    "\n",
    "Another example is proximity to oceans, and oceanic currents and atmospheric elements.\n",
    "\n",
    "In the above example, humidity changes significantly between the two. The closer you are in the Southern Hemisphere to the equator, generally the higher the humidity closer to the coast. Nhulunbuy's humidity is a staggering 89% as where Hobart's was 41%. Both are coastal townships/cities. \n",
    "\n",
    "In the Northern Hemisphere, taking similar co-ordinates, Erie, a city in Pennsylvania (Lat 42.77) has a humidity of 82% and max temp of 9'F. Hilo, in the state of Hawaii, often considered a tropical place at latitude 19.73 has a humidity lower at 73% and a higher max temp 75.2.\n",
    "\n",
    "Hobart and Pennsylvania both have cooler waters surrounding them as where Hilo and Nhulunbuy are surrounded by warmer waters.\n",
    "\n",
    "Lastly and in conclusion - perhaps the biggest point to make here also, is the point in time when the data was taken. The difference of the tilt and rotation of the Earth itself will have an enourmous change on the data. When this data was taken it is clear that it is winter in the Northern Hemisphere and summer in the Southern Hemisphere. A better analysis would be achieved with the same data set for either the winter or summer periods.\n"
   ]
  },
  {
   "cell_type": "code",
   "execution_count": 1,
   "metadata": {
    "scrolled": false
   },
   "outputs": [],
   "source": [
    "import requests\n",
    "import json\n",
    "import pandas as pd\n",
    "import numpy as np\n",
    "from citipy import citipy\n",
    "from config import api_key\n",
    "import matplotlib.pyplot as plt\n",
    "import scipy.stats as st\n",
    "from scipy.stats import linregress\n",
    "\n",
    "weatherpy = \"output_data/cities.csv\""
   ]
  },
  {
   "cell_type": "code",
   "execution_count": 2,
   "metadata": {},
   "outputs": [],
   "source": [
    "url = \"http://api.openweathermap.org/data/2.5/weather?\"\n",
    "units = \"imperial\"\n",
    "# Build partial query URL\n",
    "query_url = f\"{url}appid={api_key}&units={units}&q=\"\n"
   ]
  },
  {
   "cell_type": "markdown",
   "metadata": {},
   "source": [
    "## Generate Cities List"
   ]
  },
  {
   "cell_type": "code",
   "execution_count": 3,
   "metadata": {},
   "outputs": [
    {
     "data": {
      "text/plain": [
       "738"
      ]
     },
     "execution_count": 3,
     "metadata": {},
     "output_type": "execute_result"
    }
   ],
   "source": [
    "# List for holding lat_lngs and cities\n",
    "lat = []\n",
    "lng = []\n",
    "cities = []\n",
    "\n",
    "# Create a set of random lat and lng combinations\n",
    "lat = np.random.uniform(-90.0, 90.0, size=2000)\n",
    "lng = np.random.uniform(-180, 180, size=2000)\n",
    "lat_lng = zip(lat, lng)\n",
    "\n",
    "# Identify nearest city for each lat, lng combination\n",
    "for item in lat_lng:\n",
    "    city = citipy.nearest_city(item[0], item[1]).city_name\n",
    "    \n",
    "    # If the city is unique, then add it to a our cities list\n",
    "    if city not in cities:\n",
    "        cities.append(city)\n",
    "\n",
    "# Print the city count to confirm sufficient count\n",
    "len(cities)"
   ]
  },
  {
   "cell_type": "markdown",
   "metadata": {},
   "source": [
    "### Perform API Calls\n",
    "* Perform a weather check on each city using a series of successive API calls.\n",
    "* Include a print log of each city as it'sbeing processed (with the city number and city name).\n"
   ]
  },
  {
   "cell_type": "code",
   "execution_count": 4,
   "metadata": {
    "scrolled": true
   },
   "outputs": [
    {
     "name": "stdout",
     "output_type": "stream",
     "text": [
      "Begining Data Retrieval\n",
      "-------------------------------\n",
      "City not found. Skipping...\n",
      "Processing Record 1 of Set 1 | iranshahr\n",
      "Processing Record 2 of Set 1 | busselton\n",
      "Processing Record 3 of Set 1 | carnarvon\n",
      "Processing Record 4 of Set 1 | punta arenas\n",
      "Processing Record 5 of Set 1 | xining\n",
      "Processing Record 6 of Set 1 | san cristobal\n",
      "Processing Record 7 of Set 1 | lebu\n",
      "Processing Record 8 of Set 1 | jamestown\n",
      "City not found. Skipping...\n",
      "City not found. Skipping...\n",
      "City not found. Skipping...\n",
      "Processing Record 9 of Set 1 | axim\n",
      "Processing Record 10 of Set 1 | mineros\n",
      "Processing Record 11 of Set 1 | new norfolk\n",
      "Processing Record 12 of Set 1 | qaanaaq\n",
      "Processing Record 13 of Set 1 | bilibino\n",
      "Processing Record 14 of Set 1 | hermanus\n",
      "Processing Record 15 of Set 1 | galle\n",
      "City not found. Skipping...\n",
      "Processing Record 16 of Set 1 | athens\n",
      "Processing Record 17 of Set 1 | el reno\n",
      "Processing Record 18 of Set 1 | pacific grove\n",
      "Processing Record 19 of Set 1 | yar-sale\n",
      "Processing Record 20 of Set 1 | sao filipe\n",
      "Processing Record 21 of Set 1 | marawi\n",
      "Processing Record 22 of Set 1 | dunedin\n",
      "Processing Record 23 of Set 1 | rikitea\n",
      "Processing Record 24 of Set 1 | portland\n",
      "Processing Record 25 of Set 1 | beloha\n",
      "Processing Record 26 of Set 1 | narsaq\n",
      "Processing Record 27 of Set 1 | vaini\n",
      "Processing Record 28 of Set 1 | bambous virieux\n",
      "Processing Record 29 of Set 1 | ushuaia\n",
      "Processing Record 30 of Set 1 | pangoa\n",
      "Processing Record 31 of Set 1 | black river\n",
      "Processing Record 32 of Set 1 | ribeira grande\n",
      "Processing Record 33 of Set 1 | la paz\n",
      "City not found. Skipping...\n",
      "Processing Record 34 of Set 1 | oudtshoorn\n",
      "City not found. Skipping...\n",
      "Processing Record 35 of Set 1 | saint-philippe\n",
      "Processing Record 36 of Set 1 | camacha\n",
      "Processing Record 37 of Set 1 | mataura\n",
      "Processing Record 38 of Set 1 | alibag\n",
      "Processing Record 39 of Set 1 | east london\n",
      "Processing Record 40 of Set 1 | castro\n",
      "Processing Record 41 of Set 1 | cape town\n",
      "Processing Record 42 of Set 1 | la ronge\n",
      "City not found. Skipping...\n",
      "Processing Record 43 of Set 1 | bhawanipatna\n",
      "Processing Record 44 of Set 1 | upington\n",
      "Processing Record 45 of Set 1 | hithadhoo\n",
      "Processing Record 46 of Set 1 | abu dhabi\n",
      "Processing Record 47 of Set 1 | spearfish\n",
      "City not found. Skipping...\n",
      "City not found. Skipping...\n",
      "Processing Record 48 of Set 1 | dumas\n",
      "Processing Record 49 of Set 1 | olafsvik\n",
      "Processing Record 50 of Set 1 | saint george\n",
      "Processing Record 0 of Set 2 | torbay\n",
      "Processing Record 1 of Set 2 | vostok\n",
      "Processing Record 2 of Set 2 | bluff\n",
      "Processing Record 3 of Set 2 | hobart\n",
      "City not found. Skipping...\n",
      "Processing Record 4 of Set 2 | vestmannaeyjar\n",
      "Processing Record 5 of Set 2 | imbituba\n",
      "Processing Record 6 of Set 2 | pevek\n",
      "Processing Record 7 of Set 2 | zhucheng\n",
      "Processing Record 8 of Set 2 | alofi\n",
      "City not found. Skipping...\n",
      "Processing Record 9 of Set 2 | cacahuatepec\n",
      "Processing Record 10 of Set 2 | ayan\n",
      "Processing Record 11 of Set 2 | san jose\n",
      "Processing Record 12 of Set 2 | ancud\n",
      "Processing Record 13 of Set 2 | butaritari\n",
      "Processing Record 14 of Set 2 | porto velho\n",
      "Processing Record 15 of Set 2 | provideniya\n",
      "Processing Record 16 of Set 2 | thompson\n",
      "Processing Record 17 of Set 2 | udachnyy\n",
      "Processing Record 18 of Set 2 | staryy nadym\n",
      "Processing Record 19 of Set 2 | esperance\n",
      "Processing Record 20 of Set 2 | moengo\n",
      "Processing Record 21 of Set 2 | lincoln\n",
      "Processing Record 22 of Set 2 | bathsheba\n",
      "Processing Record 23 of Set 2 | marang\n",
      "Processing Record 24 of Set 2 | severo-kurilsk\n",
      "Processing Record 25 of Set 2 | nikolskoye\n",
      "Processing Record 26 of Set 2 | sitka\n",
      "Processing Record 27 of Set 2 | itarema\n",
      "Processing Record 28 of Set 2 | tara\n",
      "Processing Record 29 of Set 2 | atar\n",
      "Processing Record 30 of Set 2 | smithers\n",
      "Processing Record 31 of Set 2 | fortuna\n",
      "Processing Record 32 of Set 2 | hellin\n",
      "Processing Record 33 of Set 2 | kapaa\n",
      "Processing Record 34 of Set 2 | pangody\n",
      "Processing Record 35 of Set 2 | cozumel\n",
      "City not found. Skipping...\n",
      "Processing Record 36 of Set 2 | victoria\n",
      "Processing Record 37 of Set 2 | jalu\n",
      "Processing Record 38 of Set 2 | tervel\n",
      "Processing Record 39 of Set 2 | antequera\n",
      "Processing Record 40 of Set 2 | hofn\n",
      "Processing Record 41 of Set 2 | maniitsoq\n",
      "Processing Record 42 of Set 2 | georgetown\n",
      "City not found. Skipping...\n",
      "Processing Record 43 of Set 2 | angoche\n",
      "Processing Record 44 of Set 2 | plainview\n",
      "Processing Record 45 of Set 2 | bethel\n",
      "Processing Record 46 of Set 2 | chickasha\n",
      "Processing Record 47 of Set 2 | dikson\n",
      "Processing Record 48 of Set 2 | albany\n",
      "Processing Record 49 of Set 2 | tiksi\n",
      "Processing Record 50 of Set 2 | barrow\n",
      "Processing Record 0 of Set 3 | chokurdakh\n",
      "Processing Record 1 of Set 3 | mount gambier\n",
      "Processing Record 2 of Set 3 | ushtobe\n",
      "Processing Record 3 of Set 3 | katsuura\n",
      "Processing Record 4 of Set 3 | nangomba\n",
      "Processing Record 5 of Set 3 | cayenne\n",
      "Processing Record 6 of Set 3 | yellowknife\n",
      "Processing Record 7 of Set 3 | mildura\n",
      "Processing Record 8 of Set 3 | yakeshi\n",
      "Processing Record 9 of Set 3 | ahipara\n",
      "Processing Record 10 of Set 3 | saint-augustin\n",
      "Processing Record 11 of Set 3 | deer lake\n",
      "Processing Record 12 of Set 3 | hanyang\n",
      "Processing Record 13 of Set 3 | los algarrobos\n",
      "City not found. Skipping...\n",
      "Processing Record 14 of Set 3 | arona\n",
      "Processing Record 15 of Set 3 | gat\n",
      "City not found. Skipping...\n",
      "Processing Record 16 of Set 3 | bushehr\n",
      "Processing Record 17 of Set 3 | oga\n",
      "Processing Record 18 of Set 3 | san rafael\n",
      "Processing Record 19 of Set 3 | alta floresta\n",
      "Processing Record 20 of Set 3 | longyearbyen\n",
      "Processing Record 21 of Set 3 | saint anthony\n",
      "City not found. Skipping...\n",
      "Processing Record 22 of Set 3 | inhambane\n",
      "Processing Record 23 of Set 3 | airai\n",
      "Processing Record 24 of Set 3 | nanortalik\n",
      "Processing Record 25 of Set 3 | sumeg\n",
      "Processing Record 26 of Set 3 | bubaque\n",
      "Processing Record 27 of Set 3 | tuktoyaktuk\n",
      "Processing Record 28 of Set 3 | haines junction\n",
      "Processing Record 29 of Set 3 | thinadhoo\n",
      "Processing Record 30 of Set 3 | qaqortoq\n",
      "Processing Record 31 of Set 3 | comodoro rivadavia\n",
      "Processing Record 32 of Set 3 | shakawe\n",
      "Processing Record 33 of Set 3 | moron\n",
      "Processing Record 34 of Set 3 | geraldton\n",
      "Processing Record 35 of Set 3 | upernavik\n",
      "Processing Record 36 of Set 3 | ulaanbaatar\n",
      "Processing Record 37 of Set 3 | port elizabeth\n",
      "Processing Record 38 of Set 3 | hilo\n",
      "Processing Record 39 of Set 3 | eureka\n",
      "Processing Record 40 of Set 3 | bredasdorp\n",
      "Processing Record 41 of Set 3 | pendleton\n",
      "Processing Record 42 of Set 3 | port blair\n",
      "Processing Record 43 of Set 3 | mahebourg\n",
      "Processing Record 44 of Set 3 | mitsamiouli\n",
      "Processing Record 45 of Set 3 | kloulklubed\n",
      "Processing Record 46 of Set 3 | puerto ayora\n",
      "Processing Record 47 of Set 3 | sisimiut\n",
      "Processing Record 48 of Set 3 | roura\n",
      "Processing Record 49 of Set 3 | hay river\n",
      "Processing Record 50 of Set 3 | san ramon\n",
      "City not found. Skipping...\n",
      "Processing Record 0 of Set 4 | cherskiy\n",
      "Processing Record 1 of Set 4 | vila franca do campo\n",
      "Processing Record 2 of Set 4 | aasiaat\n",
      "Processing Record 3 of Set 4 | kaitangata\n",
      "Processing Record 4 of Set 4 | coos bay\n",
      "Processing Record 5 of Set 4 | kodiak\n",
      "Processing Record 6 of Set 4 | vila velha\n",
      "Processing Record 7 of Set 4 | lichuan\n",
      "Processing Record 8 of Set 4 | belyy yar\n",
      "Processing Record 9 of Set 4 | ocos\n",
      "Processing Record 10 of Set 4 | college\n",
      "Processing Record 11 of Set 4 | asau\n",
      "City not found. Skipping...\n",
      "Processing Record 12 of Set 4 | port alfred\n",
      "Processing Record 13 of Set 4 | stratford-upon-avon\n",
      "Processing Record 14 of Set 4 | jaffna\n",
      "Processing Record 15 of Set 4 | constitucion\n",
      "Processing Record 16 of Set 4 | kavieng\n",
      "City not found. Skipping...\n",
      "Processing Record 17 of Set 4 | ketchikan\n",
      "Processing Record 18 of Set 4 | noumea\n",
      "Processing Record 19 of Set 4 | saskylakh\n",
      "Processing Record 20 of Set 4 | buraydah\n",
      "Processing Record 21 of Set 4 | leirvik\n",
      "Processing Record 22 of Set 4 | lorengau\n",
      "Processing Record 23 of Set 4 | port hedland\n",
      "Processing Record 24 of Set 4 | ponta do sol\n",
      "Processing Record 25 of Set 4 | alekseyevka\n",
      "Processing Record 26 of Set 4 | varzea da palma\n",
      "Processing Record 27 of Set 4 | abu samrah\n",
      "Processing Record 28 of Set 4 | doha\n",
      "City not found. Skipping...\n",
      "Processing Record 29 of Set 4 | kabarnet\n",
      "Processing Record 30 of Set 4 | hualmay\n",
      "Processing Record 31 of Set 4 | tamandare\n"
     ]
    },
    {
     "name": "stdout",
     "output_type": "stream",
     "text": [
      "Processing Record 32 of Set 4 | rio gallegos\n",
      "Processing Record 33 of Set 4 | tongliao\n",
      "Processing Record 34 of Set 4 | half moon bay\n",
      "Processing Record 35 of Set 4 | vanavara\n",
      "Processing Record 36 of Set 4 | flin flon\n",
      "Processing Record 37 of Set 4 | tuy hoa\n",
      "Processing Record 38 of Set 4 | upata\n",
      "Processing Record 39 of Set 4 | atuona\n",
      "Processing Record 40 of Set 4 | praxedis guerrero\n",
      "Processing Record 41 of Set 4 | santa maria\n",
      "Processing Record 42 of Set 4 | tigil\n",
      "Processing Record 43 of Set 4 | touros\n",
      "Processing Record 44 of Set 4 | chuy\n",
      "Processing Record 45 of Set 4 | assentoft\n",
      "Processing Record 46 of Set 4 | harper\n",
      "Processing Record 47 of Set 4 | sechura\n",
      "Processing Record 48 of Set 4 | kurayoshi\n",
      "Processing Record 49 of Set 4 | avarua\n",
      "Processing Record 50 of Set 4 | misratah\n",
      "Processing Record 0 of Set 5 | dzaoudzi\n",
      "Processing Record 1 of Set 5 | yiyang\n",
      "City not found. Skipping...\n",
      "Processing Record 2 of Set 5 | coquimbo\n",
      "Processing Record 3 of Set 5 | vao\n",
      "Processing Record 4 of Set 5 | luyang\n",
      "Processing Record 5 of Set 5 | nouadhibou\n",
      "Processing Record 6 of Set 5 | catuday\n",
      "Processing Record 7 of Set 5 | poum\n",
      "Processing Record 8 of Set 5 | jiaozuo\n",
      "Processing Record 9 of Set 5 | latung\n",
      "City not found. Skipping...\n",
      "Processing Record 10 of Set 5 | whitehorse\n",
      "Processing Record 11 of Set 5 | talnakh\n",
      "Processing Record 12 of Set 5 | nantucket\n",
      "Processing Record 13 of Set 5 | balkanabat\n",
      "Processing Record 14 of Set 5 | umm kaddadah\n",
      "Processing Record 15 of Set 5 | santiago\n",
      "Processing Record 16 of Set 5 | obera\n",
      "Processing Record 17 of Set 5 | besikduzu\n",
      "Processing Record 18 of Set 5 | broken hill\n",
      "Processing Record 19 of Set 5 | salalah\n",
      "Processing Record 20 of Set 5 | husavik\n",
      "Processing Record 21 of Set 5 | chegdomyn\n",
      "Processing Record 22 of Set 5 | goksun\n",
      "City not found. Skipping...\n",
      "City not found. Skipping...\n",
      "Processing Record 23 of Set 5 | biak\n",
      "Processing Record 24 of Set 5 | tasiilaq\n",
      "Processing Record 25 of Set 5 | cabo san lucas\n",
      "Processing Record 26 of Set 5 | meulaboh\n",
      "Processing Record 27 of Set 5 | pedernales\n",
      "Processing Record 28 of Set 5 | kholm\n",
      "Processing Record 29 of Set 5 | varginha\n",
      "Processing Record 30 of Set 5 | codrington\n",
      "Processing Record 31 of Set 5 | palmer\n",
      "Processing Record 32 of Set 5 | narrabri\n",
      "Processing Record 33 of Set 5 | la pintada\n",
      "Processing Record 34 of Set 5 | fort frances\n",
      "Processing Record 35 of Set 5 | wierden\n",
      "Processing Record 36 of Set 5 | kawalu\n",
      "Processing Record 37 of Set 5 | poya\n",
      "Processing Record 38 of Set 5 | aguas belas\n",
      "Processing Record 39 of Set 5 | bengkulu\n",
      "Processing Record 40 of Set 5 | dodge city\n",
      "Processing Record 41 of Set 5 | bolu\n",
      "Processing Record 42 of Set 5 | lagoa\n",
      "Processing Record 43 of Set 5 | margate\n",
      "Processing Record 44 of Set 5 | bambanglipuro\n",
      "Processing Record 45 of Set 5 | port lincoln\n",
      "Processing Record 46 of Set 5 | iqaluit\n",
      "Processing Record 47 of Set 5 | danjiangkou\n",
      "Processing Record 48 of Set 5 | aklavik\n",
      "Processing Record 49 of Set 5 | nome\n",
      "Processing Record 50 of Set 5 | saint-georges\n",
      "Processing Record 0 of Set 6 | port macquarie\n",
      "Processing Record 1 of Set 6 | bandarbeyla\n",
      "Processing Record 2 of Set 6 | mehamn\n",
      "Processing Record 3 of Set 6 | hami\n",
      "Processing Record 4 of Set 6 | faanui\n",
      "Processing Record 5 of Set 6 | lahaina\n",
      "Processing Record 6 of Set 6 | khatanga\n",
      "Processing Record 7 of Set 6 | mount isa\n",
      "Processing Record 8 of Set 6 | tak\n",
      "Processing Record 9 of Set 6 | novaya ladoga\n",
      "Processing Record 10 of Set 6 | viransehir\n",
      "Processing Record 11 of Set 6 | anadyr\n",
      "Processing Record 12 of Set 6 | san patricio\n",
      "Processing Record 13 of Set 6 | bahia blanca\n",
      "Processing Record 14 of Set 6 | dunkirk\n",
      "Processing Record 15 of Set 6 | concarneau\n",
      "Processing Record 16 of Set 6 | guiratinga\n",
      "City not found. Skipping...\n",
      "Processing Record 17 of Set 6 | port hardy\n",
      "Processing Record 18 of Set 6 | bereda\n",
      "Processing Record 19 of Set 6 | belaya gora\n",
      "Processing Record 20 of Set 6 | baie-saint-paul\n",
      "Processing Record 21 of Set 6 | mayumba\n",
      "City not found. Skipping...\n",
      "Processing Record 22 of Set 6 | norman wells\n",
      "Processing Record 23 of Set 6 | sioux lookout\n",
      "Processing Record 24 of Set 6 | srednekolymsk\n",
      "Processing Record 25 of Set 6 | kushiro\n",
      "Processing Record 26 of Set 6 | grindavik\n",
      "Processing Record 27 of Set 6 | evensk\n",
      "Processing Record 28 of Set 6 | tautira\n",
      "Processing Record 29 of Set 6 | pangnirtung\n",
      "Processing Record 30 of Set 6 | bagado\n",
      "Processing Record 31 of Set 6 | baracoa\n",
      "Processing Record 32 of Set 6 | henties bay\n",
      "Processing Record 33 of Set 6 | deputatskiy\n",
      "Processing Record 34 of Set 6 | oussouye\n",
      "Processing Record 35 of Set 6 | beirut\n",
      "Processing Record 36 of Set 6 | port moresby\n",
      "Processing Record 37 of Set 6 | biryusinsk\n",
      "Processing Record 38 of Set 6 | leningradskiy\n",
      "Processing Record 39 of Set 6 | samarai\n",
      "Processing Record 40 of Set 6 | kudahuvadhoo\n",
      "Processing Record 41 of Set 6 | calama\n",
      "Processing Record 42 of Set 6 | berlevag\n",
      "City not found. Skipping...\n",
      "Processing Record 43 of Set 6 | lindas\n",
      "Processing Record 44 of Set 6 | nanakuli\n",
      "Processing Record 45 of Set 6 | bolkhov\n",
      "Processing Record 46 of Set 6 | garowe\n",
      "Processing Record 47 of Set 6 | khasan\n",
      "Processing Record 48 of Set 6 | dicabisagan\n",
      "Processing Record 49 of Set 6 | akyab\n",
      "Processing Record 50 of Set 6 | nombre de dios\n",
      "Processing Record 0 of Set 7 | miyazu\n",
      "Processing Record 1 of Set 7 | ostrovnoy\n",
      "Processing Record 2 of Set 7 | bairiki\n",
      "Processing Record 3 of Set 7 | yeppoon\n",
      "Processing Record 4 of Set 7 | sabang\n",
      "City not found. Skipping...\n",
      "Processing Record 5 of Set 7 | bonavista\n",
      "Processing Record 6 of Set 7 | pisco\n",
      "Processing Record 7 of Set 7 | mersing\n",
      "Processing Record 8 of Set 7 | dingle\n",
      "Processing Record 9 of Set 7 | pingliang\n",
      "Processing Record 10 of Set 7 | clyde river\n",
      "Processing Record 11 of Set 7 | jacmel\n",
      "City not found. Skipping...\n",
      "Processing Record 12 of Set 7 | aden\n",
      "Processing Record 13 of Set 7 | north bend\n",
      "Processing Record 14 of Set 7 | labuhan\n",
      "City not found. Skipping...\n",
      "Processing Record 15 of Set 7 | tiszacsege\n",
      "Processing Record 16 of Set 7 | qui nhon\n",
      "City not found. Skipping...\n",
      "Processing Record 17 of Set 7 | cap malheureux\n",
      "City not found. Skipping...\n",
      "Processing Record 18 of Set 7 | tumbagaan\n",
      "Processing Record 19 of Set 7 | cidreira\n",
      "Processing Record 20 of Set 7 | ambon\n",
      "Processing Record 21 of Set 7 | port-gentil\n",
      "Processing Record 22 of Set 7 | livny\n",
      "Processing Record 23 of Set 7 | romny\n",
      "Processing Record 24 of Set 7 | verkhnyaya inta\n",
      "Processing Record 25 of Set 7 | lompoc\n",
      "Processing Record 26 of Set 7 | la spezia\n",
      "Processing Record 27 of Set 7 | fort nelson\n",
      "Processing Record 28 of Set 7 | namatanai\n",
      "Processing Record 29 of Set 7 | hambantota\n",
      "Processing Record 30 of Set 7 | lavrentiya\n",
      "City not found. Skipping...\n",
      "Processing Record 31 of Set 7 | zhigansk\n",
      "Processing Record 32 of Set 7 | shingu\n",
      "Processing Record 33 of Set 7 | radolfzell\n",
      "Processing Record 34 of Set 7 | souillac\n",
      "Processing Record 35 of Set 7 | shelburne\n",
      "Processing Record 36 of Set 7 | shenjiamen\n",
      "Processing Record 37 of Set 7 | hodal\n",
      "City not found. Skipping...\n",
      "Processing Record 38 of Set 7 | beira\n",
      "Processing Record 39 of Set 7 | fort smith\n",
      "Processing Record 40 of Set 7 | arraial do cabo\n",
      "Processing Record 41 of Set 7 | shaoxing\n",
      "Processing Record 42 of Set 7 | kruisfontein\n",
      "Processing Record 43 of Set 7 | kieta\n",
      "Processing Record 44 of Set 7 | saint pete beach\n",
      "City not found. Skipping...\n",
      "Processing Record 45 of Set 7 | muisne\n",
      "Processing Record 46 of Set 7 | khash\n",
      "Processing Record 47 of Set 7 | yerbogachen\n",
      "Processing Record 48 of Set 7 | ahuimanu\n",
      "Processing Record 49 of Set 7 | lishui\n",
      "Processing Record 50 of Set 7 | tahe\n",
      "Processing Record 0 of Set 8 | yulara\n",
      "Processing Record 1 of Set 8 | kinablangan\n",
      "Processing Record 2 of Set 8 | saint paul\n",
      "Processing Record 3 of Set 8 | sao gabriel da cachoeira\n",
      "Processing Record 4 of Set 8 | sulina\n",
      "Processing Record 5 of Set 8 | akhmeta\n",
      "Processing Record 6 of Set 8 | namibe\n",
      "Processing Record 7 of Set 8 | manokwari\n",
      "Processing Record 8 of Set 8 | anloga\n",
      "Processing Record 9 of Set 8 | amapa\n",
      "Processing Record 10 of Set 8 | morant bay\n",
      "City not found. Skipping...\n",
      "Processing Record 11 of Set 8 | awbari\n",
      "Processing Record 12 of Set 8 | tungor\n",
      "Processing Record 13 of Set 8 | faya\n",
      "Processing Record 14 of Set 8 | pimentel\n",
      "Processing Record 15 of Set 8 | washington\n",
      "Processing Record 16 of Set 8 | port augusta\n"
     ]
    },
    {
     "name": "stdout",
     "output_type": "stream",
     "text": [
      "Processing Record 17 of Set 8 | bergen\n",
      "Processing Record 18 of Set 8 | fez\n",
      "Processing Record 19 of Set 8 | samaipata\n",
      "Processing Record 20 of Set 8 | hobyo\n",
      "Processing Record 21 of Set 8 | krivosheino\n",
      "Processing Record 22 of Set 8 | sandwick\n",
      "City not found. Skipping...\n",
      "Processing Record 23 of Set 8 | sokoni\n",
      "Processing Record 24 of Set 8 | kattivakkam\n",
      "Processing Record 25 of Set 8 | kahului\n",
      "Processing Record 26 of Set 8 | banda aceh\n",
      "Processing Record 27 of Set 8 | beeskow\n",
      "Processing Record 28 of Set 8 | grand gaube\n",
      "Processing Record 29 of Set 8 | porkhov\n",
      "Processing Record 30 of Set 8 | darovskoy\n",
      "Processing Record 31 of Set 8 | walvis bay\n",
      "Processing Record 32 of Set 8 | vuktyl\n",
      "Processing Record 33 of Set 8 | tuatapere\n",
      "City not found. Skipping...\n",
      "City not found. Skipping...\n",
      "Processing Record 34 of Set 8 | krasnoselkup\n",
      "Processing Record 35 of Set 8 | viedma\n",
      "Processing Record 36 of Set 8 | cabra\n",
      "Processing Record 37 of Set 8 | spassk\n",
      "Processing Record 38 of Set 8 | charleston\n",
      "Processing Record 39 of Set 8 | bafoulabe\n",
      "Processing Record 40 of Set 8 | roma\n",
      "Processing Record 41 of Set 8 | marzuq\n",
      "Processing Record 42 of Set 8 | kosa\n",
      "Processing Record 43 of Set 8 | nabire\n",
      "Processing Record 44 of Set 8 | nyrob\n",
      "Processing Record 45 of Set 8 | petropavlovsk-kamchatskiy\n",
      "Processing Record 46 of Set 8 | avera\n",
      "Processing Record 47 of Set 8 | boa vista\n",
      "Processing Record 48 of Set 8 | atakpame\n",
      "Processing Record 49 of Set 8 | aykhal\n",
      "Processing Record 50 of Set 8 | chara\n",
      "Processing Record 0 of Set 9 | campbell river\n",
      "Processing Record 1 of Set 9 | timra\n",
      "Processing Record 2 of Set 9 | rawson\n",
      "Processing Record 3 of Set 9 | luderitz\n",
      "Processing Record 4 of Set 9 | mae sot\n",
      "Processing Record 5 of Set 9 | fukue\n",
      "Processing Record 6 of Set 9 | cockburn town\n",
      "Processing Record 7 of Set 9 | nizwa\n",
      "Processing Record 8 of Set 9 | churapcha\n",
      "Processing Record 9 of Set 9 | ligayan\n",
      "City not found. Skipping...\n",
      "Processing Record 10 of Set 9 | jiayuguan\n",
      "Processing Record 11 of Set 9 | bon accord\n",
      "Processing Record 12 of Set 9 | sao joao da barra\n",
      "Processing Record 13 of Set 9 | mizan teferi\n",
      "Processing Record 14 of Set 9 | mar del plata\n",
      "Processing Record 15 of Set 9 | venado tuerto\n",
      "Processing Record 16 of Set 9 | egvekinot\n",
      "Processing Record 17 of Set 9 | kemijarvi\n",
      "Processing Record 18 of Set 9 | rocha\n",
      "Processing Record 19 of Set 9 | laishevo\n",
      "City not found. Skipping...\n",
      "Processing Record 20 of Set 9 | tambacounda\n",
      "Processing Record 21 of Set 9 | titusville\n",
      "Processing Record 22 of Set 9 | muros\n",
      "Processing Record 23 of Set 9 | saint-paul\n",
      "Processing Record 24 of Set 9 | cascais\n",
      "Processing Record 25 of Set 9 | nova odesa\n",
      "Processing Record 26 of Set 9 | shimoda\n",
      "Processing Record 27 of Set 9 | chardara\n",
      "Processing Record 28 of Set 9 | insar\n",
      "Processing Record 29 of Set 9 | vicosa\n",
      "Processing Record 30 of Set 9 | adrar\n",
      "Processing Record 31 of Set 9 | bograd\n",
      "Processing Record 32 of Set 9 | joigny\n",
      "Processing Record 33 of Set 9 | moose factory\n",
      "Processing Record 34 of Set 9 | koslan\n",
      "Processing Record 35 of Set 9 | weyburn\n",
      "Processing Record 36 of Set 9 | luwuk\n",
      "Processing Record 37 of Set 9 | nuuk\n",
      "Processing Record 38 of Set 9 | nishihara\n",
      "Processing Record 39 of Set 9 | itaituba\n",
      "Processing Record 40 of Set 9 | warwick\n",
      "Processing Record 41 of Set 9 | ust-tsilma\n",
      "Processing Record 42 of Set 9 | adolfo lopez mateos\n",
      "Processing Record 43 of Set 9 | purificacion\n",
      "Processing Record 44 of Set 9 | huangchuan\n",
      "Processing Record 45 of Set 9 | aurdal\n",
      "Processing Record 46 of Set 9 | sao felix do xingu\n",
      "Processing Record 47 of Set 9 | watertown\n",
      "Processing Record 48 of Set 9 | la palma\n",
      "Processing Record 49 of Set 9 | sao sepe\n",
      "Processing Record 50 of Set 9 | acapulco\n",
      "Processing Record 0 of Set 10 | quatre cocos\n",
      "City not found. Skipping...\n",
      "Processing Record 1 of Set 10 | alice springs\n",
      "Processing Record 2 of Set 10 | payo\n",
      "Processing Record 3 of Set 10 | shinshiro\n",
      "Processing Record 4 of Set 10 | kumluca\n",
      "Processing Record 5 of Set 10 | roald\n",
      "Processing Record 6 of Set 10 | marolambo\n",
      "City not found. Skipping...\n",
      "Processing Record 7 of Set 10 | kashmor\n",
      "Processing Record 8 of Set 10 | morshansk\n",
      "City not found. Skipping...\n",
      "Processing Record 9 of Set 10 | emerald\n",
      "Processing Record 10 of Set 10 | twentynine palms\n",
      "Processing Record 11 of Set 10 | mpika\n",
      "Processing Record 12 of Set 10 | maraa\n",
      "Processing Record 13 of Set 10 | kamenka\n",
      "Processing Record 14 of Set 10 | tutoia\n",
      "Processing Record 15 of Set 10 | crotone\n",
      "Processing Record 16 of Set 10 | nago\n",
      "Processing Record 17 of Set 10 | tallahassee\n",
      "Processing Record 18 of Set 10 | ibra\n",
      "Processing Record 19 of Set 10 | ola\n",
      "Processing Record 20 of Set 10 | galveston\n",
      "Processing Record 21 of Set 10 | putina\n",
      "Processing Record 22 of Set 10 | butembo\n",
      "Processing Record 23 of Set 10 | saldanha\n",
      "Processing Record 24 of Set 10 | marfino\n",
      "Processing Record 25 of Set 10 | abu kamal\n",
      "Processing Record 26 of Set 10 | omboue\n",
      "Processing Record 27 of Set 10 | sorong\n",
      "Processing Record 28 of Set 10 | svetlaya\n",
      "Processing Record 29 of Set 10 | beringovskiy\n",
      "Processing Record 30 of Set 10 | nemuro\n",
      "Processing Record 31 of Set 10 | san andres\n",
      "Processing Record 32 of Set 10 | kutum\n",
      "Processing Record 33 of Set 10 | bardiyah\n",
      "Processing Record 34 of Set 10 | manzhouli\n",
      "Processing Record 35 of Set 10 | camopi\n",
      "Processing Record 36 of Set 10 | shatki\n",
      "Processing Record 37 of Set 10 | sampit\n",
      "Processing Record 38 of Set 10 | olinda\n",
      "Processing Record 39 of Set 10 | vilnius\n",
      "Processing Record 40 of Set 10 | barentu\n",
      "Processing Record 41 of Set 10 | yenagoa\n",
      "Processing Record 42 of Set 10 | kiama\n",
      "Processing Record 43 of Set 10 | oeiras do para\n",
      "Processing Record 44 of Set 10 | gawler\n",
      "Processing Record 45 of Set 10 | lucea\n",
      "Processing Record 46 of Set 10 | oktyabrskiy\n",
      "City not found. Skipping...\n",
      "Processing Record 47 of Set 10 | brae\n",
      "Processing Record 48 of Set 10 | sobolevo\n",
      "Processing Record 49 of Set 10 | jasper\n",
      "Processing Record 50 of Set 10 | stafford\n",
      "Processing Record 0 of Set 11 | kostino\n",
      "Processing Record 1 of Set 11 | porto belo\n",
      "Processing Record 2 of Set 11 | ataco\n",
      "Processing Record 3 of Set 11 | muli\n",
      "Processing Record 4 of Set 11 | maceio\n",
      "Processing Record 5 of Set 11 | mirnyy\n",
      "Processing Record 6 of Set 11 | sault sainte marie\n",
      "Processing Record 7 of Set 11 | panaba\n",
      "Processing Record 8 of Set 11 | dalby\n",
      "Processing Record 9 of Set 11 | freeport\n",
      "Processing Record 10 of Set 11 | caninde de sao francisco\n",
      "Processing Record 11 of Set 11 | natal\n",
      "City not found. Skipping...\n",
      "Processing Record 12 of Set 11 | chancay\n",
      "Processing Record 13 of Set 11 | buala\n",
      "Processing Record 14 of Set 11 | los llanos de aridane\n",
      "Processing Record 15 of Set 11 | cuamba\n",
      "Processing Record 16 of Set 11 | labrea\n",
      "Processing Record 17 of Set 11 | poronaysk\n",
      "Processing Record 18 of Set 11 | kysyl-syr\n",
      "Processing Record 19 of Set 11 | jumla\n",
      "Processing Record 20 of Set 11 | shalya\n",
      "Processing Record 21 of Set 11 | mwene-ditu\n",
      "Processing Record 22 of Set 11 | estelle\n",
      "Processing Record 23 of Set 11 | raudeberg\n",
      "Processing Record 24 of Set 11 | verkhnevilyuysk\n",
      "Processing Record 25 of Set 11 | altamira\n",
      "Processing Record 26 of Set 11 | merauke\n",
      "City not found. Skipping...\n",
      "Processing Record 27 of Set 11 | komsomolskiy\n",
      "Processing Record 28 of Set 11 | matay\n",
      "Processing Record 29 of Set 11 | makungu\n",
      "City not found. Skipping...\n",
      "Processing Record 30 of Set 11 | prince rupert\n",
      "Processing Record 31 of Set 11 | selkirk\n",
      "Processing Record 32 of Set 11 | mayo\n",
      "City not found. Skipping...\n",
      "Processing Record 33 of Set 11 | korla\n",
      "Processing Record 34 of Set 11 | lalmohan\n",
      "Processing Record 35 of Set 11 | nueva loja\n",
      "Processing Record 36 of Set 11 | tambopata\n",
      "Processing Record 37 of Set 11 | sangar\n",
      "Processing Record 38 of Set 11 | gambela\n",
      "Processing Record 39 of Set 11 | villarrica\n",
      "Processing Record 40 of Set 11 | trofors\n",
      "Processing Record 41 of Set 11 | alanya\n",
      "Processing Record 42 of Set 11 | lahat\n",
      "Processing Record 43 of Set 11 | saint-pierre\n",
      "Processing Record 44 of Set 11 | klaipeda\n",
      "Processing Record 45 of Set 11 | haldwani\n",
      "Processing Record 46 of Set 11 | te anau\n",
      "Processing Record 47 of Set 11 | karpathos\n",
      "City not found. Skipping...\n",
      "Processing Record 48 of Set 11 | dzilam gonzalez\n",
      "Processing Record 49 of Set 11 | fuyu\n",
      "Processing Record 50 of Set 11 | port said\n",
      "Processing Record 0 of Set 12 | gandiaye\n"
     ]
    },
    {
     "name": "stdout",
     "output_type": "stream",
     "text": [
      "Processing Record 1 of Set 12 | khandyga\n",
      "Processing Record 2 of Set 12 | prainha\n",
      "Processing Record 3 of Set 12 | marsa matruh\n",
      "Processing Record 4 of Set 12 | darnah\n",
      "Processing Record 5 of Set 12 | baykit\n",
      "Processing Record 6 of Set 12 | ambulu\n",
      "Processing Record 7 of Set 12 | naze\n",
      "Processing Record 8 of Set 12 | mulheim-karlich\n",
      "Processing Record 9 of Set 12 | zyryanovsk\n",
      "Processing Record 10 of Set 12 | lata\n",
      "Processing Record 11 of Set 12 | kindu\n",
      "City not found. Skipping...\n",
      "Processing Record 12 of Set 12 | bom jesus\n",
      "Processing Record 13 of Set 12 | saint-louis\n",
      "City not found. Skipping...\n",
      "Processing Record 14 of Set 12 | dese\n",
      "Processing Record 15 of Set 12 | ramna\n",
      "Processing Record 16 of Set 12 | karlskrona\n",
      "Processing Record 17 of Set 12 | vallenar\n",
      "Processing Record 18 of Set 12 | petropavlovka\n",
      "Processing Record 19 of Set 12 | akdagmadeni\n",
      "Processing Record 20 of Set 12 | massaguet\n",
      "Processing Record 21 of Set 12 | san lawrenz\n",
      "Processing Record 22 of Set 12 | morgan city\n",
      "City not found. Skipping...\n",
      "Processing Record 23 of Set 12 | coihaique\n",
      "Processing Record 24 of Set 12 | briancon\n",
      "Processing Record 25 of Set 12 | sibolga\n",
      "Processing Record 26 of Set 12 | fartura\n",
      "Processing Record 27 of Set 12 | warri\n",
      "Processing Record 28 of Set 12 | bitam\n",
      "Processing Record 29 of Set 12 | awjilah\n",
      "Processing Record 30 of Set 12 | bentiu\n",
      "Processing Record 31 of Set 12 | cochrane\n",
      "Processing Record 32 of Set 12 | atambua\n",
      "Processing Record 33 of Set 12 | tazovskiy\n",
      "Processing Record 34 of Set 12 | novyy urgal\n",
      "Processing Record 35 of Set 12 | marsh harbour\n",
      "Processing Record 36 of Set 12 | sola\n",
      "Processing Record 37 of Set 12 | richards bay\n",
      "Processing Record 38 of Set 12 | maraba\n",
      "Processing Record 39 of Set 12 | vigrestad\n",
      "City not found. Skipping...\n",
      "Processing Record 40 of Set 12 | manica\n",
      "Processing Record 41 of Set 12 | presidencia roque saenz pena\n",
      "City not found. Skipping...\n",
      "Processing Record 42 of Set 12 | krsko\n",
      "Processing Record 43 of Set 12 | san luis\n",
      "Processing Record 44 of Set 12 | ekangala\n",
      "Processing Record 45 of Set 12 | turukhansk\n",
      "Processing Record 46 of Set 12 | soyo\n",
      "Processing Record 47 of Set 12 | findlay\n",
      "Processing Record 48 of Set 12 | mananjary\n",
      "Processing Record 49 of Set 12 | rundu\n",
      "Processing Record 50 of Set 12 | ust-koksa\n",
      "Processing Record 0 of Set 13 | vagay\n",
      "Processing Record 1 of Set 13 | xiongyue\n",
      "Processing Record 2 of Set 13 | takoradi\n",
      "Processing Record 3 of Set 13 | miri\n",
      "Processing Record 4 of Set 13 | havelock\n",
      "Processing Record 5 of Set 13 | tocache\n",
      "Processing Record 6 of Set 13 | manggar\n",
      "Processing Record 7 of Set 13 | bundaberg\n",
      "Processing Record 8 of Set 13 | kuminskiy\n",
      "Processing Record 9 of Set 13 | grinnell\n",
      "City not found. Skipping...\n",
      "Processing Record 10 of Set 13 | bibiani\n",
      "Processing Record 11 of Set 13 | eyl\n",
      "Processing Record 12 of Set 13 | billings\n",
      "Processing Record 13 of Set 13 | lasa\n",
      "Processing Record 14 of Set 13 | kamaishi\n",
      "Processing Record 15 of Set 13 | veraval\n",
      "Processing Record 16 of Set 13 | gladstone\n",
      "Processing Record 17 of Set 13 | el dorado\n",
      "Processing Record 18 of Set 13 | mahanje\n",
      "Processing Record 19 of Set 13 | pavullo nel frignano\n",
      "Processing Record 20 of Set 13 | macas\n",
      "Processing Record 21 of Set 13 | gushikawa\n",
      "Processing Record 22 of Set 13 | pochutla\n",
      "Processing Record 23 of Set 13 | ucluelet\n",
      "Processing Record 24 of Set 13 | padang\n",
      "Processing Record 25 of Set 13 | kaduqli\n",
      "Processing Record 26 of Set 13 | guerrero negro\n",
      "City not found. Skipping...\n",
      "Processing Record 27 of Set 13 | zinder\n",
      "City not found. Skipping...\n",
      "Processing Record 28 of Set 13 | douentza\n",
      "Processing Record 29 of Set 13 | ballina\n",
      "Processing Record 30 of Set 13 | hamirpur\n",
      "Processing Record 31 of Set 13 | prince george\n",
      "Processing Record 32 of Set 13 | hanzhong\n",
      "City not found. Skipping...\n",
      "Processing Record 33 of Set 13 | xinyang\n",
      "Processing Record 34 of Set 13 | salinopolis\n",
      "Processing Record 35 of Set 13 | puerto escondido\n",
      "Processing Record 36 of Set 13 | ilulissat\n",
      "Processing Record 37 of Set 13 | kaeo\n",
      "Processing Record 38 of Set 13 | juybar\n",
      "Processing Record 39 of Set 13 | maningrida\n",
      "Processing Record 40 of Set 13 | kuna\n",
      "Processing Record 41 of Set 13 | kibaya\n",
      "Processing Record 42 of Set 13 | padilla\n",
      "Processing Record 43 of Set 13 | akdepe\n",
      "Processing Record 44 of Set 13 | kenai\n",
      "Processing Record 45 of Set 13 | tommot\n",
      "Processing Record 46 of Set 13 | sistranda\n",
      "Processing Record 47 of Set 13 | tabas\n",
      "Processing Record 48 of Set 13 | isiro\n",
      "Processing Record 49 of Set 13 | quesnel\n",
      "Processing Record 50 of Set 13 | kainantu\n",
      "Processing Record 0 of Set 14 | taoudenni\n",
      "Processing Record 1 of Set 14 | waitati\n",
      "Processing Record 2 of Set 14 | maniago\n",
      "Processing Record 3 of Set 14 | halifax\n",
      "Processing Record 4 of Set 14 | cururupu\n",
      "Processing Record 5 of Set 14 | abdulino\n",
      "Processing Record 6 of Set 14 | perevolotskiy\n",
      "City not found. Skipping...\n",
      "Processing Record 7 of Set 14 | rosiesti\n",
      "Processing Record 8 of Set 14 | kirakira\n",
      "Processing Record 9 of Set 14 | tartagal\n",
      "Processing Record 10 of Set 14 | zhob\n",
      "Processing Record 11 of Set 14 | issia\n",
      "Processing Record 12 of Set 14 | hailar\n",
      "Processing Record 13 of Set 14 | westport\n",
      "Processing Record 14 of Set 14 | mankono\n",
      "------------------------------\n",
      "Data Retrieval Complete\n",
      "------------------------------\n"
     ]
    }
   ],
   "source": [
    "#new data frame\n",
    "\n",
    "city_name = []\n",
    "cloudiness = []\n",
    "country = []\n",
    "date = []\n",
    "humidity = []\n",
    "lat = []\n",
    "lng = []\n",
    "max_temp = []\n",
    "wind_speed = []\n",
    "\n",
    "\n",
    "count_one = 0\n",
    "set_one = 1\n",
    "\n",
    "print(\"Begining Data Retrieval\")\n",
    "print(f\"-------------------------------\")\n",
    "\n",
    "for city in cities:\n",
    "    try:\n",
    "        response = requests.get(query_url + city).json() \n",
    "        city_name.append(response[\"name\"])\n",
    "        cloudiness.append(response[\"clouds\"][\"all\"])\n",
    "        country.append(response[\"sys\"][\"country\"])\n",
    "        date.append(response[\"dt\"])\n",
    "        humidity.append(response[\"main\"][\"humidity\"])\n",
    "        max_temp.append(response[\"main\"][\"temp_max\"])\n",
    "        lat.append(response[\"coord\"][\"lat\"])\n",
    "        lng.append(response[\"coord\"][\"lon\"])\n",
    "        wind_speed.append(response[\"wind\"][\"speed\"])\n",
    "\n",
    "        if count_one > 49:\n",
    "            count_one = 0\n",
    "            set_one += 1\n",
    "            \n",
    "        else:\n",
    "            count_one += 1\n",
    "            \n",
    "                        \n",
    "        print(f\"Processing Record {count_one} of Set {set_one} | {city}\")\n",
    "    \n",
    "    except Exception:\n",
    "           \n",
    "        print(\"City not found. Skipping...\")\n",
    "print(\"------------------------------\\nData Retrieval Complete\\n------------------------------\")"
   ]
  },
  {
   "cell_type": "markdown",
   "metadata": {},
   "source": [
    "### Convert Raw Data to DataFrame\n",
    "* Export the city data into a .csv.\n",
    "* Display the DataFrame"
   ]
  },
  {
   "cell_type": "code",
   "execution_count": 5,
   "metadata": {},
   "outputs": [
    {
     "data": {
      "text/plain": [
       "City          677\n",
       "Cloudiness    677\n",
       "Country       677\n",
       "Date          677\n",
       "Humidity      677\n",
       "Lat           677\n",
       "Lng           677\n",
       "Max Temp      677\n",
       "Wind Speed    677\n",
       "dtype: int64"
      ]
     },
     "execution_count": 5,
     "metadata": {},
     "output_type": "execute_result"
    }
   ],
   "source": [
    "weatherpy = {\n",
    "    \"City\": city_name,\n",
    "    \"Cloudiness\":cloudiness, \n",
    "    \"Country\":country,\n",
    "    \"Date\":date, \n",
    "    \"Humidity\":humidity,\n",
    "    \"Lat\":lat, \n",
    "    \"Lng\":lng, \n",
    "    \"Max Temp\":max_temp,\n",
    "    \"Wind Speed\":wind_speed\n",
    "}\n",
    "\n",
    "weatherpy = pd.DataFrame(weatherpy)\n",
    "\n",
    "weatherpy.count()"
   ]
  },
  {
   "cell_type": "code",
   "execution_count": 6,
   "metadata": {},
   "outputs": [
    {
     "data": {
      "text/html": [
       "<div>\n",
       "<style scoped>\n",
       "    .dataframe tbody tr th:only-of-type {\n",
       "        vertical-align: middle;\n",
       "    }\n",
       "\n",
       "    .dataframe tbody tr th {\n",
       "        vertical-align: top;\n",
       "    }\n",
       "\n",
       "    .dataframe thead th {\n",
       "        text-align: right;\n",
       "    }\n",
       "</style>\n",
       "<table border=\"1\" class=\"dataframe\">\n",
       "  <thead>\n",
       "    <tr style=\"text-align: right;\">\n",
       "      <th></th>\n",
       "      <th>City</th>\n",
       "      <th>Cloudiness</th>\n",
       "      <th>Country</th>\n",
       "      <th>Date</th>\n",
       "      <th>Humidity</th>\n",
       "      <th>Lat</th>\n",
       "      <th>Lng</th>\n",
       "      <th>Max Temp</th>\n",
       "      <th>Wind Speed</th>\n",
       "    </tr>\n",
       "  </thead>\n",
       "  <tbody>\n",
       "    <tr>\n",
       "      <th>0</th>\n",
       "      <td>Iranshahr</td>\n",
       "      <td>0</td>\n",
       "      <td>IR</td>\n",
       "      <td>1614055139</td>\n",
       "      <td>42</td>\n",
       "      <td>27.2025</td>\n",
       "      <td>60.6848</td>\n",
       "      <td>62.60</td>\n",
       "      <td>6.91</td>\n",
       "    </tr>\n",
       "    <tr>\n",
       "      <th>1</th>\n",
       "      <td>Busselton</td>\n",
       "      <td>0</td>\n",
       "      <td>AU</td>\n",
       "      <td>1614055140</td>\n",
       "      <td>32</td>\n",
       "      <td>-33.6500</td>\n",
       "      <td>115.3333</td>\n",
       "      <td>87.03</td>\n",
       "      <td>7.45</td>\n",
       "    </tr>\n",
       "    <tr>\n",
       "      <th>2</th>\n",
       "      <td>Carnarvon</td>\n",
       "      <td>0</td>\n",
       "      <td>AU</td>\n",
       "      <td>1614054901</td>\n",
       "      <td>16</td>\n",
       "      <td>-24.8667</td>\n",
       "      <td>113.6333</td>\n",
       "      <td>105.80</td>\n",
       "      <td>12.66</td>\n",
       "    </tr>\n",
       "    <tr>\n",
       "      <th>3</th>\n",
       "      <td>Punta Arenas</td>\n",
       "      <td>75</td>\n",
       "      <td>CL</td>\n",
       "      <td>1614055140</td>\n",
       "      <td>57</td>\n",
       "      <td>-53.1500</td>\n",
       "      <td>-70.9167</td>\n",
       "      <td>44.60</td>\n",
       "      <td>6.91</td>\n",
       "    </tr>\n",
       "    <tr>\n",
       "      <th>4</th>\n",
       "      <td>Xining</td>\n",
       "      <td>58</td>\n",
       "      <td>CN</td>\n",
       "      <td>1614055140</td>\n",
       "      <td>36</td>\n",
       "      <td>36.6167</td>\n",
       "      <td>101.7667</td>\n",
       "      <td>48.70</td>\n",
       "      <td>2.95</td>\n",
       "    </tr>\n",
       "  </tbody>\n",
       "</table>\n",
       "</div>"
      ],
      "text/plain": [
       "           City  Cloudiness Country        Date  Humidity      Lat       Lng  \\\n",
       "0     Iranshahr           0      IR  1614055139        42  27.2025   60.6848   \n",
       "1     Busselton           0      AU  1614055140        32 -33.6500  115.3333   \n",
       "2     Carnarvon           0      AU  1614054901        16 -24.8667  113.6333   \n",
       "3  Punta Arenas          75      CL  1614055140        57 -53.1500  -70.9167   \n",
       "4        Xining          58      CN  1614055140        36  36.6167  101.7667   \n",
       "\n",
       "   Max Temp  Wind Speed  \n",
       "0     62.60        6.91  \n",
       "1     87.03        7.45  \n",
       "2    105.80       12.66  \n",
       "3     44.60        6.91  \n",
       "4     48.70        2.95  "
      ]
     },
     "execution_count": 6,
     "metadata": {},
     "output_type": "execute_result"
    }
   ],
   "source": [
    "# Display data frame head \n",
    "weatherpy.head()"
   ]
  },
  {
   "cell_type": "code",
   "execution_count": 7,
   "metadata": {
    "scrolled": true
   },
   "outputs": [],
   "source": [
    "weatherpy.to_csv('weatherpy.csv')"
   ]
  },
  {
   "cell_type": "markdown",
   "metadata": {},
   "source": [
    "## Inspect the data and remove the cities where the humidity > 100%.\n",
    "----\n",
    "Skip this step if there are no cities that have humidity > 100%. "
   ]
  },
  {
   "cell_type": "code",
   "execution_count": 8,
   "metadata": {},
   "outputs": [],
   "source": [
    "#  Get the indices of cities that have humidity over 100%."
   ]
  },
  {
   "cell_type": "code",
   "execution_count": 9,
   "metadata": {},
   "outputs": [
    {
     "data": {
      "text/html": [
       "<div>\n",
       "<style scoped>\n",
       "    .dataframe tbody tr th:only-of-type {\n",
       "        vertical-align: middle;\n",
       "    }\n",
       "\n",
       "    .dataframe tbody tr th {\n",
       "        vertical-align: top;\n",
       "    }\n",
       "\n",
       "    .dataframe thead th {\n",
       "        text-align: right;\n",
       "    }\n",
       "</style>\n",
       "<table border=\"1\" class=\"dataframe\">\n",
       "  <thead>\n",
       "    <tr style=\"text-align: right;\">\n",
       "      <th></th>\n",
       "      <th>Cloudiness</th>\n",
       "      <th>Date</th>\n",
       "      <th>Humidity</th>\n",
       "      <th>Lat</th>\n",
       "      <th>Lng</th>\n",
       "      <th>Max Temp</th>\n",
       "      <th>Wind Speed</th>\n",
       "    </tr>\n",
       "  </thead>\n",
       "  <tbody>\n",
       "    <tr>\n",
       "      <th>count</th>\n",
       "      <td>677.000000</td>\n",
       "      <td>6.770000e+02</td>\n",
       "      <td>677.000000</td>\n",
       "      <td>677.000000</td>\n",
       "      <td>677.000000</td>\n",
       "      <td>677.000000</td>\n",
       "      <td>677.000000</td>\n",
       "    </tr>\n",
       "    <tr>\n",
       "      <th>mean</th>\n",
       "      <td>47.868538</td>\n",
       "      <td>1.614055e+09</td>\n",
       "      <td>73.223043</td>\n",
       "      <td>21.137060</td>\n",
       "      <td>15.944705</td>\n",
       "      <td>49.988346</td>\n",
       "      <td>7.944549</td>\n",
       "    </tr>\n",
       "    <tr>\n",
       "      <th>std</th>\n",
       "      <td>39.342099</td>\n",
       "      <td>1.101223e+02</td>\n",
       "      <td>20.230306</td>\n",
       "      <td>32.601745</td>\n",
       "      <td>89.921982</td>\n",
       "      <td>32.623877</td>\n",
       "      <td>5.934242</td>\n",
       "    </tr>\n",
       "    <tr>\n",
       "      <th>min</th>\n",
       "      <td>0.000000</td>\n",
       "      <td>1.614055e+09</td>\n",
       "      <td>13.000000</td>\n",
       "      <td>-54.800000</td>\n",
       "      <td>-179.166700</td>\n",
       "      <td>-33.560000</td>\n",
       "      <td>0.250000</td>\n",
       "    </tr>\n",
       "    <tr>\n",
       "      <th>25%</th>\n",
       "      <td>2.000000</td>\n",
       "      <td>1.614055e+09</td>\n",
       "      <td>65.000000</td>\n",
       "      <td>-5.198900</td>\n",
       "      <td>-63.866700</td>\n",
       "      <td>34.160000</td>\n",
       "      <td>3.440000</td>\n",
       "    </tr>\n",
       "    <tr>\n",
       "      <th>50%</th>\n",
       "      <td>42.000000</td>\n",
       "      <td>1.614055e+09</td>\n",
       "      <td>79.000000</td>\n",
       "      <td>27.725300</td>\n",
       "      <td>21.286900</td>\n",
       "      <td>59.520000</td>\n",
       "      <td>6.910000</td>\n",
       "    </tr>\n",
       "    <tr>\n",
       "      <th>75%</th>\n",
       "      <td>90.000000</td>\n",
       "      <td>1.614055e+09</td>\n",
       "      <td>88.000000</td>\n",
       "      <td>49.000000</td>\n",
       "      <td>96.370000</td>\n",
       "      <td>75.200000</td>\n",
       "      <td>11.120000</td>\n",
       "    </tr>\n",
       "    <tr>\n",
       "      <th>max</th>\n",
       "      <td>100.000000</td>\n",
       "      <td>1.614055e+09</td>\n",
       "      <td>100.000000</td>\n",
       "      <td>78.218600</td>\n",
       "      <td>179.316700</td>\n",
       "      <td>105.800000</td>\n",
       "      <td>43.730000</td>\n",
       "    </tr>\n",
       "  </tbody>\n",
       "</table>\n",
       "</div>"
      ],
      "text/plain": [
       "       Cloudiness          Date    Humidity         Lat         Lng  \\\n",
       "count  677.000000  6.770000e+02  677.000000  677.000000  677.000000   \n",
       "mean    47.868538  1.614055e+09   73.223043   21.137060   15.944705   \n",
       "std     39.342099  1.101223e+02   20.230306   32.601745   89.921982   \n",
       "min      0.000000  1.614055e+09   13.000000  -54.800000 -179.166700   \n",
       "25%      2.000000  1.614055e+09   65.000000   -5.198900  -63.866700   \n",
       "50%     42.000000  1.614055e+09   79.000000   27.725300   21.286900   \n",
       "75%     90.000000  1.614055e+09   88.000000   49.000000   96.370000   \n",
       "max    100.000000  1.614055e+09  100.000000   78.218600  179.316700   \n",
       "\n",
       "         Max Temp  Wind Speed  \n",
       "count  677.000000  677.000000  \n",
       "mean    49.988346    7.944549  \n",
       "std     32.623877    5.934242  \n",
       "min    -33.560000    0.250000  \n",
       "25%     34.160000    3.440000  \n",
       "50%     59.520000    6.910000  \n",
       "75%     75.200000   11.120000  \n",
       "max    105.800000   43.730000  "
      ]
     },
     "execution_count": 9,
     "metadata": {},
     "output_type": "execute_result"
    }
   ],
   "source": [
    "weatherpy.describe()"
   ]
  },
  {
   "cell_type": "markdown",
   "metadata": {},
   "source": [
    "Step skipped due to no humidity over 100%"
   ]
  },
  {
   "cell_type": "code",
   "execution_count": 10,
   "metadata": {},
   "outputs": [
    {
     "data": {
      "text/plain": [
       "Int64Index([], dtype='int64')"
      ]
     },
     "execution_count": 10,
     "metadata": {},
     "output_type": "execute_result"
    }
   ],
   "source": [
    "weatherpy[weatherpy['Humidity'] > 100].index"
   ]
  },
  {
   "cell_type": "markdown",
   "metadata": {},
   "source": [
    "There are no cities where humidity is over 100%"
   ]
  },
  {
   "cell_type": "code",
   "execution_count": 11,
   "metadata": {},
   "outputs": [],
   "source": [
    "# Make a new DataFrame equal to the city data to drop all humidity outliers by index.\n",
    "# Passing \"inplace=False\" will make a copy of the city_data DataFrame, which we call \"clean_city_data\"."
   ]
  },
  {
   "cell_type": "code",
   "execution_count": 12,
   "metadata": {
    "scrolled": true
   },
   "outputs": [
    {
     "data": {
      "text/html": [
       "<div>\n",
       "<style scoped>\n",
       "    .dataframe tbody tr th:only-of-type {\n",
       "        vertical-align: middle;\n",
       "    }\n",
       "\n",
       "    .dataframe tbody tr th {\n",
       "        vertical-align: top;\n",
       "    }\n",
       "\n",
       "    .dataframe thead th {\n",
       "        text-align: right;\n",
       "    }\n",
       "</style>\n",
       "<table border=\"1\" class=\"dataframe\">\n",
       "  <thead>\n",
       "    <tr style=\"text-align: right;\">\n",
       "      <th></th>\n",
       "      <th>City</th>\n",
       "      <th>Cloudiness</th>\n",
       "      <th>Country</th>\n",
       "      <th>Date</th>\n",
       "      <th>Humidity</th>\n",
       "      <th>Lat</th>\n",
       "      <th>Lng</th>\n",
       "      <th>Max Temp</th>\n",
       "      <th>Wind Speed</th>\n",
       "    </tr>\n",
       "  </thead>\n",
       "  <tbody>\n",
       "    <tr>\n",
       "      <th>0</th>\n",
       "      <td>Iranshahr</td>\n",
       "      <td>0</td>\n",
       "      <td>IR</td>\n",
       "      <td>1614055139</td>\n",
       "      <td>42</td>\n",
       "      <td>27.2025</td>\n",
       "      <td>60.6848</td>\n",
       "      <td>62.60</td>\n",
       "      <td>6.91</td>\n",
       "    </tr>\n",
       "    <tr>\n",
       "      <th>1</th>\n",
       "      <td>Busselton</td>\n",
       "      <td>0</td>\n",
       "      <td>AU</td>\n",
       "      <td>1614055140</td>\n",
       "      <td>32</td>\n",
       "      <td>-33.6500</td>\n",
       "      <td>115.3333</td>\n",
       "      <td>87.03</td>\n",
       "      <td>7.45</td>\n",
       "    </tr>\n",
       "    <tr>\n",
       "      <th>2</th>\n",
       "      <td>Carnarvon</td>\n",
       "      <td>0</td>\n",
       "      <td>AU</td>\n",
       "      <td>1614054901</td>\n",
       "      <td>16</td>\n",
       "      <td>-24.8667</td>\n",
       "      <td>113.6333</td>\n",
       "      <td>105.80</td>\n",
       "      <td>12.66</td>\n",
       "    </tr>\n",
       "    <tr>\n",
       "      <th>3</th>\n",
       "      <td>Punta Arenas</td>\n",
       "      <td>75</td>\n",
       "      <td>CL</td>\n",
       "      <td>1614055140</td>\n",
       "      <td>57</td>\n",
       "      <td>-53.1500</td>\n",
       "      <td>-70.9167</td>\n",
       "      <td>44.60</td>\n",
       "      <td>6.91</td>\n",
       "    </tr>\n",
       "    <tr>\n",
       "      <th>4</th>\n",
       "      <td>Xining</td>\n",
       "      <td>58</td>\n",
       "      <td>CN</td>\n",
       "      <td>1614055140</td>\n",
       "      <td>36</td>\n",
       "      <td>36.6167</td>\n",
       "      <td>101.7667</td>\n",
       "      <td>48.70</td>\n",
       "      <td>2.95</td>\n",
       "    </tr>\n",
       "  </tbody>\n",
       "</table>\n",
       "</div>"
      ],
      "text/plain": [
       "           City  Cloudiness Country        Date  Humidity      Lat       Lng  \\\n",
       "0     Iranshahr           0      IR  1614055139        42  27.2025   60.6848   \n",
       "1     Busselton           0      AU  1614055140        32 -33.6500  115.3333   \n",
       "2     Carnarvon           0      AU  1614054901        16 -24.8667  113.6333   \n",
       "3  Punta Arenas          75      CL  1614055140        57 -53.1500  -70.9167   \n",
       "4        Xining          58      CN  1614055140        36  36.6167  101.7667   \n",
       "\n",
       "   Max Temp  Wind Speed  \n",
       "0     62.60        6.91  \n",
       "1     87.03        7.45  \n",
       "2    105.80       12.66  \n",
       "3     44.60        6.91  \n",
       "4     48.70        2.95  "
      ]
     },
     "execution_count": 12,
     "metadata": {},
     "output_type": "execute_result"
    }
   ],
   "source": [
    "clean_city_data = weatherpy.drop(weatherpy[weatherpy['Humidity'] > 100].index, inplace=False)\n",
    "clean_city_data.head()"
   ]
  },
  {
   "cell_type": "markdown",
   "metadata": {},
   "source": [
    "## Plotting the Data\n",
    "* Use proper labeling of the plots using plot titles (including date of analysis) and axes labels.\n",
    "* Save the plotted figures as .pngs."
   ]
  },
  {
   "cell_type": "markdown",
   "metadata": {},
   "source": [
    "## Latitude vs. Temperature Plot"
   ]
  },
  {
   "cell_type": "code",
   "execution_count": 13,
   "metadata": {
    "scrolled": false
   },
   "outputs": [
    {
     "data": {
      "image/png": "[encoded data removed]",
      "text/plain": [
       "<Figure size 432x288 with 1 Axes>"
      ]
     },
     "metadata": {
      "needs_background": "light"
     },
     "output_type": "display_data"
    }
   ],
   "source": [
    "plt.scatter(clean_city_data[\"Lat\"],clean_city_data[\"Max Temp\"],edgecolors=\"black\",facecolors=\"skyblue\")\n",
    "plt.title(\"City Latitude vs. Max Temperature\")\n",
    "plt.xlabel(\"Latitude\")\n",
    "plt.ylabel(\"Max Temperature (F)\")\n",
    "plt.grid (b=True,which=\"major\",axis=\"both\",linestyle=\"-\",color=\"lightgrey\")\n",
    "\n",
    "plt.savefig(\"Fig 1 City Latitude vs. Humidity.png\")\n",
    "plt.show()"
   ]
  },
  {
   "cell_type": "markdown",
   "metadata": {},
   "source": [
    "Figure 1. There is a clear disparity between the Northern and Southern Hemisphere. This can generally be attributable by geography. The Northern Hemisphere has a disproportionate amount of land mass, especially in the higher lattitudes which combined with the localities of so many cities having the dual effect of proximity to polar (Arctic) influences and large masses of landscapes where mountains (height) play major roles in climate variance. There is also a significant proportioin of land on/near the equator. "
   ]
  },
  {
   "cell_type": "markdown",
   "metadata": {},
   "source": [
    "## Latitude vs. Humidity Plot"
   ]
  },
  {
   "cell_type": "code",
   "execution_count": 14,
   "metadata": {
    "scrolled": true
   },
   "outputs": [
    {
     "data": {
      "image/png": "[encoded data removed]",
      "text/plain": [
       "<Figure size 432x288 with 1 Axes>"
      ]
     },
     "metadata": {
      "needs_background": "light"
     },
     "output_type": "display_data"
    }
   ],
   "source": [
    "plt.scatter(clean_city_data[\"Lat\"],clean_city_data[\"Humidity\"],edgecolors=\"black\",facecolors=\"skyblue\")\n",
    "plt.title(\"City Latitude vs. Humidity\")\n",
    "plt.xlabel(\"Latitude\")\n",
    "plt.ylabel(\"Humidity (%)\")\n",
    "plt.ylim(15,105)\n",
    "plt.grid (b=True,which=\"major\",axis=\"both\",linestyle=\"-\",color=\"lightgrey\")\n",
    "plt.savefig(\"Fig 2 City Latitude vs. Humidity.png\")\n",
    "plt.show()"
   ]
  },
  {
   "cell_type": "markdown",
   "metadata": {},
   "source": [
    "Figure 2. Like Figure 1, shows a stark contrast in humidity levels per city the closer you get to the polar regions. However there is a significant point to make here. There are no large land masses or cities close to the southern polar region as compared to the northern. Nearly all continents, and hence cities in the Northern Hemisphere boarder the Arctic circle or are close enough to have moist air flowing south towards the populated areas, This is also influenced by the Atlantic Thermocline which although is not mentioned or noted in these data sets, drags coldwater south and brings the warmer waters north impacting the humidity levels. As another note, and as one would expect, humidity is generally higher in the tropical regions between 27.5 and -27.5 latitude."
   ]
  },
  {
   "cell_type": "markdown",
   "metadata": {},
   "source": [
    "## Latitude vs. Cloudiness Plot"
   ]
  },
  {
   "cell_type": "code",
   "execution_count": 15,
   "metadata": {
    "scrolled": true
   },
   "outputs": [
    {
     "data": {
      "image/png": "[encoded data removed]",
      "text/plain": [
       "<Figure size 432x288 with 1 Axes>"
      ]
     },
     "metadata": {
      "needs_background": "light"
     },
     "output_type": "display_data"
    }
   ],
   "source": [
    "plt.scatter(clean_city_data[\"Lat\"],clean_city_data[\"Cloudiness\"], marker=\"o\", s=10)\n",
    "plt.title(\"City Latitude vs. Cloudiness\")\n",
    "plt.ylabel(\"Cloudiness (%)\")\n",
    "plt.xlabel(\"Latitude\")\n",
    "plt.grid(True)\n",
    "\n",
    "plt.savefig(\"Fig 3 Cloudiness_vs_Latitude.png\")\n",
    "\n",
    "plt.show()"
   ]
  },
  {
   "cell_type": "markdown",
   "metadata": {},
   "source": [
    "Figure 3. The dataset shows clearly a sparodic scattering of cloudiness across all regions defined. There is no primary trend here with the exception of a lack of data below -60 degrees latitude as there are very few cities (or weather stations for that matter) below this point. It does however show where the dataset cities are located primarily.  "
   ]
  },
  {
   "cell_type": "markdown",
   "metadata": {},
   "source": [
    "## Latitude vs. Wind Speed Plot"
   ]
  },
  {
   "cell_type": "code",
   "execution_count": 16,
   "metadata": {
    "scrolled": true
   },
   "outputs": [
    {
     "data": {
      "image/png": "[encoded data removed]",
      "text/plain": [
       "<Figure size 432x288 with 1 Axes>"
      ]
     },
     "metadata": {
      "needs_background": "light"
     },
     "output_type": "display_data"
    }
   ],
   "source": [
    "plt.scatter(clean_city_data[\"Lat\"],clean_city_data[\"Wind Speed\"], marker=\"o\", s=10)\n",
    "plt.title(\"City Latitude vs. Wind Speed\")\n",
    "plt.ylabel(\"Wind Speed (mph)\")\n",
    "plt.xlabel(\"Latitude\")\n",
    "plt.grid(True)\n",
    "\n",
    "plt.savefig(\"Fig 4 Wind_Speed_vs_Latitude.png\")\n",
    "\n",
    "plt.show()"
   ]
  },
  {
   "cell_type": "markdown",
   "metadata": {},
   "source": [
    "Figure 4 shows a distinct increase in wind speeds in the northern latitudes such as KlaksvÃk 43.73mph, 62.2266 lat. Again, as per figures prior mentioned the lack of data at lower latitudes in the Southern Hemisphere."
   ]
  },
  {
   "cell_type": "markdown",
   "metadata": {},
   "source": [
    "## Linear Regression"
   ]
  },
  {
   "cell_type": "code",
   "execution_count": 17,
   "metadata": {},
   "outputs": [],
   "source": [
    "northern_hemisphere = clean_city_data.loc[clean_city_data[\"Lat\"] >= 0]\n",
    "southern_hemisphere = clean_city_data.loc[clean_city_data[\"Lat\"] < 0]"
   ]
  },
  {
   "cell_type": "markdown",
   "metadata": {},
   "source": [
    "####  Northern Hemisphere - Max Temp vs. Latitude Linear Regression"
   ]
  },
  {
   "cell_type": "code",
   "execution_count": 18,
   "metadata": {},
   "outputs": [],
   "source": [
    "def linear_agression(x,y):\n",
    "    print(f\"The r-squared is : {round(st.pearsonr(x, y)[0],2)}\")\n",
    "    (slope, intercept, rvalue, pvalue, stderr) = linregress(x, y)\n",
    "    regress_values = x * slope + intercept\n",
    "    line_eq = \"y = \" + str(round(slope,2)) + \"x + \" + str(round(intercept,2))\n",
    "    plt.scatter(x, y)\n",
    "    plt.plot(x,regress_values,\"r-\")\n",
    "    return line_eq\n",
    "\n",
    "def annotate(line_eq, a, b):\n",
    "    plt.annotate(line_eq,(a,b),fontsize=15,color=\"red\")"
   ]
  },
  {
   "cell_type": "code",
   "execution_count": 19,
   "metadata": {},
   "outputs": [
    {
     "name": "stdout",
     "output_type": "stream",
     "text": [
      "The r-squared is : -0.86\n"
     ]
    },
    {
     "data": {
      "image/png": "[encoded data removed]",
      "text/plain": [
       "<Figure size 432x288 with 1 Axes>"
      ]
     },
     "metadata": {
      "needs_background": "light"
     },
     "output_type": "display_data"
    }
   ],
   "source": [
    "equation = linear_agression(northern_hemisphere[\"Lat\"], northern_hemisphere[\"Max Temp\"])\n",
    "\n",
    "\n",
    "annotate(equation, 0, -20)\n",
    "\n",
    "\n",
    "plt.title(\"Northern Hemisphere - Max Temp vs. Latitude Linear Regression\")\n",
    "\n",
    "\n",
    "plt.xlabel(\"Latitude\")\n",
    "\n",
    "\n",
    "plt.ylabel(\"Max Temp (F)\")\n",
    "\n",
    "\n",
    "plt.savefig(\"Fig 5 Northern Hemisphere Max Temp vs. Latitude Linear Regression.png\")"
   ]
  },
  {
   "cell_type": "markdown",
   "metadata": {},
   "source": [
    "####  Southern Hemisphere - Max Temp vs. Latitude Linear Regression"
   ]
  },
  {
   "cell_type": "code",
   "execution_count": 20,
   "metadata": {
    "scrolled": false
   },
   "outputs": [
    {
     "name": "stdout",
     "output_type": "stream",
     "text": [
      "The r-squared is : 0.39\n"
     ]
    },
    {
     "data": {
      "image/png": "[encoded data removed]",
      "text/plain": [
       "<Figure size 432x288 with 1 Axes>"
      ]
     },
     "metadata": {
      "needs_background": "light"
     },
     "output_type": "display_data"
    }
   ],
   "source": [
    "equation = linear_agression(southern_hemisphere[\"Lat\"], southern_hemisphere[\"Max Temp\"])\n",
    "\n",
    "\n",
    "annotate(equation, -50, 50)\n",
    "\n",
    "\n",
    "plt.title(\"Southern Hemisphere - Max Temp vs. Latitude Linear Regression\")\n",
    "\n",
    "\n",
    "plt.xlabel(\"Latitude\")\n",
    "\n",
    "\n",
    "plt.ylabel(\"Max Temp (F)\")\n",
    "\n",
    "\n",
    "plt.savefig(\"Fig 6 Southern Hemisphere Max Temp vs. Latitude Linear Regression.png\")"
   ]
  },
  {
   "cell_type": "markdown",
   "metadata": {},
   "source": [
    "Figures 5 & 6 show that tempperature has a clear (but weak) correlation as cities are closer to the equator. Having said this - the Southern Hemisphere have a significant amount of land mass within proximity of the equator and close to the tropic of capricorn (-23.27 degrees). As a result you can see the the Linear Regression is flattened compared to the Northern Hemisphere."
   ]
  },
  {
   "cell_type": "markdown",
   "metadata": {},
   "source": [
    "####  Northern Hemisphere - Humidity (%) vs. Latitude Linear Regression"
   ]
  },
  {
   "cell_type": "code",
   "execution_count": 21,
   "metadata": {},
   "outputs": [
    {
     "name": "stdout",
     "output_type": "stream",
     "text": [
      "The r-squared is : 0.32\n"
     ]
    },
    {
     "data": {
      "image/png": "[encoded data removed]",
      "text/plain": [
       "<Figure size 432x288 with 1 Axes>"
      ]
     },
     "metadata": {
      "needs_background": "light"
     },
     "output_type": "display_data"
    }
   ],
   "source": [
    "equation = linear_agression(northern_hemisphere[\"Lat\"], northern_hemisphere[\"Humidity\"])\n",
    "\n",
    "\n",
    "annotate(equation, 40, 15)\n",
    "\n",
    "\n",
    "plt.title(\"Northern Hemisphere - Humidity vs. Latitude Linear Regression\")\n",
    "\n",
    "\n",
    "plt.xlabel(\"Latitude\")\n",
    "\n",
    "\n",
    "plt.ylabel(\"Humidity (%)\")\n",
    "\n",
    "\n",
    "plt.savefig(\"Fig 7 Northern Hemisphere Humidity vs. Latitude Linear Regression.png\")"
   ]
  },
  {
   "cell_type": "markdown",
   "metadata": {},
   "source": [
    "####  Southern Hemisphere - Humidity (%) vs. Latitude Linear Regression"
   ]
  },
  {
   "cell_type": "code",
   "execution_count": 22,
   "metadata": {
    "scrolled": true
   },
   "outputs": [
    {
     "name": "stdout",
     "output_type": "stream",
     "text": [
      "The r-squared is : 0.38\n"
     ]
    },
    {
     "data": {
      "image/png": "[encoded data removed]",
      "text/plain": [
       "<Figure size 432x288 with 1 Axes>"
      ]
     },
     "metadata": {
      "needs_background": "light"
     },
     "output_type": "display_data"
    }
   ],
   "source": [
    "equation = linear_agression(southern_hemisphere[\"Lat\"], southern_hemisphere[\"Humidity\"])\n",
    "\n",
    "\n",
    "annotate(equation, -40, 30)\n",
    "\n",
    "\n",
    "plt.title(\"Southern Hemisphere - Humidity vs. Latitude Linear Regression\")\n",
    "\n",
    "\n",
    "plt.xlabel(\"Latitude\")\n",
    "\n",
    "\n",
    "plt.ylabel(\"Humidity (%)\")\n",
    "\n",
    "\n",
    "plt.savefig(\"Fig 8 Southern Hemisphere Humidity vs. Latitude Linear Regression.png\")"
   ]
  },
  {
   "cell_type": "markdown",
   "metadata": {},
   "source": [
    "Figures 7 & 8 Show a clear correlation that the closer you are to the equator - the higher the humidity. However, as seen in Fig 7, there is far more data points clustered for higher humidity levels across all latitudes. Again - there areconstraints on the data as more data points are collated in from the Northern Hemisphere."
   ]
  },
  {
   "cell_type": "markdown",
   "metadata": {},
   "source": [
    "####  Northern Hemisphere - Cloudiness (%) vs. Latitude Linear Regression"
   ]
  },
  {
   "cell_type": "code",
   "execution_count": 23,
   "metadata": {},
   "outputs": [
    {
     "name": "stdout",
     "output_type": "stream",
     "text": [
      "The r-squared is : 0.17\n"
     ]
    },
    {
     "data": {
      "image/png": "[encoded data removed]",
      "text/plain": [
       "<Figure size 432x288 with 1 Axes>"
      ]
     },
     "metadata": {
      "needs_background": "light"
     },
     "output_type": "display_data"
    }
   ],
   "source": [
    "equation = linear_agression(northern_hemisphere[\"Lat\"], northern_hemisphere[\"Cloudiness\"])\n",
    "\n",
    "\n",
    "annotate(equation, 25, 25)\n",
    "\n",
    "\n",
    "plt.title(\"Northern Hemisphere - Cloudiness vs. Latitude Linear Regression\")\n",
    "\n",
    "\n",
    "plt.xlabel(\"Latitude\")\n",
    "\n",
    "\n",
    "plt.ylabel(\"Cloudiness (%)\")\n",
    "\n",
    "\n",
    "plt.savefig(\"Fig 9 Northern Hemisphere Cloudiness vs. Latitude Linear Regression.png\")"
   ]
  },
  {
   "cell_type": "markdown",
   "metadata": {},
   "source": [
    "####  Southern Hemisphere - Cloudiness (%) vs. Latitude Linear Regression"
   ]
  },
  {
   "cell_type": "code",
   "execution_count": 24,
   "metadata": {},
   "outputs": [
    {
     "name": "stdout",
     "output_type": "stream",
     "text": [
      "The r-squared is : 0.46\n"
     ]
    },
    {
     "data": {
      "image/png": "[encoded data removed]",
      "text/plain": [
       "<Figure size 432x288 with 1 Axes>"
      ]
     },
     "metadata": {
      "needs_background": "light"
     },
     "output_type": "display_data"
    }
   ],
   "source": [
    "equation = linear_agression(southern_hemisphere[\"Lat\"], southern_hemisphere[\"Cloudiness\"])\n",
    "\n",
    "\n",
    "annotate(equation, -55, 45)\n",
    "\n",
    "\n",
    "plt.title(\"Southern Hemisphere - Cloudiness vs. Latitude Linear Regression\")\n",
    "\n",
    "\n",
    "plt.xlabel(\"Latitude\")\n",
    "\n",
    "\n",
    "plt.ylabel(\"Cloudiness (%)\")\n",
    "\n",
    "\n",
    "plt.savefig(\"Fig 10 Southern Hemisphere Cloudiness vs. Latitude Linear Regression.png\")"
   ]
  },
  {
   "cell_type": "markdown",
   "metadata": {},
   "source": [
    "Figures 9 & 10 unsurpringly, is significantly different given the variability between the differing seasons. As such there is not a great correlation as described previously."
   ]
  },
  {
   "cell_type": "markdown",
   "metadata": {},
   "source": [
    "####  Northern Hemisphere - Wind Speed (mph) vs. Latitude Linear Regression"
   ]
  },
  {
   "cell_type": "code",
   "execution_count": 25,
   "metadata": {},
   "outputs": [
    {
     "name": "stdout",
     "output_type": "stream",
     "text": [
      "The r-squared is : 0.05\n"
     ]
    },
    {
     "data": {
      "image/png": "[encoded data removed]",
      "text/plain": [
       "<Figure size 432x288 with 1 Axes>"
      ]
     },
     "metadata": {
      "needs_background": "light"
     },
     "output_type": "display_data"
    }
   ],
   "source": [
    "equation = linear_agression(northern_hemisphere[\"Lat\"], northern_hemisphere[\"Wind Speed\"])\n",
    "\n",
    "\n",
    "annotate(equation, 0, 27)\n",
    "\n",
    "\n",
    "plt.title(\"Northern Hemisphere - Wind Speed (mph) vs. Latitude Linear Regression\")\n",
    "\n",
    "\n",
    "plt.xlabel(\"Latitude\")\n",
    "\n",
    "\n",
    "plt.ylabel(\"Wind Speed (mph)\")\n",
    "\n",
    "\n",
    "plt.savefig(\"Fig 11 Northern Hemisphere Wind Speed vs. Latitude Linear Regression.png\")"
   ]
  },
  {
   "cell_type": "markdown",
   "metadata": {},
   "source": [
    "####  Southern Hemisphere - Wind Speed (mph) vs. Latitude Linear Regression"
   ]
  },
  {
   "cell_type": "code",
   "execution_count": 26,
   "metadata": {},
   "outputs": [
    {
     "name": "stdout",
     "output_type": "stream",
     "text": [
      "The r-squared is : -0.32\n"
     ]
    },
    {
     "data": {
      "image/png": "[encoded data removed]",
      "text/plain": [
       "<Figure size 432x288 with 1 Axes>"
      ]
     },
     "metadata": {
      "needs_background": "light"
     },
     "output_type": "display_data"
    }
   ],
   "source": [
    "equation = linear_agression(southern_hemisphere[\"Lat\"], southern_hemisphere[\"Wind Speed\"])\n",
    "\n",
    "\n",
    "annotate(equation, -40, 25)\n",
    "\n",
    "\n",
    "plt.title(\"Southern Hemisphere - Wind Speed (mph) vs. Latitude Linear Regression\")\n",
    "\n",
    "\n",
    "plt.xlabel(\"Latitude\")\n",
    "\n",
    "\n",
    "plt.ylabel(\"Wind Speed (mph)\")\n",
    "\n",
    "\n",
    "plt.savefig(\"Fig 12 Southern Hemisphere Wind Speed vs. Latitude Linear Regression.png\")"
   ]
  },
  {
   "cell_type": "markdown",
   "metadata": {},
   "source": [
    "Figures 11 & 12 show an inverse relationship. As where in the Northern Hemisphere, winds are slightly higher towards the equator, in the Southern Hemisphere they are higher towards mid and lower latitudes latitudes. This is primarily due to what are commonly known as the 'roaring forties' and 'furious fifties' - these winds are present in both hemisphere's, however, given the lower number of data poiints for the Southern Hemisphere, it gives a much clearer visualisation."
   ]
  }
 ],
 "metadata": {
  "anaconda-cloud": {},
  "kernel_info": {
   "name": "python3"
  },
  "kernelspec": {
   "display_name": "Python 3",
   "language": "python",
   "name": "python3"
  },
  "language_info": {
   "codemirror_mode": {
    "name": "ipython",
    "version": 3
   },
   "file_extension": ".py",
   "mimetype": "text/x-python",
   "name": "python",
   "nbconvert_exporter": "python",
   "pygments_lexer": "ipython3",
   "version": "3.8.5"
  },
  "latex_envs": {
   "LaTeX_envs_menu_present": true,
   "autoclose": false,
   "autocomplete": true,
   "bibliofile": "biblio.bib",
   "cite_by": "apalike",
   "current_citInitial": 1,
   "eqLabelWithNumbers": true,
   "eqNumInitial": 1,
   "hotkeys": {
    "equation": "Ctrl-E",
    "itemize": "Ctrl-I"
   },
   "labels_anchors": false,
   "latex_user_defs": false,
   "report_style_numbering": false,
   "user_envs_cfg": false
  },
  "nteract": {
   "version": "0.12.3"
  }
 },
 "nbformat": 4,
 "nbformat_minor": 2
}
