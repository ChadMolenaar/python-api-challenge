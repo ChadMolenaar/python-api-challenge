{
 "cells": [
  {
   "cell_type": "markdown",
   "metadata": {},
   "source": [
    "# WeatherPy\n",
    "----\n",
    "\n",
    "### Summary of WeatherPy"
   ]
  },
  {
   "cell_type": "markdown",
   "metadata": {},
   "source": [
    "#### Code Analysis & Experience:"
   ]
  },
  {
   "cell_type": "markdown",
   "metadata": {},
   "source": [
    "Using a random structure was a quite informative and novel exercise given so many data points that were available to be analised, tabulated and plotted. As each time the code (Kernel) was restarted and output cleared a different set of cities and the related data within the Northern and Southern Hemisphere showed only modest changes with respect to the weather outputs along the reandomly generated latitudes and longtitudes.\n",
    "\n",
    "To be honest, I found a fault in my code that represented maximum temperatures that exceeded 300 degrees F. After many attempts,I had noticed I had unintentionally left out units within the url query. As a result, this skewed my results significantly in that regard, however the plots had minimal change (in terms of visual comparisons). Once I had rectified the issue, my maximum temperatures lowered to a more reasonable and believable max F.\n",
    "\n",
    "A second great learning experience was the annotation within my Linear Regressions. Running through the diagrams I noticed something wrong - I could not see some of the results displayed within the figure and some I could see off centre or in areas where you could not acurately visualise what it was representing. As a result of researching - I found myself feeling a little foolish as I had left the annotation at 0, 0. So a simple mistake but one I was happy to fix and test to see where the best place was to locate it within the model/diagrams to give a clearer and better visual impact. The problem here is if you refresh the kernel, it will again change the data output positioning. This is somewhat of an issue as it will have to be changed again to give the best VISUAL aspect. \n",
    "\n",
    "The step by step process, of creating a Python script to locate cities, then numpy to randomly select and OpenweatherPy to link all of the data together was a great experience to see and learn the power of adding layer upon layer of initial data to present a final product (in this notebook) of scatter plots and linear regression models."
   ]
  },
  {
   "cell_type": "markdown",
   "metadata": {},
   "source": [
    "#### General Analysis:"
   ]
  },
  {
   "cell_type": "markdown",
   "metadata": {},
   "source": [
    "For all scatter plots and linear regression models there are summaries for each listed, as per the instructions with the exception of the scatterplots. Here I have added many observations and trends that can account for differences and / or similarities between each.\n",
    "\n",
    "Having said that - the primary (or initial question) of: -\n",
    "\n",
    "\"What's the weather like as we approach the equator?\"\n",
    "\n",
    "Now, we know what you may be thinking: _\"Duh. It gets hotter...\"_\n",
    "\n",
    "But, if pressed, how would you **prove** it?\n",
    "\n",
    "Well, there is some truth to it being hotter closer to the equator - however looking into it closer - you will see that in particular, the Southern Hemisphere has higher temperatures at lower (from the base of the equator) latitudes in many instances. This can be attributed to many factors, and land mass and positioning is one. If you scroll through the data saved in the .csv file you will see a varying difference dependent upon land mass / location.\n",
    "\n",
    "A clear example is in the original.csv file. Australia - Perth (Lat -31.3) has a max temp average of 79'F However, average for Australia is 85.29'F with Latitudes ranging from -12.23 through -42.88.\n",
    "\n",
    "In this instance, the closer you are to the equator it would seem the hotter it would be as logic suggests. However -12.23 latitude (Nhulunbuy) max temp is 82.4'F as where -42.88 (Hobart) had a max temp of 86'F\n",
    "\n",
    "Another example is proximity to oceans, and oceanic currents and atmospheric elements.\n",
    "\n",
    "In the above example, humidity changes significantly between the two. The closer you are in the Southern Hemisphere to the equator, generally the higher the humidity closer to the coast. Nhulunbuy's humidity is a staggering 89% as where Hobart's was 41%. Both are coastal townships/cities. \n",
    "\n",
    "In the Northern Hemisphere, taking similar co-ordinates, Erie, a city in Pennsylvania (Lat 42.77) has a humidity of 82% and max temp of 9'F. Hilo, in the state of Hawaii, often considered a tropical place at latitude 19.73 has a humidity lower at 73% and a higher max temp 75.2.\n",
    "\n",
    "Hobart and Pennsylvania both have cooler waters surrounding them as where Hilo and Nhulunbuy are surrounded by warmer waters.\n",
    "\n",
    "Lastly and in conclusion - perhaps the biggest point to make here also, is the point in time when the data was taken. The difference of the tilt and rotation of the Earth itself will have an enourmous change on the data. When this data was taken it is clear that it is winter in the Northern Hemisphere and summer in the Southern Hemisphere. A better analysis would be achieved with the same data set for either the winter or summer periods.\n"
   ]
  },
  {
   "cell_type": "code",
   "execution_count": 1,
   "metadata": {
    "scrolled": false
   },
   "outputs": [],
   "source": [
    "import requests\n",
    "import json\n",
    "import pandas as pd\n",
    "import numpy as np\n",
    "from citipy import citipy\n",
    "from config import api_key\n",
    "import matplotlib.pyplot as plt\n",
    "import scipy.stats as st\n",
    "from scipy.stats import linregress\n",
    "\n",
    "weatherpy = \"output_data/cities.csv\""
   ]
  },
  {
   "cell_type": "code",
   "execution_count": 2,
   "metadata": {},
   "outputs": [],
   "source": [
    "url = \"http://api.openweathermap.org/data/2.5/weather?\"\n",
    "units = \"imperial\"\n",
    "# Build partial query URL\n",
    "query_url = f\"{url}appid={api_key}&units={units}&q=\"\n"
   ]
  },
  {
   "cell_type": "markdown",
   "metadata": {},
   "source": [
    "## Generate Cities List"
   ]
  },
  {
   "cell_type": "code",
   "execution_count": 3,
   "metadata": {},
   "outputs": [
    {
     "data": {
      "text/plain": [
       "754"
      ]
     },
     "execution_count": 3,
     "metadata": {},
     "output_type": "execute_result"
    }
   ],
   "source": [
    "# List for holding lat_lngs and cities\n",
    "lat = []\n",
    "lng = []\n",
    "cities = []\n",
    "\n",
    "# Create a set of random lat and lng combinations\n",
    "lat = np.random.uniform(-90.0, 90.0, size=2000)\n",
    "lng = np.random.uniform(-180, 180, size=2000)\n",
    "lat_lng = zip(lat, lng)\n",
    "\n",
    "# Identify nearest city for each lat, lng combination\n",
    "for item in lat_lng:\n",
    "    city = citipy.nearest_city(item[0], item[1]).city_name\n",
    "    \n",
    "    # If the city is unique, then add it to a our cities list\n",
    "    if city not in cities:\n",
    "        cities.append(city)\n",
    "\n",
    "# Print the city count to confirm sufficient count\n",
    "len(cities)"
   ]
  },
  {
   "cell_type": "markdown",
   "metadata": {},
   "source": [
    "### Perform API Calls\n",
    "* Perform a weather check on each city using a series of successive API calls.\n",
    "* Include a print log of each city as it'sbeing processed (with the city number and city name).\n"
   ]
  },
  {
   "cell_type": "code",
   "execution_count": 4,
   "metadata": {
    "scrolled": true
   },
   "outputs": [
    {
     "name": "stdout",
     "output_type": "stream",
     "text": [
      "Begining Data Retrieval\n",
      "-------------------------------\n",
      "City not found. Skipping...\n",
      "Processing Record 1 of Set 1 | port elizabeth\n",
      "Processing Record 2 of Set 1 | rikitea\n",
      "City not found. Skipping...\n",
      "Processing Record 3 of Set 1 | nueva guinea\n",
      "Processing Record 4 of Set 1 | tasiilaq\n",
      "City not found. Skipping...\n",
      "Processing Record 5 of Set 1 | ushuaia\n",
      "Processing Record 6 of Set 1 | mar del plata\n",
      "Processing Record 7 of Set 1 | pevek\n",
      "Processing Record 8 of Set 1 | thompson\n",
      "City not found. Skipping...\n",
      "Processing Record 9 of Set 1 | yulara\n",
      "City not found. Skipping...\n",
      "Processing Record 10 of Set 1 | port hardy\n",
      "Processing Record 11 of Set 1 | busselton\n",
      "City not found. Skipping...\n",
      "Processing Record 12 of Set 1 | cape town\n",
      "Processing Record 13 of Set 1 | maniitsoq\n",
      "Processing Record 14 of Set 1 | ribeira grande\n",
      "Processing Record 15 of Set 1 | oriximina\n",
      "Processing Record 16 of Set 1 | albany\n",
      "Processing Record 17 of Set 1 | sao filipe\n",
      "Processing Record 18 of Set 1 | tura\n",
      "Processing Record 19 of Set 1 | vaini\n",
      "Processing Record 20 of Set 1 | tuktoyaktuk\n",
      "City not found. Skipping...\n",
      "Processing Record 21 of Set 1 | touros\n",
      "Processing Record 22 of Set 1 | punta arenas\n",
      "Processing Record 23 of Set 1 | noumea\n",
      "Processing Record 24 of Set 1 | rawson\n",
      "Processing Record 25 of Set 1 | banisilan\n",
      "Processing Record 26 of Set 1 | arlit\n",
      "Processing Record 27 of Set 1 | palu\n",
      "Processing Record 28 of Set 1 | avarua\n",
      "Processing Record 29 of Set 1 | puerto escondido\n",
      "Processing Record 30 of Set 1 | dikson\n",
      "City not found. Skipping...\n",
      "Processing Record 31 of Set 1 | billings\n",
      "Processing Record 32 of Set 1 | point fortin\n",
      "Processing Record 33 of Set 1 | arraial do cabo\n",
      "Processing Record 34 of Set 1 | hay river\n",
      "Processing Record 35 of Set 1 | moshkovo\n",
      "Processing Record 36 of Set 1 | nanortalik\n",
      "Processing Record 37 of Set 1 | batagay-alyta\n",
      "City not found. Skipping...\n",
      "Processing Record 38 of Set 1 | caxito\n",
      "Processing Record 39 of Set 1 | guerrero negro\n",
      "Processing Record 40 of Set 1 | mutsu\n",
      "Processing Record 41 of Set 1 | bad doberan\n",
      "Processing Record 42 of Set 1 | oum hadjer\n",
      "Processing Record 43 of Set 1 | georgetown\n",
      "Processing Record 44 of Set 1 | esperance\n",
      "City not found. Skipping...\n",
      "Processing Record 45 of Set 1 | araceli\n",
      "Processing Record 46 of Set 1 | bandarbeyla\n",
      "Processing Record 47 of Set 1 | havre\n",
      "Processing Record 48 of Set 1 | kapaa\n",
      "Processing Record 49 of Set 1 | khatanga\n",
      "Processing Record 50 of Set 1 | puerto ayora\n",
      "Processing Record 0 of Set 2 | vung tau\n",
      "City not found. Skipping...\n",
      "Processing Record 1 of Set 2 | clyde river\n",
      "Processing Record 2 of Set 2 | fort nelson\n",
      "City not found. Skipping...\n",
      "Processing Record 3 of Set 2 | zhanaozen\n",
      "Processing Record 4 of Set 2 | haines junction\n",
      "Processing Record 5 of Set 2 | shumskiy\n",
      "City not found. Skipping...\n",
      "Processing Record 6 of Set 2 | abha\n",
      "Processing Record 7 of Set 2 | samarai\n",
      "Processing Record 8 of Set 2 | nikolskoye\n",
      "Processing Record 9 of Set 2 | severiano melo\n",
      "Processing Record 10 of Set 2 | east london\n",
      "Processing Record 11 of Set 2 | cingoli\n",
      "Processing Record 12 of Set 2 | kruisfontein\n",
      "Processing Record 13 of Set 2 | hermanus\n",
      "Processing Record 14 of Set 2 | mount isa\n",
      "Processing Record 15 of Set 2 | barrow\n",
      "Processing Record 16 of Set 2 | presidencia roque saenz pena\n",
      "Processing Record 17 of Set 2 | saint-pierre\n",
      "Processing Record 18 of Set 2 | knyaze-volkonskoye\n",
      "Processing Record 19 of Set 2 | oakdale\n",
      "Processing Record 20 of Set 2 | yeppoon\n",
      "Processing Record 21 of Set 2 | breytovo\n",
      "City not found. Skipping...\n",
      "City not found. Skipping...\n",
      "Processing Record 22 of Set 2 | ortega\n",
      "Processing Record 23 of Set 2 | lorengau\n",
      "Processing Record 24 of Set 2 | cordoba\n",
      "Processing Record 25 of Set 2 | cherskiy\n",
      "Processing Record 26 of Set 2 | kodiak\n",
      "Processing Record 27 of Set 2 | ust-omchug\n",
      "Processing Record 28 of Set 2 | gilgit\n",
      "Processing Record 29 of Set 2 | mataura\n",
      "Processing Record 30 of Set 2 | turukhansk\n",
      "Processing Record 31 of Set 2 | lavrentiya\n",
      "Processing Record 32 of Set 2 | saskylakh\n",
      "Processing Record 33 of Set 2 | butaritari\n",
      "Processing Record 34 of Set 2 | bredasdorp\n",
      "Processing Record 35 of Set 2 | yellowknife\n",
      "Processing Record 36 of Set 2 | burgeo\n",
      "Processing Record 37 of Set 2 | shiyan\n",
      "Processing Record 38 of Set 2 | isla vista\n",
      "Processing Record 39 of Set 2 | ust-kulom\n",
      "Processing Record 40 of Set 2 | shenjiamen\n",
      "Processing Record 41 of Set 2 | ancud\n",
      "Processing Record 42 of Set 2 | jardim\n",
      "Processing Record 43 of Set 2 | avera\n",
      "City not found. Skipping...\n",
      "Processing Record 44 of Set 2 | srivardhan\n",
      "Processing Record 45 of Set 2 | mombetsu\n",
      "Processing Record 46 of Set 2 | saldanha\n",
      "Processing Record 47 of Set 2 | carnarvon\n",
      "Processing Record 48 of Set 2 | wamba\n",
      "Processing Record 49 of Set 2 | green river\n",
      "Processing Record 50 of Set 2 | imbituba\n",
      "Processing Record 0 of Set 3 | smirnykh\n",
      "Processing Record 1 of Set 3 | saint austell\n",
      "Processing Record 2 of Set 3 | roura\n",
      "Processing Record 3 of Set 3 | kautokeino\n",
      "City not found. Skipping...\n",
      "Processing Record 4 of Set 3 | palmer\n",
      "Processing Record 5 of Set 3 | porto velho\n",
      "City not found. Skipping...\n",
      "Processing Record 6 of Set 3 | atuona\n",
      "Processing Record 7 of Set 3 | camocim\n",
      "Processing Record 8 of Set 3 | wanning\n",
      "City not found. Skipping...\n",
      "Processing Record 9 of Set 3 | kavieng\n",
      "Processing Record 10 of Set 3 | villazon\n",
      "Processing Record 11 of Set 3 | pemba\n",
      "City not found. Skipping...\n",
      "Processing Record 12 of Set 3 | ponta do sol\n",
      "Processing Record 13 of Set 3 | fereydun kenar\n",
      "Processing Record 14 of Set 3 | stokmarknes\n",
      "City not found. Skipping...\n",
      "Processing Record 15 of Set 3 | santa cruz\n",
      "Processing Record 16 of Set 3 | taoudenni\n",
      "Processing Record 17 of Set 3 | fraserburgh\n",
      "Processing Record 18 of Set 3 | ilulissat\n",
      "City not found. Skipping...\n",
      "Processing Record 19 of Set 3 | coahuayana\n",
      "Processing Record 20 of Set 3 | berdigestyakh\n",
      "Processing Record 21 of Set 3 | bambanglipuro\n",
      "Processing Record 22 of Set 3 | baykit\n",
      "Processing Record 23 of Set 3 | naron\n",
      "Processing Record 24 of Set 3 | fairbanks\n",
      "Processing Record 25 of Set 3 | anchorage\n",
      "Processing Record 26 of Set 3 | khandagayty\n",
      "Processing Record 27 of Set 3 | olinda\n",
      "Processing Record 28 of Set 3 | faanui\n",
      "Processing Record 29 of Set 3 | aranos\n",
      "Processing Record 30 of Set 3 | gorontalo\n",
      "City not found. Skipping...\n",
      "Processing Record 31 of Set 3 | mamakan\n",
      "Processing Record 32 of Set 3 | pavlohrad\n",
      "Processing Record 33 of Set 3 | jalu\n",
      "Processing Record 34 of Set 3 | sao joao da barra\n",
      "Processing Record 35 of Set 3 | saint-philippe\n",
      "Processing Record 36 of Set 3 | victoria\n",
      "Processing Record 37 of Set 3 | north bend\n",
      "Processing Record 38 of Set 3 | oranjestad\n",
      "Processing Record 39 of Set 3 | luanda\n",
      "Processing Record 40 of Set 3 | xining\n",
      "Processing Record 41 of Set 3 | grindavik\n",
      "Processing Record 42 of Set 3 | yoichi\n",
      "Processing Record 43 of Set 3 | port blair\n",
      "Processing Record 44 of Set 3 | faya\n",
      "Processing Record 45 of Set 3 | souillac\n",
      "Processing Record 46 of Set 3 | constitucion\n",
      "Processing Record 47 of Set 3 | jamestown\n",
      "Processing Record 48 of Set 3 | kamenka\n",
      "Processing Record 49 of Set 3 | airai\n",
      "Processing Record 50 of Set 3 | carroll\n",
      "Processing Record 0 of Set 4 | el sauce\n",
      "Processing Record 1 of Set 4 | fort saint james\n",
      "Processing Record 2 of Set 4 | saint stephen\n",
      "Processing Record 3 of Set 4 | nhlangano\n",
      "Processing Record 4 of Set 4 | krasnoselkup\n",
      "Processing Record 5 of Set 4 | college\n",
      "Processing Record 6 of Set 4 | moree\n",
      "Processing Record 7 of Set 4 | bambous virieux\n",
      "Processing Record 8 of Set 4 | lebu\n",
      "Processing Record 9 of Set 4 | oktyabrskiy\n",
      "Processing Record 10 of Set 4 | paita\n",
      "Processing Record 11 of Set 4 | lanquin\n",
      "Processing Record 12 of Set 4 | hays\n",
      "Processing Record 13 of Set 4 | marmashen\n",
      "Processing Record 14 of Set 4 | paka\n",
      "Processing Record 15 of Set 4 | namibe\n",
      "Processing Record 16 of Set 4 | chokurdakh\n",
      "Processing Record 17 of Set 4 | kismayo\n",
      "City not found. Skipping...\n",
      "Processing Record 18 of Set 4 | lisala\n",
      "Processing Record 19 of Set 4 | bonthe\n",
      "City not found. Skipping...\n",
      "Processing Record 20 of Set 4 | san quintin\n",
      "Processing Record 21 of Set 4 | mnogovershinnyy\n",
      "Processing Record 22 of Set 4 | saint-augustin\n",
      "Processing Record 23 of Set 4 | banjarmasin\n",
      "Processing Record 24 of Set 4 | bethel\n",
      "Processing Record 25 of Set 4 | okhotsk\n",
      "Processing Record 26 of Set 4 | grand gaube\n"
     ]
    },
    {
     "name": "stdout",
     "output_type": "stream",
     "text": [
      "Processing Record 27 of Set 4 | saint george\n",
      "City not found. Skipping...\n",
      "Processing Record 28 of Set 4 | garmsar\n",
      "Processing Record 29 of Set 4 | ambagarh chauki\n",
      "Processing Record 30 of Set 4 | kahului\n",
      "Processing Record 31 of Set 4 | henties bay\n",
      "Processing Record 32 of Set 4 | ayan\n",
      "City not found. Skipping...\n",
      "Processing Record 33 of Set 4 | gat\n",
      "City not found. Skipping...\n",
      "Processing Record 34 of Set 4 | kudahuvadhoo\n",
      "City not found. Skipping...\n",
      "Processing Record 35 of Set 4 | bluff\n",
      "Processing Record 36 of Set 4 | sisimiut\n",
      "Processing Record 37 of Set 4 | ambanja\n",
      "Processing Record 38 of Set 4 | mustasaari\n",
      "Processing Record 39 of Set 4 | ust-nera\n",
      "Processing Record 40 of Set 4 | iskateley\n",
      "Processing Record 41 of Set 4 | iguape\n",
      "Processing Record 42 of Set 4 | cabo san lucas\n",
      "Processing Record 43 of Set 4 | sorland\n",
      "Processing Record 44 of Set 4 | mecca\n",
      "Processing Record 45 of Set 4 | okoneshnikovo\n",
      "Processing Record 46 of Set 4 | hasaki\n",
      "City not found. Skipping...\n",
      "Processing Record 47 of Set 4 | naze\n",
      "Processing Record 48 of Set 4 | longyearbyen\n",
      "Processing Record 49 of Set 4 | corn island\n",
      "Processing Record 50 of Set 4 | jesup\n",
      "Processing Record 0 of Set 5 | whitefish\n",
      "City not found. Skipping...\n",
      "Processing Record 1 of Set 5 | omboue\n",
      "Processing Record 2 of Set 5 | marrakesh\n",
      "City not found. Skipping...\n",
      "Processing Record 3 of Set 5 | egvekinot\n",
      "Processing Record 4 of Set 5 | tiksi\n",
      "Processing Record 5 of Set 5 | new norfolk\n",
      "Processing Record 6 of Set 5 | marawi\n",
      "Processing Record 7 of Set 5 | toowoomba\n",
      "City not found. Skipping...\n",
      "Processing Record 8 of Set 5 | asau\n",
      "Processing Record 9 of Set 5 | kaniama\n",
      "Processing Record 10 of Set 5 | dogondoutchi\n",
      "Processing Record 11 of Set 5 | ankara\n",
      "Processing Record 12 of Set 5 | lompoc\n",
      "City not found. Skipping...\n",
      "Processing Record 13 of Set 5 | broome\n",
      "Processing Record 14 of Set 5 | cockburn town\n",
      "Processing Record 15 of Set 5 | springdale\n",
      "City not found. Skipping...\n",
      "Processing Record 16 of Set 5 | yumen\n",
      "Processing Record 17 of Set 5 | surgut\n",
      "Processing Record 18 of Set 5 | sibolga\n",
      "City not found. Skipping...\n",
      "Processing Record 19 of Set 5 | pacific grove\n",
      "Processing Record 20 of Set 5 | labuhan\n",
      "Processing Record 21 of Set 5 | jutai\n",
      "City not found. Skipping...\n",
      "City not found. Skipping...\n",
      "Processing Record 22 of Set 5 | mandera\n",
      "Processing Record 23 of Set 5 | zhigansk\n",
      "Processing Record 24 of Set 5 | castro\n",
      "Processing Record 25 of Set 5 | fare\n",
      "Processing Record 26 of Set 5 | northam\n",
      "Processing Record 27 of Set 5 | port-gentil\n",
      "Processing Record 28 of Set 5 | ondarroa\n",
      "City not found. Skipping...\n",
      "Processing Record 29 of Set 5 | iqaluit\n",
      "City not found. Skipping...\n",
      "Processing Record 30 of Set 5 | kenai\n",
      "Processing Record 31 of Set 5 | nouadhibou\n",
      "Processing Record 32 of Set 5 | nampula\n",
      "Processing Record 33 of Set 5 | baculin\n",
      "Processing Record 34 of Set 5 | leningradskiy\n",
      "Processing Record 35 of Set 5 | nampa\n",
      "Processing Record 36 of Set 5 | rio grande\n",
      "Processing Record 37 of Set 5 | sabang\n",
      "Processing Record 38 of Set 5 | bara\n",
      "City not found. Skipping...\n",
      "Processing Record 39 of Set 5 | puerto madryn\n",
      "Processing Record 40 of Set 5 | diamantino\n",
      "City not found. Skipping...\n",
      "Processing Record 41 of Set 5 | kropotkin\n",
      "Processing Record 42 of Set 5 | talnakh\n",
      "City not found. Skipping...\n",
      "Processing Record 43 of Set 5 | quatre cocos\n",
      "Processing Record 44 of Set 5 | upernavik\n",
      "City not found. Skipping...\n",
      "Processing Record 45 of Set 5 | maragogi\n",
      "City not found. Skipping...\n",
      "City not found. Skipping...\n",
      "Processing Record 46 of Set 5 | vila\n",
      "Processing Record 47 of Set 5 | katherine\n",
      "Processing Record 48 of Set 5 | harper\n",
      "Processing Record 49 of Set 5 | macae\n",
      "Processing Record 50 of Set 5 | plettenberg bay\n",
      "Processing Record 0 of Set 6 | butembo\n",
      "Processing Record 1 of Set 6 | dongsheng\n",
      "Processing Record 2 of Set 6 | ilorin\n",
      "Processing Record 3 of Set 6 | horadiz\n",
      "Processing Record 4 of Set 6 | cayenne\n",
      "Processing Record 5 of Set 6 | dunda\n",
      "Processing Record 6 of Set 6 | tuatapere\n",
      "City not found. Skipping...\n",
      "Processing Record 7 of Set 6 | alofi\n",
      "City not found. Skipping...\n",
      "Processing Record 8 of Set 6 | hofn\n",
      "Processing Record 9 of Set 6 | codrington\n",
      "Processing Record 10 of Set 6 | bonavista\n",
      "Processing Record 11 of Set 6 | buala\n",
      "Processing Record 12 of Set 6 | araouane\n",
      "City not found. Skipping...\n",
      "Processing Record 13 of Set 6 | nhulunbuy\n",
      "Processing Record 14 of Set 6 | saint anthony\n",
      "Processing Record 15 of Set 6 | merauke\n",
      "City not found. Skipping...\n",
      "Processing Record 16 of Set 6 | petropavlovsk-kamchatskiy\n",
      "Processing Record 17 of Set 6 | kloulklubed\n",
      "Processing Record 18 of Set 6 | mareeba\n",
      "City not found. Skipping...\n",
      "Processing Record 19 of Set 6 | tabou\n",
      "Processing Record 20 of Set 6 | vila franca do campo\n",
      "City not found. Skipping...\n",
      "Processing Record 21 of Set 6 | corinto\n",
      "Processing Record 22 of Set 6 | terekli-mekteb\n",
      "City not found. Skipping...\n",
      "City not found. Skipping...\n",
      "Processing Record 23 of Set 6 | homer\n",
      "Processing Record 24 of Set 6 | berlevag\n",
      "City not found. Skipping...\n",
      "Processing Record 25 of Set 6 | torbay\n",
      "Processing Record 26 of Set 6 | isla mujeres\n",
      "Processing Record 27 of Set 6 | comodoro rivadavia\n",
      "Processing Record 28 of Set 6 | neuquen\n",
      "City not found. Skipping...\n",
      "Processing Record 29 of Set 6 | narsaq\n",
      "Processing Record 30 of Set 6 | ambulu\n",
      "Processing Record 31 of Set 6 | buchanan\n",
      "Processing Record 32 of Set 6 | salalah\n",
      "Processing Record 33 of Set 6 | lasa\n",
      "Processing Record 34 of Set 6 | zalantun\n",
      "Processing Record 35 of Set 6 | manono\n",
      "Processing Record 36 of Set 6 | zhicheng\n",
      "Processing Record 37 of Set 6 | erie\n",
      "Processing Record 38 of Set 6 | bengkulu\n",
      "Processing Record 39 of Set 6 | pathein\n",
      "Processing Record 40 of Set 6 | laguna\n",
      "Processing Record 41 of Set 6 | moyale\n",
      "Processing Record 42 of Set 6 | lata\n",
      "Processing Record 43 of Set 6 | muyezerskiy\n",
      "Processing Record 44 of Set 6 | sistranda\n",
      "Processing Record 45 of Set 6 | polovinnoye\n",
      "Processing Record 46 of Set 6 | alassio\n",
      "Processing Record 47 of Set 6 | coruripe\n",
      "Processing Record 48 of Set 6 | severobaykalsk\n",
      "Processing Record 49 of Set 6 | aberfeldy\n",
      "Processing Record 50 of Set 6 | sola\n",
      "Processing Record 0 of Set 7 | ucluelet\n",
      "City not found. Skipping...\n",
      "Processing Record 1 of Set 7 | sarangani\n",
      "Processing Record 2 of Set 7 | asfi\n",
      "City not found. Skipping...\n",
      "Processing Record 3 of Set 7 | yar-sale\n",
      "Processing Record 4 of Set 7 | iracoubo\n",
      "Processing Record 5 of Set 7 | mapimi\n",
      "Processing Record 6 of Set 7 | sussex\n",
      "Processing Record 7 of Set 7 | tiznit\n",
      "Processing Record 8 of Set 7 | markova\n",
      "Processing Record 9 of Set 7 | pekalongan\n",
      "Processing Record 10 of Set 7 | coihaique\n",
      "Processing Record 11 of Set 7 | fukue\n",
      "City not found. Skipping...\n",
      "City not found. Skipping...\n",
      "Processing Record 12 of Set 7 | caravelas\n",
      "Processing Record 13 of Set 7 | boa vista\n",
      "Processing Record 14 of Set 7 | windhoek\n",
      "Processing Record 15 of Set 7 | yerraguntla\n",
      "City not found. Skipping...\n",
      "Processing Record 16 of Set 7 | sibu\n",
      "Processing Record 17 of Set 7 | xilagani\n",
      "Processing Record 18 of Set 7 | waipawa\n",
      "City not found. Skipping...\n",
      "Processing Record 19 of Set 7 | vila velha\n",
      "Processing Record 20 of Set 7 | bela\n",
      "City not found. Skipping...\n",
      "Processing Record 21 of Set 7 | auki\n",
      "Processing Record 22 of Set 7 | karratha\n",
      "Processing Record 23 of Set 7 | zambezi\n",
      "Processing Record 24 of Set 7 | anloga\n",
      "Processing Record 25 of Set 7 | parana\n",
      "City not found. Skipping...\n",
      "Processing Record 26 of Set 7 | puerto baquerizo moreno\n",
      "Processing Record 27 of Set 7 | miraflores\n",
      "Processing Record 28 of Set 7 | mahebourg\n",
      "City not found. Skipping...\n",
      "Processing Record 29 of Set 7 | richards bay\n",
      "Processing Record 30 of Set 7 | oktyabrskoye\n",
      "Processing Record 31 of Set 7 | santiago del estero\n",
      "Processing Record 32 of Set 7 | la ronge\n",
      "Processing Record 33 of Set 7 | sebaste\n",
      "Processing Record 34 of Set 7 | norman wells\n",
      "Processing Record 35 of Set 7 | palmerston north\n",
      "City not found. Skipping...\n",
      "Processing Record 36 of Set 7 | honiara\n",
      "City not found. Skipping...\n",
      "Processing Record 37 of Set 7 | svetlaya\n",
      "Processing Record 38 of Set 7 | veraval\n",
      "Processing Record 39 of Set 7 | ouango\n",
      "Processing Record 40 of Set 7 | onverwacht\n",
      "Processing Record 41 of Set 7 | yepifan\n",
      "Processing Record 42 of Set 7 | srednekolymsk\n",
      "Processing Record 43 of Set 7 | katsuura\n",
      "Processing Record 44 of Set 7 | hamilton\n"
     ]
    },
    {
     "name": "stdout",
     "output_type": "stream",
     "text": [
      "Processing Record 45 of Set 7 | lewiston\n",
      "Processing Record 46 of Set 7 | saint-joseph\n",
      "Processing Record 47 of Set 7 | aklavik\n",
      "Processing Record 48 of Set 7 | balkanabat\n",
      "Processing Record 49 of Set 7 | maine-soroa\n",
      "Processing Record 50 of Set 7 | portland\n",
      "Processing Record 0 of Set 8 | sitka\n",
      "Processing Record 1 of Set 8 | husavik\n",
      "Processing Record 2 of Set 8 | tessalit\n",
      "Processing Record 3 of Set 8 | hovd\n",
      "Processing Record 4 of Set 8 | pervomayskiy\n",
      "Processing Record 5 of Set 8 | takab\n",
      "Processing Record 6 of Set 8 | conde\n",
      "Processing Record 7 of Set 8 | ariquemes\n",
      "Processing Record 8 of Set 8 | miyang\n",
      "Processing Record 9 of Set 8 | bermejo\n",
      "Processing Record 10 of Set 8 | gorno-altaysk\n",
      "Processing Record 11 of Set 8 | eureka\n",
      "Processing Record 12 of Set 8 | komsomolskiy\n",
      "Processing Record 13 of Set 8 | ekibastuz\n",
      "Processing Record 14 of Set 8 | talaya\n",
      "Processing Record 15 of Set 8 | chopinzinho\n",
      "Processing Record 16 of Set 8 | qarqin\n",
      "Processing Record 17 of Set 8 | lixourion\n",
      "Processing Record 18 of Set 8 | sept-iles\n",
      "Processing Record 19 of Set 8 | chesapeake\n",
      "Processing Record 20 of Set 8 | kayerkan\n",
      "Processing Record 21 of Set 8 | solnechnyy\n",
      "Processing Record 22 of Set 8 | goure\n",
      "Processing Record 23 of Set 8 | muros\n",
      "Processing Record 24 of Set 8 | baishishan\n",
      "Processing Record 25 of Set 8 | vardo\n",
      "Processing Record 26 of Set 8 | chapais\n",
      "Processing Record 27 of Set 8 | pio xii\n",
      "Processing Record 28 of Set 8 | gedo\n",
      "Processing Record 29 of Set 8 | alberton\n",
      "Processing Record 30 of Set 8 | luderitz\n",
      "Processing Record 31 of Set 8 | ukiah\n",
      "Processing Record 32 of Set 8 | marzuq\n",
      "Processing Record 33 of Set 8 | kostrzyn\n",
      "Processing Record 34 of Set 8 | manggar\n",
      "Processing Record 35 of Set 8 | formosa\n",
      "City not found. Skipping...\n",
      "Processing Record 36 of Set 8 | antofagasta\n",
      "Processing Record 37 of Set 8 | mehamn\n",
      "Processing Record 38 of Set 8 | moindou\n",
      "Processing Record 39 of Set 8 | aripuana\n",
      "Processing Record 40 of Set 8 | muskegon\n",
      "Processing Record 41 of Set 8 | sawtell\n",
      "Processing Record 42 of Set 8 | ust-ishim\n",
      "Processing Record 43 of Set 8 | qasigiannguit\n",
      "Processing Record 44 of Set 8 | pangnirtung\n",
      "City not found. Skipping...\n",
      "Processing Record 45 of Set 8 | gao\n",
      "Processing Record 46 of Set 8 | neiafu\n",
      "City not found. Skipping...\n",
      "Processing Record 47 of Set 8 | villefontaine\n",
      "Processing Record 48 of Set 8 | roald\n",
      "Processing Record 49 of Set 8 | jaffna\n",
      "Processing Record 50 of Set 8 | san juan\n",
      "Processing Record 0 of Set 9 | flagstaff\n",
      "City not found. Skipping...\n",
      "Processing Record 1 of Set 9 | aswan\n",
      "Processing Record 2 of Set 9 | smidovich\n",
      "Processing Record 3 of Set 9 | vengerovo\n",
      "Processing Record 4 of Set 9 | meulaboh\n",
      "Processing Record 5 of Set 9 | ahipara\n",
      "Processing Record 6 of Set 9 | wanlaweyn\n",
      "Processing Record 7 of Set 9 | san cristobal\n",
      "City not found. Skipping...\n",
      "Processing Record 8 of Set 9 | sampit\n",
      "Processing Record 9 of Set 9 | bilma\n",
      "Processing Record 10 of Set 9 | severo-yeniseyskiy\n",
      "Processing Record 11 of Set 9 | at-bashi\n",
      "Processing Record 12 of Set 9 | pereira barreto\n",
      "Processing Record 13 of Set 9 | starosubkhangulovo\n",
      "Processing Record 14 of Set 9 | namatanai\n",
      "Processing Record 15 of Set 9 | kozhva\n",
      "Processing Record 16 of Set 9 | moose factory\n",
      "Processing Record 17 of Set 9 | zhengjiatun\n",
      "Processing Record 18 of Set 9 | san patricio\n",
      "City not found. Skipping...\n",
      "City not found. Skipping...\n",
      "City not found. Skipping...\n",
      "Processing Record 19 of Set 9 | kirakira\n",
      "Processing Record 20 of Set 9 | lockhart\n",
      "Processing Record 21 of Set 9 | bilibino\n",
      "Processing Record 22 of Set 9 | yining\n",
      "Processing Record 23 of Set 9 | khasan\n",
      "Processing Record 24 of Set 9 | sorong\n",
      "Processing Record 25 of Set 9 | hewitt\n",
      "Processing Record 26 of Set 9 | altay\n",
      "Processing Record 27 of Set 9 | hami\n",
      "Processing Record 28 of Set 9 | anjiang\n",
      "Processing Record 29 of Set 9 | garden city\n",
      "Processing Record 30 of Set 9 | aguimes\n",
      "Processing Record 31 of Set 9 | nome\n",
      "Processing Record 32 of Set 9 | los llanos de aridane\n",
      "Processing Record 33 of Set 9 | luoyang\n",
      "Processing Record 34 of Set 9 | kihei\n",
      "Processing Record 35 of Set 9 | vieux fort\n",
      "Processing Record 36 of Set 9 | nguruka\n",
      "Processing Record 37 of Set 9 | bud\n",
      "Processing Record 38 of Set 9 | praia da vitoria\n",
      "Processing Record 39 of Set 9 | gresham\n",
      "Processing Record 40 of Set 9 | port macquarie\n",
      "Processing Record 41 of Set 9 | romitan\n",
      "Processing Record 42 of Set 9 | dingle\n",
      "Processing Record 43 of Set 9 | freeport\n",
      "Processing Record 44 of Set 9 | auchel\n",
      "Processing Record 45 of Set 9 | pizarro\n",
      "Processing Record 46 of Set 9 | tismana\n",
      "Processing Record 47 of Set 9 | ballarat\n",
      "Processing Record 48 of Set 9 | yerbogachen\n",
      "Processing Record 49 of Set 9 | pervomayskoye\n",
      "Processing Record 50 of Set 9 | rafai\n",
      "Processing Record 0 of Set 10 | mezen\n",
      "Processing Record 1 of Set 10 | emerald\n",
      "Processing Record 2 of Set 10 | anda\n",
      "Processing Record 3 of Set 10 | seoul\n",
      "City not found. Skipping...\n",
      "Processing Record 4 of Set 10 | klaksvik\n",
      "Processing Record 5 of Set 10 | zunyi\n",
      "Processing Record 6 of Set 10 | san francisco\n",
      "Processing Record 7 of Set 10 | xingyi\n",
      "Processing Record 8 of Set 10 | kaitangata\n",
      "Processing Record 9 of Set 10 | fengzhen\n",
      "Processing Record 10 of Set 10 | owo\n",
      "Processing Record 11 of Set 10 | casino\n",
      "Processing Record 12 of Set 10 | la tijera\n",
      "City not found. Skipping...\n",
      "Processing Record 13 of Set 10 | lloydminster\n",
      "City not found. Skipping...\n",
      "City not found. Skipping...\n",
      "Processing Record 14 of Set 10 | hudson bay\n",
      "City not found. Skipping...\n",
      "City not found. Skipping...\n",
      "Processing Record 15 of Set 10 | lithakia\n",
      "City not found. Skipping...\n",
      "Processing Record 16 of Set 10 | grimshaw\n",
      "Processing Record 17 of Set 10 | youhao\n",
      "City not found. Skipping...\n",
      "Processing Record 18 of Set 10 | kabelvag\n",
      "Processing Record 19 of Set 10 | natal\n",
      "Processing Record 20 of Set 10 | price\n",
      "Processing Record 21 of Set 10 | iquitos\n",
      "City not found. Skipping...\n",
      "Processing Record 22 of Set 10 | paullo\n",
      "Processing Record 23 of Set 10 | upington\n",
      "City not found. Skipping...\n",
      "City not found. Skipping...\n",
      "Processing Record 24 of Set 10 | murgab\n",
      "Processing Record 25 of Set 10 | talitsa\n",
      "Processing Record 26 of Set 10 | concordia\n",
      "Processing Record 27 of Set 10 | kerman\n",
      "Processing Record 28 of Set 10 | fujin\n",
      "Processing Record 29 of Set 10 | ballina\n",
      "Processing Record 30 of Set 10 | groningen\n",
      "Processing Record 31 of Set 10 | omsukchan\n",
      "City not found. Skipping...\n",
      "Processing Record 32 of Set 10 | salinopolis\n",
      "Processing Record 33 of Set 10 | sao fidelis\n",
      "Processing Record 34 of Set 10 | obera\n",
      "Processing Record 35 of Set 10 | skelleftea\n",
      "Processing Record 36 of Set 10 | beidao\n",
      "Processing Record 37 of Set 10 | moerai\n",
      "Processing Record 38 of Set 10 | mercedes\n",
      "Processing Record 39 of Set 10 | vredendal\n",
      "Processing Record 40 of Set 10 | lagoa\n",
      "Processing Record 41 of Set 10 | nishihara\n",
      "Processing Record 42 of Set 10 | te anau\n",
      "Processing Record 43 of Set 10 | sur\n",
      "Processing Record 44 of Set 10 | geraldton\n",
      "Processing Record 45 of Set 10 | gornopravdinsk\n",
      "City not found. Skipping...\n",
      "Processing Record 46 of Set 10 | arman\n",
      "Processing Record 47 of Set 10 | kununurra\n",
      "Processing Record 48 of Set 10 | queanbeyan\n",
      "City not found. Skipping...\n",
      "Processing Record 49 of Set 10 | maura\n",
      "Processing Record 50 of Set 10 | coolum beach\n",
      "City not found. Skipping...\n",
      "Processing Record 0 of Set 11 | trelew\n",
      "City not found. Skipping...\n",
      "Processing Record 1 of Set 11 | christchurch\n",
      "Processing Record 2 of Set 11 | floro\n",
      "Processing Record 3 of Set 11 | marystown\n",
      "Processing Record 4 of Set 11 | ryotsu\n",
      "Processing Record 5 of Set 11 | kjollefjord\n",
      "Processing Record 6 of Set 11 | poum\n",
      "Processing Record 7 of Set 11 | chekhov\n",
      "Processing Record 8 of Set 11 | carutapera\n",
      "Processing Record 9 of Set 11 | champerico\n",
      "Processing Record 10 of Set 11 | ngorongoro\n",
      "Processing Record 11 of Set 11 | alcantara\n",
      "Processing Record 12 of Set 11 | beyneu\n",
      "Processing Record 13 of Set 11 | savelugu\n",
      "City not found. Skipping...\n",
      "Processing Record 14 of Set 11 | magdagachi\n",
      "Processing Record 15 of Set 11 | itarema\n",
      "Processing Record 16 of Set 11 | port lincoln\n",
      "Processing Record 17 of Set 11 | nadvoitsy\n",
      "City not found. Skipping...\n",
      "Processing Record 18 of Set 11 | lerwick\n",
      "Processing Record 19 of Set 11 | lincoln\n",
      "Processing Record 20 of Set 11 | kaiyuan\n",
      "City not found. Skipping...\n",
      "Processing Record 21 of Set 11 | aykhal\n"
     ]
    },
    {
     "name": "stdout",
     "output_type": "stream",
     "text": [
      "Processing Record 22 of Set 11 | okmulgee\n",
      "Processing Record 23 of Set 11 | najran\n",
      "Processing Record 24 of Set 11 | tutoia\n",
      "Processing Record 25 of Set 11 | marquette\n",
      "City not found. Skipping...\n",
      "Processing Record 26 of Set 11 | juneau\n",
      "Processing Record 27 of Set 11 | kamaishi\n",
      "Processing Record 28 of Set 11 | biltine\n",
      "Processing Record 29 of Set 11 | ananas\n",
      "Processing Record 30 of Set 11 | dhidhdhoo\n",
      "Processing Record 31 of Set 11 | luba\n",
      "Processing Record 32 of Set 11 | gbely\n",
      "Processing Record 33 of Set 11 | hervey bay\n",
      "Processing Record 34 of Set 11 | peniche\n",
      "Processing Record 35 of Set 11 | shimoda\n",
      "Processing Record 36 of Set 11 | kavaratti\n",
      "Processing Record 37 of Set 11 | hanzhong\n",
      "City not found. Skipping...\n",
      "Processing Record 38 of Set 11 | los alamos\n",
      "Processing Record 39 of Set 11 | kurkino\n",
      "Processing Record 40 of Set 11 | krasnogorsk\n",
      "Processing Record 41 of Set 11 | manavalakurichi\n",
      "Processing Record 42 of Set 11 | xam nua\n",
      "Processing Record 43 of Set 11 | levokumskoye\n",
      "Processing Record 44 of Set 11 | tupik\n",
      "Processing Record 45 of Set 11 | balikpapan\n",
      "Processing Record 46 of Set 11 | paragominas\n",
      "Processing Record 47 of Set 11 | tara\n",
      "Processing Record 48 of Set 11 | cooma\n",
      "Processing Record 49 of Set 11 | nabire\n",
      "City not found. Skipping...\n",
      "Processing Record 50 of Set 11 | srikakulam\n",
      "City not found. Skipping...\n",
      "Processing Record 0 of Set 12 | uspenka\n",
      "Processing Record 1 of Set 12 | brattleboro\n",
      "Processing Record 2 of Set 12 | xapuri\n",
      "Processing Record 3 of Set 12 | ankazoabo\n",
      "Processing Record 4 of Set 12 | matara\n",
      "Processing Record 5 of Set 12 | ampanihy\n",
      "City not found. Skipping...\n",
      "Processing Record 6 of Set 12 | mkushi\n",
      "Processing Record 7 of Set 12 | maarianhamina\n",
      "Processing Record 8 of Set 12 | karkal\n",
      "Processing Record 9 of Set 12 | staryy nadym\n",
      "Processing Record 10 of Set 12 | shakawe\n",
      "Processing Record 11 of Set 12 | wenling\n",
      "Processing Record 12 of Set 12 | pringsewu\n",
      "Processing Record 13 of Set 12 | menongue\n",
      "Processing Record 14 of Set 12 | biloela\n",
      "Processing Record 15 of Set 12 | hirado\n",
      "Processing Record 16 of Set 12 | khandyga\n",
      "Processing Record 17 of Set 12 | ferrol\n",
      "Processing Record 18 of Set 12 | sarai alamgir\n",
      "City not found. Skipping...\n",
      "Processing Record 19 of Set 12 | la asuncion\n",
      "Processing Record 20 of Set 12 | verkh-usugli\n",
      "Processing Record 21 of Set 12 | araguaina\n",
      "Processing Record 22 of Set 12 | vaitape\n",
      "Processing Record 23 of Set 12 | along\n",
      "Processing Record 24 of Set 12 | gimli\n",
      "City not found. Skipping...\n",
      "Processing Record 25 of Set 12 | belmonte\n",
      "Processing Record 26 of Set 12 | nizhniy kuranakh\n",
      "Processing Record 27 of Set 12 | khash\n",
      "Processing Record 28 of Set 12 | barcelos\n",
      "Processing Record 29 of Set 12 | goalpara\n",
      "Processing Record 30 of Set 12 | cap malheureux\n",
      "Processing Record 31 of Set 12 | sabinas\n",
      "Processing Record 32 of Set 12 | camacha\n",
      "Processing Record 33 of Set 12 | viransehir\n",
      "Processing Record 34 of Set 12 | mbini\n",
      "City not found. Skipping...\n",
      "City not found. Skipping...\n",
      "Processing Record 35 of Set 12 | alice springs\n",
      "Processing Record 36 of Set 12 | polewali\n",
      "City not found. Skipping...\n",
      "Processing Record 37 of Set 12 | ahuimanu\n",
      "Processing Record 38 of Set 12 | lesozavodsk\n",
      "Processing Record 39 of Set 12 | vohibinany\n",
      "Processing Record 40 of Set 12 | banda aceh\n",
      "Processing Record 41 of Set 12 | tarakan\n",
      "Processing Record 42 of Set 12 | elizabeth city\n",
      "Processing Record 43 of Set 12 | fallon\n",
      "Processing Record 44 of Set 12 | mitzic\n",
      "Processing Record 45 of Set 12 | aitape\n",
      "Processing Record 46 of Set 12 | bangassou\n",
      "Processing Record 47 of Set 12 | portadown\n",
      "Processing Record 48 of Set 12 | ola\n",
      "City not found. Skipping...\n",
      "Processing Record 49 of Set 12 | oistins\n",
      "Processing Record 50 of Set 12 | urucara\n",
      "Processing Record 0 of Set 13 | destin\n",
      "Processing Record 1 of Set 13 | darnah\n",
      "City not found. Skipping...\n",
      "Processing Record 2 of Set 13 | kavali\n",
      "Processing Record 3 of Set 13 | duki\n",
      "Processing Record 4 of Set 13 | tadine\n",
      "Processing Record 5 of Set 13 | benguela\n",
      "City not found. Skipping...\n",
      "Processing Record 6 of Set 13 | novobirilyussy\n",
      "Processing Record 7 of Set 13 | ivanava\n",
      "Processing Record 8 of Set 13 | rampura\n",
      "Processing Record 9 of Set 13 | inirida\n",
      "Processing Record 10 of Set 13 | villena\n",
      "Processing Record 11 of Set 13 | waingapu\n",
      "Processing Record 12 of Set 13 | strezhevoy\n",
      "City not found. Skipping...\n",
      "Processing Record 13 of Set 13 | chitral\n",
      "City not found. Skipping...\n",
      "Processing Record 14 of Set 13 | magadan\n",
      "City not found. Skipping...\n",
      "Processing Record 15 of Set 13 | sandwick\n",
      "City not found. Skipping...\n",
      "Processing Record 16 of Set 13 | melilla\n",
      "Processing Record 17 of Set 13 | atasu\n",
      "Processing Record 18 of Set 13 | tahe\n",
      "Processing Record 19 of Set 13 | redondela\n",
      "City not found. Skipping...\n",
      "Processing Record 20 of Set 13 | acajutla\n",
      "Processing Record 21 of Set 13 | whitianga\n",
      "City not found. Skipping...\n",
      "Processing Record 22 of Set 13 | general roca\n",
      "Processing Record 23 of Set 13 | warrington\n",
      "City not found. Skipping...\n",
      "Processing Record 24 of Set 13 | chinhoyi\n",
      "Processing Record 25 of Set 13 | george town\n",
      "Processing Record 26 of Set 13 | adrar\n",
      "Processing Record 27 of Set 13 | launceston\n",
      "Processing Record 28 of Set 13 | campo maior\n",
      "------------------------------\n",
      "Data Retrieval Complete\n",
      "------------------------------\n"
     ]
    }
   ],
   "source": [
    "#new data frame\n",
    "\n",
    "city_name = []\n",
    "cloudiness = []\n",
    "country = []\n",
    "date = []\n",
    "humidity = []\n",
    "lat = []\n",
    "lng = []\n",
    "max_temp = []\n",
    "wind_speed = []\n",
    "\n",
    "\n",
    "count_one = 0\n",
    "set_one = 1\n",
    "\n",
    "print(\"Begining Data Retrieval\")\n",
    "print(f\"-------------------------------\")\n",
    "\n",
    "for city in cities:\n",
    "    try:\n",
    "        response = requests.get(query_url + city).json() \n",
    "        city_name.append(response[\"name\"])\n",
    "        cloudiness.append(response[\"clouds\"][\"all\"])\n",
    "        country.append(response[\"sys\"][\"country\"])\n",
    "        date.append(response[\"dt\"])\n",
    "        humidity.append(response[\"main\"][\"humidity\"])\n",
    "        max_temp.append(response[\"main\"][\"temp_max\"])\n",
    "        lat.append(response[\"coord\"][\"lat\"])\n",
    "        lng.append(response[\"coord\"][\"lon\"])\n",
    "        wind_speed.append(response[\"wind\"][\"speed\"])\n",
    "\n",
    "        if count_one > 49:\n",
    "            count_one = 0\n",
    "            set_one += 1\n",
    "            \n",
    "        else:\n",
    "            count_one += 1\n",
    "            \n",
    "                        \n",
    "        print(f\"Processing Record {count_one} of Set {set_one} | {city}\")\n",
    "    \n",
    "    except Exception:\n",
    "           \n",
    "        print(\"City not found. Skipping...\")\n",
    "print(\"------------------------------\\nData Retrieval Complete\\n------------------------------\")"
   ]
  },
  {
   "cell_type": "markdown",
   "metadata": {},
   "source": [
    "### Convert Raw Data to DataFrame\n",
    "* Export the city data into a .csv.\n",
    "* Display the DataFrame"
   ]
  },
  {
   "cell_type": "code",
   "execution_count": 5,
   "metadata": {},
   "outputs": [
    {
     "data": {
      "text/plain": [
       "City          640\n",
       "Cloudiness    640\n",
       "Country       640\n",
       "Date          640\n",
       "Humidity      640\n",
       "Lat           640\n",
       "Lng           640\n",
       "Max Temp      640\n",
       "Wind Speed    640\n",
       "dtype: int64"
      ]
     },
     "execution_count": 5,
     "metadata": {},
     "output_type": "execute_result"
    }
   ],
   "source": [
    "weatherpy = {\n",
    "    \"City\": city_name,\n",
    "    \"Cloudiness\":cloudiness, \n",
    "    \"Country\":country,\n",
    "    \"Date\":date, \n",
    "    \"Humidity\":humidity,\n",
    "    \"Lat\":lat, \n",
    "    \"Lng\":lng, \n",
    "    \"Max Temp\":max_temp,\n",
    "    \"Wind Speed\":wind_speed\n",
    "}\n",
    "\n",
    "weatherpy = pd.DataFrame(weatherpy)\n",
    "\n",
    "weatherpy.count()"
   ]
  },
  {
   "cell_type": "code",
   "execution_count": 6,
   "metadata": {},
   "outputs": [
    {
     "data": {
      "text/html": [
       "<div>\n",
       "<style scoped>\n",
       "    .dataframe tbody tr th:only-of-type {\n",
       "        vertical-align: middle;\n",
       "    }\n",
       "\n",
       "    .dataframe tbody tr th {\n",
       "        vertical-align: top;\n",
       "    }\n",
       "\n",
       "    .dataframe thead th {\n",
       "        text-align: right;\n",
       "    }\n",
       "</style>\n",
       "<table border=\"1\" class=\"dataframe\">\n",
       "  <thead>\n",
       "    <tr style=\"text-align: right;\">\n",
       "      <th></th>\n",
       "      <th>City</th>\n",
       "      <th>Cloudiness</th>\n",
       "      <th>Country</th>\n",
       "      <th>Date</th>\n",
       "      <th>Humidity</th>\n",
       "      <th>Lat</th>\n",
       "      <th>Lng</th>\n",
       "      <th>Max Temp</th>\n",
       "      <th>Wind Speed</th>\n",
       "    </tr>\n",
       "  </thead>\n",
       "  <tbody>\n",
       "    <tr>\n",
       "      <th>0</th>\n",
       "      <td>Port Elizabeth</td>\n",
       "      <td>40</td>\n",
       "      <td>ZA</td>\n",
       "      <td>1613943171</td>\n",
       "      <td>72</td>\n",
       "      <td>-33.9180</td>\n",
       "      <td>25.5701</td>\n",
       "      <td>64.40</td>\n",
       "      <td>11.50</td>\n",
       "    </tr>\n",
       "    <tr>\n",
       "      <th>1</th>\n",
       "      <td>Rikitea</td>\n",
       "      <td>0</td>\n",
       "      <td>PF</td>\n",
       "      <td>1613943172</td>\n",
       "      <td>68</td>\n",
       "      <td>-23.1203</td>\n",
       "      <td>-134.9692</td>\n",
       "      <td>79.81</td>\n",
       "      <td>10.02</td>\n",
       "    </tr>\n",
       "    <tr>\n",
       "      <th>2</th>\n",
       "      <td>Nueva Guinea</td>\n",
       "      <td>20</td>\n",
       "      <td>NI</td>\n",
       "      <td>1613943238</td>\n",
       "      <td>75</td>\n",
       "      <td>11.6876</td>\n",
       "      <td>-84.4562</td>\n",
       "      <td>77.13</td>\n",
       "      <td>13.89</td>\n",
       "    </tr>\n",
       "    <tr>\n",
       "      <th>3</th>\n",
       "      <td>Tasiilaq</td>\n",
       "      <td>90</td>\n",
       "      <td>GL</td>\n",
       "      <td>1613943238</td>\n",
       "      <td>93</td>\n",
       "      <td>65.6145</td>\n",
       "      <td>-37.6368</td>\n",
       "      <td>32.00</td>\n",
       "      <td>36.82</td>\n",
       "    </tr>\n",
       "    <tr>\n",
       "      <th>4</th>\n",
       "      <td>Ushuaia</td>\n",
       "      <td>90</td>\n",
       "      <td>AR</td>\n",
       "      <td>1613943010</td>\n",
       "      <td>70</td>\n",
       "      <td>-54.8000</td>\n",
       "      <td>-68.3000</td>\n",
       "      <td>44.60</td>\n",
       "      <td>1.32</td>\n",
       "    </tr>\n",
       "  </tbody>\n",
       "</table>\n",
       "</div>"
      ],
      "text/plain": [
       "             City  Cloudiness Country        Date  Humidity      Lat  \\\n",
       "0  Port Elizabeth          40      ZA  1613943171        72 -33.9180   \n",
       "1         Rikitea           0      PF  1613943172        68 -23.1203   \n",
       "2    Nueva Guinea          20      NI  1613943238        75  11.6876   \n",
       "3        Tasiilaq          90      GL  1613943238        93  65.6145   \n",
       "4         Ushuaia          90      AR  1613943010        70 -54.8000   \n",
       "\n",
       "        Lng  Max Temp  Wind Speed  \n",
       "0   25.5701     64.40       11.50  \n",
       "1 -134.9692     79.81       10.02  \n",
       "2  -84.4562     77.13       13.89  \n",
       "3  -37.6368     32.00       36.82  \n",
       "4  -68.3000     44.60        1.32  "
      ]
     },
     "execution_count": 6,
     "metadata": {},
     "output_type": "execute_result"
    }
   ],
   "source": [
    "# Display data frame head \n",
    "weatherpy.head()"
   ]
  },
  {
   "cell_type": "code",
   "execution_count": 7,
   "metadata": {
    "scrolled": true
   },
   "outputs": [],
   "source": [
    "weatherpy.to_csv('weatherpy.csv')"
   ]
  },
  {
   "cell_type": "markdown",
   "metadata": {},
   "source": [
    "## Inspect the data and remove the cities where the humidity > 100%.\n",
    "----\n",
    "Skip this step if there are no cities that have humidity > 100%. "
   ]
  },
  {
   "cell_type": "code",
   "execution_count": 8,
   "metadata": {},
   "outputs": [],
   "source": [
    "#  Get the indices of cities that have humidity over 100%."
   ]
  },
  {
   "cell_type": "code",
   "execution_count": 9,
   "metadata": {},
   "outputs": [
    {
     "data": {
      "text/html": [
       "<div>\n",
       "<style scoped>\n",
       "    .dataframe tbody tr th:only-of-type {\n",
       "        vertical-align: middle;\n",
       "    }\n",
       "\n",
       "    .dataframe tbody tr th {\n",
       "        vertical-align: top;\n",
       "    }\n",
       "\n",
       "    .dataframe thead th {\n",
       "        text-align: right;\n",
       "    }\n",
       "</style>\n",
       "<table border=\"1\" class=\"dataframe\">\n",
       "  <thead>\n",
       "    <tr style=\"text-align: right;\">\n",
       "      <th></th>\n",
       "      <th>Cloudiness</th>\n",
       "      <th>Date</th>\n",
       "      <th>Humidity</th>\n",
       "      <th>Lat</th>\n",
       "      <th>Lng</th>\n",
       "      <th>Max Temp</th>\n",
       "      <th>Wind Speed</th>\n",
       "    </tr>\n",
       "  </thead>\n",
       "  <tbody>\n",
       "    <tr>\n",
       "      <th>count</th>\n",
       "      <td>640.000000</td>\n",
       "      <td>6.400000e+02</td>\n",
       "      <td>640.000000</td>\n",
       "      <td>640.000000</td>\n",
       "      <td>640.000000</td>\n",
       "      <td>640.000000</td>\n",
       "      <td>640.000000</td>\n",
       "    </tr>\n",
       "    <tr>\n",
       "      <th>mean</th>\n",
       "      <td>51.895313</td>\n",
       "      <td>1.613947e+09</td>\n",
       "      <td>72.742188</td>\n",
       "      <td>20.727888</td>\n",
       "      <td>20.372885</td>\n",
       "      <td>49.455906</td>\n",
       "      <td>7.476406</td>\n",
       "    </tr>\n",
       "    <tr>\n",
       "      <th>std</th>\n",
       "      <td>38.988381</td>\n",
       "      <td>2.239961e+03</td>\n",
       "      <td>20.096109</td>\n",
       "      <td>32.998663</td>\n",
       "      <td>90.457766</td>\n",
       "      <td>32.898311</td>\n",
       "      <td>5.823420</td>\n",
       "    </tr>\n",
       "    <tr>\n",
       "      <th>min</th>\n",
       "      <td>0.000000</td>\n",
       "      <td>1.613943e+09</td>\n",
       "      <td>9.000000</td>\n",
       "      <td>-54.800000</td>\n",
       "      <td>-179.166700</td>\n",
       "      <td>-36.890000</td>\n",
       "      <td>0.070000</td>\n",
       "    </tr>\n",
       "    <tr>\n",
       "      <th>25%</th>\n",
       "      <td>9.750000</td>\n",
       "      <td>1.613944e+09</td>\n",
       "      <td>64.000000</td>\n",
       "      <td>-6.067350</td>\n",
       "      <td>-57.825225</td>\n",
       "      <td>32.000000</td>\n",
       "      <td>3.195000</td>\n",
       "    </tr>\n",
       "    <tr>\n",
       "      <th>50%</th>\n",
       "      <td>57.000000</td>\n",
       "      <td>1.613947e+09</td>\n",
       "      <td>78.000000</td>\n",
       "      <td>26.175450</td>\n",
       "      <td>22.727550</td>\n",
       "      <td>61.000000</td>\n",
       "      <td>5.750000</td>\n",
       "    </tr>\n",
       "    <tr>\n",
       "      <th>75%</th>\n",
       "      <td>90.000000</td>\n",
       "      <td>1.613949e+09</td>\n",
       "      <td>87.000000</td>\n",
       "      <td>48.424375</td>\n",
       "      <td>102.579250</td>\n",
       "      <td>76.627500</td>\n",
       "      <td>10.360000</td>\n",
       "    </tr>\n",
       "    <tr>\n",
       "      <th>max</th>\n",
       "      <td>100.000000</td>\n",
       "      <td>1.613950e+09</td>\n",
       "      <td>100.000000</td>\n",
       "      <td>78.218600</td>\n",
       "      <td>178.416700</td>\n",
       "      <td>93.990000</td>\n",
       "      <td>36.820000</td>\n",
       "    </tr>\n",
       "  </tbody>\n",
       "</table>\n",
       "</div>"
      ],
      "text/plain": [
       "       Cloudiness          Date    Humidity         Lat         Lng  \\\n",
       "count  640.000000  6.400000e+02  640.000000  640.000000  640.000000   \n",
       "mean    51.895313  1.613947e+09   72.742188   20.727888   20.372885   \n",
       "std     38.988381  2.239961e+03   20.096109   32.998663   90.457766   \n",
       "min      0.000000  1.613943e+09    9.000000  -54.800000 -179.166700   \n",
       "25%      9.750000  1.613944e+09   64.000000   -6.067350  -57.825225   \n",
       "50%     57.000000  1.613947e+09   78.000000   26.175450   22.727550   \n",
       "75%     90.000000  1.613949e+09   87.000000   48.424375  102.579250   \n",
       "max    100.000000  1.613950e+09  100.000000   78.218600  178.416700   \n",
       "\n",
       "         Max Temp  Wind Speed  \n",
       "count  640.000000  640.000000  \n",
       "mean    49.455906    7.476406  \n",
       "std     32.898311    5.823420  \n",
       "min    -36.890000    0.070000  \n",
       "25%     32.000000    3.195000  \n",
       "50%     61.000000    5.750000  \n",
       "75%     76.627500   10.360000  \n",
       "max     93.990000   36.820000  "
      ]
     },
     "execution_count": 9,
     "metadata": {},
     "output_type": "execute_result"
    }
   ],
   "source": [
    "weatherpy.describe()"
   ]
  },
  {
   "cell_type": "markdown",
   "metadata": {},
   "source": [
    "Step skipped due to no humidity over 100%"
   ]
  },
  {
   "cell_type": "code",
   "execution_count": 10,
   "metadata": {},
   "outputs": [
    {
     "data": {
      "text/plain": [
       "Int64Index([], dtype='int64')"
      ]
     },
     "execution_count": 10,
     "metadata": {},
     "output_type": "execute_result"
    }
   ],
   "source": [
    "weatherpy[weatherpy['Humidity'] > 100].index"
   ]
  },
  {
   "cell_type": "markdown",
   "metadata": {},
   "source": [
    "There are no cities where humidity is over 100%"
   ]
  },
  {
   "cell_type": "code",
   "execution_count": 11,
   "metadata": {},
   "outputs": [],
   "source": [
    "# Make a new DataFrame equal to the city data to drop all humidity outliers by index.\n",
    "# Passing \"inplace=False\" will make a copy of the city_data DataFrame, which we call \"clean_city_data\"."
   ]
  },
  {
   "cell_type": "code",
   "execution_count": 12,
   "metadata": {
    "scrolled": true
   },
   "outputs": [
    {
     "data": {
      "text/html": [
       "<div>\n",
       "<style scoped>\n",
       "    .dataframe tbody tr th:only-of-type {\n",
       "        vertical-align: middle;\n",
       "    }\n",
       "\n",
       "    .dataframe tbody tr th {\n",
       "        vertical-align: top;\n",
       "    }\n",
       "\n",
       "    .dataframe thead th {\n",
       "        text-align: right;\n",
       "    }\n",
       "</style>\n",
       "<table border=\"1\" class=\"dataframe\">\n",
       "  <thead>\n",
       "    <tr style=\"text-align: right;\">\n",
       "      <th></th>\n",
       "      <th>City</th>\n",
       "      <th>Cloudiness</th>\n",
       "      <th>Country</th>\n",
       "      <th>Date</th>\n",
       "      <th>Humidity</th>\n",
       "      <th>Lat</th>\n",
       "      <th>Lng</th>\n",
       "      <th>Max Temp</th>\n",
       "      <th>Wind Speed</th>\n",
       "    </tr>\n",
       "  </thead>\n",
       "  <tbody>\n",
       "    <tr>\n",
       "      <th>0</th>\n",
       "      <td>Port Elizabeth</td>\n",
       "      <td>40</td>\n",
       "      <td>ZA</td>\n",
       "      <td>1613943171</td>\n",
       "      <td>72</td>\n",
       "      <td>-33.9180</td>\n",
       "      <td>25.5701</td>\n",
       "      <td>64.40</td>\n",
       "      <td>11.50</td>\n",
       "    </tr>\n",
       "    <tr>\n",
       "      <th>1</th>\n",
       "      <td>Rikitea</td>\n",
       "      <td>0</td>\n",
       "      <td>PF</td>\n",
       "      <td>1613943172</td>\n",
       "      <td>68</td>\n",
       "      <td>-23.1203</td>\n",
       "      <td>-134.9692</td>\n",
       "      <td>79.81</td>\n",
       "      <td>10.02</td>\n",
       "    </tr>\n",
       "    <tr>\n",
       "      <th>2</th>\n",
       "      <td>Nueva Guinea</td>\n",
       "      <td>20</td>\n",
       "      <td>NI</td>\n",
       "      <td>1613943238</td>\n",
       "      <td>75</td>\n",
       "      <td>11.6876</td>\n",
       "      <td>-84.4562</td>\n",
       "      <td>77.13</td>\n",
       "      <td>13.89</td>\n",
       "    </tr>\n",
       "    <tr>\n",
       "      <th>3</th>\n",
       "      <td>Tasiilaq</td>\n",
       "      <td>90</td>\n",
       "      <td>GL</td>\n",
       "      <td>1613943238</td>\n",
       "      <td>93</td>\n",
       "      <td>65.6145</td>\n",
       "      <td>-37.6368</td>\n",
       "      <td>32.00</td>\n",
       "      <td>36.82</td>\n",
       "    </tr>\n",
       "    <tr>\n",
       "      <th>4</th>\n",
       "      <td>Ushuaia</td>\n",
       "      <td>90</td>\n",
       "      <td>AR</td>\n",
       "      <td>1613943010</td>\n",
       "      <td>70</td>\n",
       "      <td>-54.8000</td>\n",
       "      <td>-68.3000</td>\n",
       "      <td>44.60</td>\n",
       "      <td>1.32</td>\n",
       "    </tr>\n",
       "  </tbody>\n",
       "</table>\n",
       "</div>"
      ],
      "text/plain": [
       "             City  Cloudiness Country        Date  Humidity      Lat  \\\n",
       "0  Port Elizabeth          40      ZA  1613943171        72 -33.9180   \n",
       "1         Rikitea           0      PF  1613943172        68 -23.1203   \n",
       "2    Nueva Guinea          20      NI  1613943238        75  11.6876   \n",
       "3        Tasiilaq          90      GL  1613943238        93  65.6145   \n",
       "4         Ushuaia          90      AR  1613943010        70 -54.8000   \n",
       "\n",
       "        Lng  Max Temp  Wind Speed  \n",
       "0   25.5701     64.40       11.50  \n",
       "1 -134.9692     79.81       10.02  \n",
       "2  -84.4562     77.13       13.89  \n",
       "3  -37.6368     32.00       36.82  \n",
       "4  -68.3000     44.60        1.32  "
      ]
     },
     "execution_count": 12,
     "metadata": {},
     "output_type": "execute_result"
    }
   ],
   "source": [
    "clean_city_data = weatherpy.drop(weatherpy[weatherpy['Humidity'] > 100].index, inplace=False)\n",
    "clean_city_data.head()"
   ]
  },
  {
   "cell_type": "markdown",
   "metadata": {},
   "source": [
    "## Plotting the Data\n",
    "* Use proper labeling of the plots using plot titles (including date of analysis) and axes labels.\n",
    "* Save the plotted figures as .pngs."
   ]
  },
  {
   "cell_type": "markdown",
   "metadata": {},
   "source": [
    "## Latitude vs. Temperature Plot"
   ]
  },
  {
   "cell_type": "code",
   "execution_count": 13,
   "metadata": {
    "scrolled": false
   },
   "outputs": [
    {
     "data": {
      "image/png": "[encoded data removed]",
      "text/plain": [
       "<Figure size 432x288 with 1 Axes>"
      ]
     },
     "metadata": {
      "needs_background": "light"
     },
     "output_type": "display_data"
    }
   ],
   "source": [
    "plt.scatter(clean_city_data[\"Lat\"],clean_city_data[\"Max Temp\"],edgecolors=\"black\",facecolors=\"skyblue\")\n",
    "plt.title(\"City Latitude vs. Max Temperature\")\n",
    "plt.xlabel(\"Latitude\")\n",
    "plt.ylabel(\"Max Temperature (F)\")\n",
    "plt.grid (b=True,which=\"major\",axis=\"both\",linestyle=\"-\",color=\"lightgrey\")\n",
    "\n",
    "plt.savefig(\"Fig 1 City Latitude vs. Humidity.png\")\n",
    "plt.show()"
   ]
  },
  {
   "cell_type": "markdown",
   "metadata": {},
   "source": [
    "Figure 1. There is a clear disparity between the Northern and Southern Hemisphere. This can generally be attributable by geography. The Northern Hemisphere has a disproportionate amount of land mass, especially in the higher lattitudes which combined with the localities of so many cities having the dual effect of proximity to polar (Arctic) influences and large masses of landscapes where mountains (height) play major roles in climate variance. There is also a significant proportioin of land on/near the equator. "
   ]
  },
  {
   "cell_type": "markdown",
   "metadata": {},
   "source": [
    "## Latitude vs. Humidity Plot"
   ]
  },
  {
   "cell_type": "code",
   "execution_count": 14,
   "metadata": {
    "scrolled": true
   },
   "outputs": [
    {
     "data": {
      "image/png": "[encoded data removed]",
      "text/plain": [
       "<Figure size 432x288 with 1 Axes>"
      ]
     },
     "metadata": {
      "needs_background": "light"
     },
     "output_type": "display_data"
    }
   ],
   "source": [
    "plt.scatter(clean_city_data[\"Lat\"],clean_city_data[\"Humidity\"],edgecolors=\"black\",facecolors=\"skyblue\")\n",
    "plt.title(\"City Latitude vs. Humidity\")\n",
    "plt.xlabel(\"Latitude\")\n",
    "plt.ylabel(\"Humidity (%)\")\n",
    "plt.ylim(15,105)\n",
    "plt.grid (b=True,which=\"major\",axis=\"both\",linestyle=\"-\",color=\"lightgrey\")\n",
    "plt.savefig(\"Fig 2 City Latitude vs. Humidity.png\")\n",
    "plt.show()"
   ]
  },
  {
   "cell_type": "markdown",
   "metadata": {},
   "source": [
    "Figure 2. Like Figure 1, shows a stark contrast in humidity levels per city the closer you get to the polar regions. However there is a significant point to make here. There are no large land masses or cities close to the southern polar region as compared to the northern. Nearly all continents, and hence cities in the Northern Hemisphere boarder the Arctic circle or are close enough to have moist air flowing south towards the populated areas, This is also influenced by the Atlantic Thermocline which although is not mentioned or noted in these data sets, drags coldwater south and brings the warmer waters north impacting the humidity levels. As another note, and as one would expect, humidity is generally higher in the tropical regions between 27.5 and -27.5 latitude."
   ]
  },
  {
   "cell_type": "markdown",
   "metadata": {},
   "source": [
    "## Latitude vs. Cloudiness Plot"
   ]
  },
  {
   "cell_type": "code",
   "execution_count": 15,
   "metadata": {
    "scrolled": true
   },
   "outputs": [
    {
     "data": {
      "image/png": "[encoded data removed]",
      "text/plain": [
       "<Figure size 432x288 with 1 Axes>"
      ]
     },
     "metadata": {
      "needs_background": "light"
     },
     "output_type": "display_data"
    }
   ],
   "source": [
    "plt.scatter(clean_city_data[\"Lat\"],clean_city_data[\"Cloudiness\"], marker=\"o\", s=10)\n",
    "plt.title(\"City Latitude vs. Cloudiness\")\n",
    "plt.ylabel(\"Cloudiness (%)\")\n",
    "plt.xlabel(\"Latitude\")\n",
    "plt.grid(True)\n",
    "\n",
    "plt.savefig(\"Fig 3 Cloudiness_vs_Latitude.png\")\n",
    "\n",
    "plt.show()"
   ]
  },
  {
   "cell_type": "markdown",
   "metadata": {},
   "source": [
    "Figure 3. The dataset shows clearly a sparodic scattering of cloudiness across all regions defined. There is no primary trend here with the exception of a lack of data below -60 degrees latitude as there are very few cities (or weather stations for that matter) below this point. It does however show where the dataset cities are located primarily.  "
   ]
  },
  {
   "cell_type": "markdown",
   "metadata": {},
   "source": [
    "## Latitude vs. Wind Speed Plot"
   ]
  },
  {
   "cell_type": "code",
   "execution_count": 16,
   "metadata": {
    "scrolled": true
   },
   "outputs": [
    {
     "data": {
      "image/png": "[encoded data removed]",
      "text/plain": [
       "<Figure size 432x288 with 1 Axes>"
      ]
     },
     "metadata": {
      "needs_background": "light"
     },
     "output_type": "display_data"
    }
   ],
   "source": [
    "plt.scatter(clean_city_data[\"Lat\"],clean_city_data[\"Wind Speed\"], marker=\"o\", s=10)\n",
    "plt.title(\"City Latitude vs. Wind Speed\")\n",
    "plt.ylabel(\"Wind Speed (mph)\")\n",
    "plt.xlabel(\"Latitude\")\n",
    "plt.grid(True)\n",
    "\n",
    "plt.savefig(\"Fig 4 Wind_Speed_vs_Latitude.png\")\n",
    "\n",
    "plt.show()"
   ]
  },
  {
   "cell_type": "markdown",
   "metadata": {},
   "source": [
    "Figure 4 shows a distinct increase in wind speeds in the northern latitudes such as KlaksvÃk 43.73mph, 62.2266 lat. Again, as per figures prior mentioned the lack of data at lower latitudes in the Southern Hemisphere."
   ]
  },
  {
   "cell_type": "markdown",
   "metadata": {},
   "source": [
    "## Linear Regression"
   ]
  },
  {
   "cell_type": "code",
   "execution_count": 17,
   "metadata": {},
   "outputs": [],
   "source": [
    "northern_hemisphere = clean_city_data.loc[clean_city_data[\"Lat\"] >= 0]\n",
    "southern_hemisphere = clean_city_data.loc[clean_city_data[\"Lat\"] < 0]"
   ]
  },
  {
   "cell_type": "markdown",
   "metadata": {},
   "source": [
    "####  Northern Hemisphere - Max Temp vs. Latitude Linear Regression"
   ]
  },
  {
   "cell_type": "code",
   "execution_count": 18,
   "metadata": {},
   "outputs": [],
   "source": [
    "def linear_agression(x,y):\n",
    "    print(f\"The r-squared is : {round(st.pearsonr(x, y)[0],2)}\")\n",
    "    (slope, intercept, rvalue, pvalue, stderr) = linregress(x, y)\n",
    "    regress_values = x * slope + intercept\n",
    "    line_eq = \"y = \" + str(round(slope,2)) + \"x + \" + str(round(intercept,2))\n",
    "    plt.scatter(x, y)\n",
    "    plt.plot(x,regress_values,\"r-\")\n",
    "    return line_eq\n",
    "\n",
    "def annotate(line_eq, a, b):\n",
    "    plt.annotate(line_eq,(a,b),fontsize=15,color=\"red\")"
   ]
  },
  {
   "cell_type": "code",
   "execution_count": 19,
   "metadata": {},
   "outputs": [
    {
     "name": "stdout",
     "output_type": "stream",
     "text": [
      "The r-squared is : -0.86\n"
     ]
    },
    {
     "data": {
      "image/png": "[encoded data removed]",
      "text/plain": [
       "<Figure size 432x288 with 1 Axes>"
      ]
     },
     "metadata": {
      "needs_background": "light"
     },
     "output_type": "display_data"
    }
   ],
   "source": [
    "equation = linear_agression(northern_hemisphere[\"Lat\"], northern_hemisphere[\"Max Temp\"])\n",
    "\n",
    "\n",
    "annotate(equation, 0, -20)\n",
    "\n",
    "\n",
    "plt.title(\"Northern Hemisphere - Max Temp vs. Latitude Linear Regression\")\n",
    "\n",
    "\n",
    "plt.xlabel(\"Latitude\")\n",
    "\n",
    "\n",
    "plt.ylabel(\"Max Temp (F)\")\n",
    "\n",
    "\n",
    "plt.savefig(\"Fig 5 Northern Hemisphere Max Temp vs. Latitude Linear Regression.png\")"
   ]
  },
  {
   "cell_type": "markdown",
   "metadata": {},
   "source": [
    "####  Southern Hemisphere - Max Temp vs. Latitude Linear Regression"
   ]
  },
  {
   "cell_type": "code",
   "execution_count": 28,
   "metadata": {
    "scrolled": false
   },
   "outputs": [
    {
     "name": "stdout",
     "output_type": "stream",
     "text": [
      "The r-squared is : 0.42\n"
     ]
    },
    {
     "data": {
      "image/png": "[encoded data removed]",
      "text/plain": [
       "<Figure size 432x288 with 1 Axes>"
      ]
     },
     "metadata": {
      "needs_background": "light"
     },
     "output_type": "display_data"
    }
   ],
   "source": [
    "equation = linear_agression(southern_hemisphere[\"Lat\"], southern_hemisphere[\"Max Temp\"])\n",
    "\n",
    "\n",
    "annotate(equation, -50, 50)\n",
    "\n",
    "\n",
    "plt.title(\"Southern Hemisphere - Max Temp vs. Latitude Linear Regression\")\n",
    "\n",
    "\n",
    "plt.xlabel(\"Latitude\")\n",
    "\n",
    "\n",
    "plt.ylabel(\"Max Temp (F)\")\n",
    "\n",
    "\n",
    "plt.savefig(\"Fig 6 Southern Hemisphere Max Temp vs. Latitude Linear Regression.png\")"
   ]
  },
  {
   "cell_type": "markdown",
   "metadata": {},
   "source": [
    "Figures 5 & 6 show that tempperature has a clear (but weak) correlation as cities are closer to the equator. Having said this - the Southern Hemisphere have a significant amount of land mass within equator and close to the tropic of capricorn (-23.27 degrees). As a result you can see the the Linear Regression is flattened compared to the Northern Hemisphere."
   ]
  },
  {
   "cell_type": "markdown",
   "metadata": {},
   "source": [
    "####  Northern Hemisphere - Humidity (%) vs. Latitude Linear Regression"
   ]
  },
  {
   "cell_type": "code",
   "execution_count": 21,
   "metadata": {},
   "outputs": [
    {
     "name": "stdout",
     "output_type": "stream",
     "text": [
      "The r-squared is : 0.31\n"
     ]
    },
    {
     "data": {
      "image/png": "[encoded data removed]",
      "text/plain": [
       "<Figure size 432x288 with 1 Axes>"
      ]
     },
     "metadata": {
      "needs_background": "light"
     },
     "output_type": "display_data"
    }
   ],
   "source": [
    "equation = linear_agression(northern_hemisphere[\"Lat\"], northern_hemisphere[\"Humidity\"])\n",
    "\n",
    "\n",
    "annotate(equation, 40, 15)\n",
    "\n",
    "\n",
    "plt.title(\"Northern Hemisphere - Humidity vs. Latitude Linear Regression\")\n",
    "\n",
    "\n",
    "plt.xlabel(\"Latitude\")\n",
    "\n",
    "\n",
    "plt.ylabel(\"Humidity (%)\")\n",
    "\n",
    "\n",
    "plt.savefig(\"Fig 7 Northern Hemisphere Humidity vs. Latitude Linear Regression.png\")"
   ]
  },
  {
   "cell_type": "markdown",
   "metadata": {},
   "source": [
    "####  Southern Hemisphere - Humidity (%) vs. Latitude Linear Regression"
   ]
  },
  {
   "cell_type": "code",
   "execution_count": 22,
   "metadata": {
    "scrolled": true
   },
   "outputs": [
    {
     "name": "stdout",
     "output_type": "stream",
     "text": [
      "The r-squared is : 0.56\n"
     ]
    },
    {
     "data": {
      "image/png": "[encoded data removed]",
      "text/plain": [
       "<Figure size 432x288 with 1 Axes>"
      ]
     },
     "metadata": {
      "needs_background": "light"
     },
     "output_type": "display_data"
    }
   ],
   "source": [
    "equation = linear_agression(southern_hemisphere[\"Lat\"], southern_hemisphere[\"Humidity\"])\n",
    "\n",
    "\n",
    "annotate(equation, -40, 30)\n",
    "\n",
    "\n",
    "plt.title(\"Southern Hemisphere - Humidity vs. Latitude Linear Regression\")\n",
    "\n",
    "\n",
    "plt.xlabel(\"Latitude\")\n",
    "\n",
    "\n",
    "plt.ylabel(\"Humidity (%)\")\n",
    "\n",
    "\n",
    "plt.savefig(\"Fig 8 Southern Hemisphere Humidity vs. Latitude Linear Regression.png\")"
   ]
  },
  {
   "cell_type": "markdown",
   "metadata": {},
   "source": [
    "Figures 7 & 8 Show a clear correlation that the closer you are to the equator - the higher the humidity. However, as seen in Fig 7, there is far more data points clustered for higher humidity levels across all latitudes. Again - there areconstraints on the data as more data points are collated in from the Northern Hemisphere."
   ]
  },
  {
   "cell_type": "markdown",
   "metadata": {},
   "source": [
    "####  Northern Hemisphere - Cloudiness (%) vs. Latitude Linear Regression"
   ]
  },
  {
   "cell_type": "code",
   "execution_count": 23,
   "metadata": {},
   "outputs": [
    {
     "name": "stdout",
     "output_type": "stream",
     "text": [
      "The r-squared is : 0.2\n"
     ]
    },
    {
     "data": {
      "image/png": "[encoded data removed]",
      "text/plain": [
       "<Figure size 432x288 with 1 Axes>"
      ]
     },
     "metadata": {
      "needs_background": "light"
     },
     "output_type": "display_data"
    }
   ],
   "source": [
    "equation = linear_agression(northern_hemisphere[\"Lat\"], northern_hemisphere[\"Cloudiness\"])\n",
    "\n",
    "\n",
    "annotate(equation, 25, 25)\n",
    "\n",
    "\n",
    "plt.title(\"Northern Hemisphere - Cloudiness vs. Latitude Linear Regression\")\n",
    "\n",
    "\n",
    "plt.xlabel(\"Latitude\")\n",
    "\n",
    "\n",
    "plt.ylabel(\"Cloudiness (%)\")\n",
    "\n",
    "\n",
    "plt.savefig(\"Fig 9 Northern Hemisphere Cloudiness vs. Latitude Linear Regression.png\")"
   ]
  },
  {
   "cell_type": "markdown",
   "metadata": {},
   "source": [
    "####  Southern Hemisphere - Cloudiness (%) vs. Latitude Linear Regression"
   ]
  },
  {
   "cell_type": "code",
   "execution_count": 24,
   "metadata": {},
   "outputs": [
    {
     "name": "stdout",
     "output_type": "stream",
     "text": [
      "The r-squared is : 0.43\n"
     ]
    },
    {
     "data": {
      "image/png": "[encoded data removed]",
      "text/plain": [
       "<Figure size 432x288 with 1 Axes>"
      ]
     },
     "metadata": {
      "needs_background": "light"
     },
     "output_type": "display_data"
    }
   ],
   "source": [
    "equation = linear_agression(southern_hemisphere[\"Lat\"], southern_hemisphere[\"Cloudiness\"])\n",
    "\n",
    "\n",
    "annotate(equation, -55, 45)\n",
    "\n",
    "\n",
    "plt.title(\"Southern Hemisphere - Cloudiness vs. Latitude Linear Regression\")\n",
    "\n",
    "\n",
    "plt.xlabel(\"Latitude\")\n",
    "\n",
    "\n",
    "plt.ylabel(\"Cloudiness (%)\")\n",
    "\n",
    "\n",
    "plt.savefig(\"Fig 10 Southern Hemisphere Cloudiness vs. Latitude Linear Regression.png\")"
   ]
  },
  {
   "cell_type": "markdown",
   "metadata": {},
   "source": [
    "Figures 9 & 10 unsurpringly, is significantly different given the variability between the differing seasons. As such there is not a great correlation as described previously."
   ]
  },
  {
   "cell_type": "markdown",
   "metadata": {},
   "source": [
    "####  Northern Hemisphere - Wind Speed (mph) vs. Latitude Linear Regression"
   ]
  },
  {
   "cell_type": "code",
   "execution_count": 25,
   "metadata": {},
   "outputs": [
    {
     "name": "stdout",
     "output_type": "stream",
     "text": [
      "The r-squared is : 0.1\n"
     ]
    },
    {
     "data": {
      "image/png": "[encoded data removed]",
      "text/plain": [
       "<Figure size 432x288 with 1 Axes>"
      ]
     },
     "metadata": {
      "needs_background": "light"
     },
     "output_type": "display_data"
    }
   ],
   "source": [
    "equation = linear_agression(northern_hemisphere[\"Lat\"], northern_hemisphere[\"Wind Speed\"])\n",
    "\n",
    "\n",
    "annotate(equation, 0, 27)\n",
    "\n",
    "\n",
    "plt.title(\"Northern Hemisphere - Wind Speed (mph) vs. Latitude Linear Regression\")\n",
    "\n",
    "\n",
    "plt.xlabel(\"Latitude\")\n",
    "\n",
    "\n",
    "plt.ylabel(\"Wind Speed (mph)\")\n",
    "\n",
    "\n",
    "plt.savefig(\"Fig 11 Northern Hemisphere Wind Speed vs. Latitude Linear Regression.png\")"
   ]
  },
  {
   "cell_type": "markdown",
   "metadata": {},
   "source": [
    "####  Southern Hemisphere - Wind Speed (mph) vs. Latitude Linear Regression"
   ]
  },
  {
   "cell_type": "code",
   "execution_count": 26,
   "metadata": {},
   "outputs": [
    {
     "name": "stdout",
     "output_type": "stream",
     "text": [
      "The r-squared is : -0.27\n"
     ]
    },
    {
     "data": {
      "image/png": "[encoded data removed]",
      "text/plain": [
       "<Figure size 432x288 with 1 Axes>"
      ]
     },
     "metadata": {
      "needs_background": "light"
     },
     "output_type": "display_data"
    }
   ],
   "source": [
    "equation = linear_agression(southern_hemisphere[\"Lat\"], southern_hemisphere[\"Wind Speed\"])\n",
    "\n",
    "\n",
    "annotate(equation, -40, 25)\n",
    "\n",
    "\n",
    "plt.title(\"Southern Hemisphere - Wind Speed (mph) vs. Latitude Linear Regression\")\n",
    "\n",
    "\n",
    "plt.xlabel(\"Latitude\")\n",
    "\n",
    "\n",
    "plt.ylabel(\"Wind Speed (mph)\")\n",
    "\n",
    "\n",
    "plt.savefig(\"Fig 12 Southern Hemisphere Wind Speed vs. Latitude Linear Regression.png\")"
   ]
  },
  {
   "cell_type": "markdown",
   "metadata": {},
   "source": [
    "Figures 11 & 12 show an inverse relationship. As where in the Northern Hemisphere, winds are slightly higher towards the equator, in the Southern Hemisphere they are higher towards mid and lower latitudes latitudes. This is primarily due to what are commonly known as the 'roaring forties' and 'furious fifties' - these winds are present in both hemisphere's, however, given the lower number of data poiints for the Southern Hemisphere, it gives a much clearer visualisation."
   ]
  }
 ],
 "metadata": {
  "anaconda-cloud": {},
  "kernel_info": {
   "name": "python3"
  },
  "kernelspec": {
   "display_name": "Python 3",
   "language": "python",
   "name": "python3"
  },
  "language_info": {
   "codemirror_mode": {
    "name": "ipython",
    "version": 3
   },
   "file_extension": ".py",
   "mimetype": "text/x-python",
   "name": "python",
   "nbconvert_exporter": "python",
   "pygments_lexer": "ipython3",
   "version": "3.8.5"
  },
  "latex_envs": {
   "LaTeX_envs_menu_present": true,
   "autoclose": false,
   "autocomplete": true,
   "bibliofile": "biblio.bib",
   "cite_by": "apalike",
   "current_citInitial": 1,
   "eqLabelWithNumbers": true,
   "eqNumInitial": 1,
   "hotkeys": {
    "equation": "Ctrl-E",
    "itemize": "Ctrl-I"
   },
   "labels_anchors": false,
   "latex_user_defs": false,
   "report_style_numbering": false,
   "user_envs_cfg": false
  },
  "nteract": {
   "version": "0.12.3"
  }
 },
 "nbformat": 4,
 "nbformat_minor": 2
}
