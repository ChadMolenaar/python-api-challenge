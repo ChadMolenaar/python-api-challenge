{
 "cells": [
  {
   "cell_type": "markdown",
   "metadata": {},
   "source": [
    "# VacationPy\n",
    "----\n",
    "\n",
    "#### Note\n",
    "* Keep an eye on your API usage. Use https://developers.google.com/maps/reporting/gmp-reporting as reference for how to monitor your usage and billing.\n",
    "\n",
    "* Instructions have been included for each segment. You do not have to follow them exactly, but they are included to help you think through the steps."
   ]
  },
  {
   "cell_type": "code",
   "execution_count": 1,
   "metadata": {},
   "outputs": [],
   "source": [
    "# Dependencies and Setup\n",
    "import matplotlib.pyplot as plt\n",
    "import pandas as pd\n",
    "import numpy as np\n",
    "import requests\n",
    "import gmaps\n",
    "import os\n",
    "\n",
    "# Import API key\n",
    "from config import g_key\n",
    "# Configure gmaps\n",
    "gmaps.configure(api_key=g_key)\n",
    "\n",
    "base_url = \"https://maps.googleapis.com/maps/api/place/findplacefromtext/json\""
   ]
  },
  {
   "cell_type": "code",
   "execution_count": 2,
   "metadata": {},
   "outputs": [
    {
     "name": "stdout",
     "output_type": "stream",
     "text": [
      "https://maps.googleapis.com/maps/api/place/findplacefromtext/json\n"
     ]
    }
   ],
   "source": [
    "print(\"https://maps.googleapis.com/maps/api/place/findplacefromtext/json\")"
   ]
  },
  {
   "cell_type": "markdown",
   "metadata": {},
   "source": [
    "### Store Part I results into DataFrame\n",
    "* Load the csv exported in Part I to a DataFrame"
   ]
  },
  {
   "cell_type": "code",
   "execution_count": 3,
   "metadata": {},
   "outputs": [
    {
     "data": {
      "text/html": [
       "<div>\n",
       "<style scoped>\n",
       "    .dataframe tbody tr th:only-of-type {\n",
       "        vertical-align: middle;\n",
       "    }\n",
       "\n",
       "    .dataframe tbody tr th {\n",
       "        vertical-align: top;\n",
       "    }\n",
       "\n",
       "    .dataframe thead th {\n",
       "        text-align: right;\n",
       "    }\n",
       "</style>\n",
       "<table border=\"1\" class=\"dataframe\">\n",
       "  <thead>\n",
       "    <tr style=\"text-align: right;\">\n",
       "      <th></th>\n",
       "      <th>Unnamed: 0</th>\n",
       "      <th>City</th>\n",
       "      <th>Cloudiness</th>\n",
       "      <th>Country</th>\n",
       "      <th>Date</th>\n",
       "      <th>Humidity</th>\n",
       "      <th>Lat</th>\n",
       "      <th>Lng</th>\n",
       "      <th>Max Temp</th>\n",
       "      <th>Wind Speed</th>\n",
       "    </tr>\n",
       "  </thead>\n",
       "  <tbody>\n",
       "    <tr>\n",
       "      <th>0</th>\n",
       "      <td>0</td>\n",
       "      <td>Port Elizabeth</td>\n",
       "      <td>40</td>\n",
       "      <td>ZA</td>\n",
       "      <td>1613943171</td>\n",
       "      <td>72</td>\n",
       "      <td>-33.9180</td>\n",
       "      <td>25.5701</td>\n",
       "      <td>64.40</td>\n",
       "      <td>11.50</td>\n",
       "    </tr>\n",
       "    <tr>\n",
       "      <th>1</th>\n",
       "      <td>1</td>\n",
       "      <td>Rikitea</td>\n",
       "      <td>0</td>\n",
       "      <td>PF</td>\n",
       "      <td>1613943172</td>\n",
       "      <td>68</td>\n",
       "      <td>-23.1203</td>\n",
       "      <td>-134.9692</td>\n",
       "      <td>79.81</td>\n",
       "      <td>10.02</td>\n",
       "    </tr>\n",
       "    <tr>\n",
       "      <th>2</th>\n",
       "      <td>2</td>\n",
       "      <td>Nueva Guinea</td>\n",
       "      <td>20</td>\n",
       "      <td>NI</td>\n",
       "      <td>1613943238</td>\n",
       "      <td>75</td>\n",
       "      <td>11.6876</td>\n",
       "      <td>-84.4562</td>\n",
       "      <td>77.13</td>\n",
       "      <td>13.89</td>\n",
       "    </tr>\n",
       "    <tr>\n",
       "      <th>3</th>\n",
       "      <td>3</td>\n",
       "      <td>Tasiilaq</td>\n",
       "      <td>90</td>\n",
       "      <td>GL</td>\n",
       "      <td>1613943238</td>\n",
       "      <td>93</td>\n",
       "      <td>65.6145</td>\n",
       "      <td>-37.6368</td>\n",
       "      <td>32.00</td>\n",
       "      <td>36.82</td>\n",
       "    </tr>\n",
       "    <tr>\n",
       "      <th>4</th>\n",
       "      <td>4</td>\n",
       "      <td>Ushuaia</td>\n",
       "      <td>90</td>\n",
       "      <td>AR</td>\n",
       "      <td>1613943010</td>\n",
       "      <td>70</td>\n",
       "      <td>-54.8000</td>\n",
       "      <td>-68.3000</td>\n",
       "      <td>44.60</td>\n",
       "      <td>1.32</td>\n",
       "    </tr>\n",
       "  </tbody>\n",
       "</table>\n",
       "</div>"
      ],
      "text/plain": [
       "   Unnamed: 0            City  Cloudiness Country        Date  Humidity  \\\n",
       "0           0  Port Elizabeth          40      ZA  1613943171        72   \n",
       "1           1         Rikitea           0      PF  1613943172        68   \n",
       "2           2    Nueva Guinea          20      NI  1613943238        75   \n",
       "3           3        Tasiilaq          90      GL  1613943238        93   \n",
       "4           4         Ushuaia          90      AR  1613943010        70   \n",
       "\n",
       "       Lat       Lng  Max Temp  Wind Speed  \n",
       "0 -33.9180   25.5701     64.40       11.50  \n",
       "1 -23.1203 -134.9692     79.81       10.02  \n",
       "2  11.6876  -84.4562     77.13       13.89  \n",
       "3  65.6145  -37.6368     32.00       36.82  \n",
       "4 -54.8000  -68.3000     44.60        1.32  "
      ]
     },
     "execution_count": 3,
     "metadata": {},
     "output_type": "execute_result"
    }
   ],
   "source": [
    "load_csv = \"weatherpy.csv\"\n",
    "city_df = pd.read_csv(load_csv)\n",
    "\n",
    "city_df.head()\n"
   ]
  },
  {
   "cell_type": "markdown",
   "metadata": {},
   "source": [
    "### Humidity Heatmap\n",
    "* Configure gmaps.\n",
    "* Use the Lat and Lng as locations and Humidity as the weight.\n",
    "* Add Heatmap layer to map."
   ]
  },
  {
   "cell_type": "code",
   "execution_count": 4,
   "metadata": {},
   "outputs": [
    {
     "data": {
      "application/vnd.jupyter.widget-view+json": {
       "model_id": "90c57403eb05402ea7514926543cbfcd",
       "version_major": 2,
       "version_minor": 0
      },
      "text/plain": [
       "Figure(layout=FigureLayout(height='420px'))"
      ]
     },
     "metadata": {},
     "output_type": "display_data"
    }
   ],
   "source": [
    "# Configure gmaps with API key.\n",
    "gmaps.configure(api_key=g_key)\n",
    "\n",
    "# Convert Humidity to float and store\n",
    "# Also, handle NaN values\n",
    "city_df = city_df.dropna()\n",
    "humidity = city_df[\"Humidity\"].astype(float)\n",
    "\n",
    "# Store 'Latitude' and 'Longitude' into  locations. \n",
    "locations = city_df[[\"Lat\", \"Lng\"]].astype(float)\n",
    "\n",
    "# Create a humidity Heatmap layer\n",
    "fig = gmaps.figure()\n",
    "\n",
    "heat_layer = gmaps.heatmap_layer(locations, weights=humidity, \n",
    "                                 dissipating=False, max_intensity=max(city_df[\"Humidity\"]),\n",
    "                                 point_radius = 2)\n",
    "\n",
    "fig.add_layer(heat_layer)\n",
    "\n",
    "fig"
   ]
  },
  {
   "cell_type": "markdown",
   "metadata": {},
   "source": [
    "### Create new DataFrame fitting weather criteria\n",
    "* Narrow down the cities to fit weather conditions.\n",
    "* Drop any rows will null values."
   ]
  },
  {
   "cell_type": "code",
   "execution_count": 5,
   "metadata": {},
   "outputs": [
    {
     "data": {
      "text/html": [
       "<div>\n",
       "<style scoped>\n",
       "    .dataframe tbody tr th:only-of-type {\n",
       "        vertical-align: middle;\n",
       "    }\n",
       "\n",
       "    .dataframe tbody tr th {\n",
       "        vertical-align: top;\n",
       "    }\n",
       "\n",
       "    .dataframe thead th {\n",
       "        text-align: right;\n",
       "    }\n",
       "</style>\n",
       "<table border=\"1\" class=\"dataframe\">\n",
       "  <thead>\n",
       "    <tr style=\"text-align: right;\">\n",
       "      <th></th>\n",
       "      <th>index</th>\n",
       "      <th>Unnamed: 0</th>\n",
       "      <th>City</th>\n",
       "      <th>Cloudiness</th>\n",
       "      <th>Country</th>\n",
       "      <th>Date</th>\n",
       "      <th>Humidity</th>\n",
       "      <th>Lat</th>\n",
       "      <th>Lng</th>\n",
       "      <th>Max Temp</th>\n",
       "      <th>Wind Speed</th>\n",
       "    </tr>\n",
       "  </thead>\n",
       "  <tbody>\n",
       "    <tr>\n",
       "      <th>0</th>\n",
       "      <td>279</td>\n",
       "      <td>279</td>\n",
       "      <td>Torbay</td>\n",
       "      <td>90</td>\n",
       "      <td>CA</td>\n",
       "      <td>1613947041</td>\n",
       "      <td>61</td>\n",
       "      <td>47.6666</td>\n",
       "      <td>-52.7314</td>\n",
       "      <td>12.0</td>\n",
       "      <td>21.85</td>\n",
       "    </tr>\n",
       "    <tr>\n",
       "      <th>1</th>\n",
       "      <td>471</td>\n",
       "      <td>471</td>\n",
       "      <td>Lloydminster</td>\n",
       "      <td>90</td>\n",
       "      <td>CA</td>\n",
       "      <td>1613948519</td>\n",
       "      <td>52</td>\n",
       "      <td>53.2835</td>\n",
       "      <td>-110.0016</td>\n",
       "      <td>41.0</td>\n",
       "      <td>20.71</td>\n",
       "    </tr>\n",
       "  </tbody>\n",
       "</table>\n",
       "</div>"
      ],
      "text/plain": [
       "   index  Unnamed: 0          City  Cloudiness Country        Date  Humidity  \\\n",
       "0    279         279        Torbay          90      CA  1613947041        61   \n",
       "1    471         471  Lloydminster          90      CA  1613948519        52   \n",
       "\n",
       "       Lat       Lng  Max Temp  Wind Speed  \n",
       "0  47.6666  -52.7314      12.0       21.85  \n",
       "1  53.2835 -110.0016      41.0       20.71  "
      ]
     },
     "execution_count": 5,
     "metadata": {},
     "output_type": "execute_result"
    }
   ],
   "source": [
    "narrowed_city_df = city_df.copy()\n",
    "narrowed_city_df = narrowed_city_df[narrowed_city_df['Max Temp'] >= 0]\n",
    "narrowed_city_df = narrowed_city_df[narrowed_city_df['Max Temp'] <= 60]  \n",
    "narrowed_city_df = narrowed_city_df[narrowed_city_df['Wind Speed'] >= 20]\n",
    "narrowed_city_df = narrowed_city_df[narrowed_city_df['Cloudiness'] >= 30]\n",
    "narrowed_city_df = narrowed_city_df[narrowed_city_df['Humidity'] <= 70]\n",
    "narrowed_city_df = narrowed_city_df.dropna()\n",
    "narrowed_city_df = narrowed_city_df.reset_index()\n",
    "narrowed_city_df"
   ]
  },
  {
   "cell_type": "markdown",
   "metadata": {},
   "source": [
    "Addded humidity and differing temperatures as I hate the heat and the humidity!"
   ]
  },
  {
   "cell_type": "markdown",
   "metadata": {},
   "source": [
    "### Hotel Map\n",
    "* Store into variable named `hotel_df`.\n",
    "* Add a \"Hotel Name\" column to the DataFrame.\n",
    "* Set parameters to search for hotels with 5000 meters.\n",
    "* Hit the Google Places API for each city's coordinates.\n",
    "* Store the first Hotel result into the DataFrame.\n",
    "* Plot markers on top of the heatmap."
   ]
  },
  {
   "cell_type": "code",
   "execution_count": 6,
   "metadata": {},
   "outputs": [
    {
     "data": {
      "text/html": [
       "<div>\n",
       "<style scoped>\n",
       "    .dataframe tbody tr th:only-of-type {\n",
       "        vertical-align: middle;\n",
       "    }\n",
       "\n",
       "    .dataframe tbody tr th {\n",
       "        vertical-align: top;\n",
       "    }\n",
       "\n",
       "    .dataframe thead th {\n",
       "        text-align: right;\n",
       "    }\n",
       "</style>\n",
       "<table border=\"1\" class=\"dataframe\">\n",
       "  <thead>\n",
       "    <tr style=\"text-align: right;\">\n",
       "      <th></th>\n",
       "      <th>Unnamed: 0</th>\n",
       "      <th>City</th>\n",
       "      <th>Cloudiness</th>\n",
       "      <th>Country</th>\n",
       "      <th>Date</th>\n",
       "      <th>Humidity</th>\n",
       "      <th>Lat</th>\n",
       "      <th>Lng</th>\n",
       "      <th>Max Temp</th>\n",
       "      <th>Wind Speed</th>\n",
       "      <th>Hotel Name</th>\n",
       "    </tr>\n",
       "  </thead>\n",
       "  <tbody>\n",
       "    <tr>\n",
       "      <th>0</th>\n",
       "      <td>279</td>\n",
       "      <td>Torbay</td>\n",
       "      <td>90</td>\n",
       "      <td>CA</td>\n",
       "      <td>1613947041</td>\n",
       "      <td>61</td>\n",
       "      <td>47.6666</td>\n",
       "      <td>-52.7314</td>\n",
       "      <td>12.0</td>\n",
       "      <td>21.85</td>\n",
       "      <td>NaN</td>\n",
       "    </tr>\n",
       "    <tr>\n",
       "      <th>1</th>\n",
       "      <td>471</td>\n",
       "      <td>Lloydminster</td>\n",
       "      <td>90</td>\n",
       "      <td>CA</td>\n",
       "      <td>1613948519</td>\n",
       "      <td>52</td>\n",
       "      <td>53.2835</td>\n",
       "      <td>-110.0016</td>\n",
       "      <td>41.0</td>\n",
       "      <td>20.71</td>\n",
       "      <td>NaN</td>\n",
       "    </tr>\n",
       "  </tbody>\n",
       "</table>\n",
       "</div>"
      ],
      "text/plain": [
       "   Unnamed: 0          City  Cloudiness Country        Date  Humidity  \\\n",
       "0         279        Torbay          90      CA  1613947041        61   \n",
       "1         471  Lloydminster          90      CA  1613948519        52   \n",
       "\n",
       "       Lat       Lng  Max Temp  Wind Speed  Hotel Name  \n",
       "0  47.6666  -52.7314      12.0       21.85         NaN  \n",
       "1  53.2835 -110.0016      41.0       20.71         NaN  "
      ]
     },
     "execution_count": 6,
     "metadata": {},
     "output_type": "execute_result"
    }
   ],
   "source": [
    "hotel_df = narrowed_city_df\n",
    "hotel_df[\"Hotel Name\"] = np.nan\n",
    "\n",
    "hotel_df = hotel_df.drop(columns=['index'])\n",
    "hotel_df"
   ]
  },
  {
   "cell_type": "code",
   "execution_count": 7,
   "metadata": {},
   "outputs": [
    {
     "name": "stdout",
     "output_type": "stream",
     "text": [
      "Begining Data Retrieval\n",
      "-------------------------------\n",
      "Retrieving Results for Index 0: Torbay.\n",
      "Closest hotel is Gallows Cove.\n",
      "------------\n",
      "Retrieving Results for Index 1: Lloydminster.\n",
      "Closest hotel is BCMInns - Lloydminster.\n",
      "------------\n"
     ]
    }
   ],
   "source": [
    "Hotels = []\n",
    "results = []\n",
    "\n",
    "hotel_df = narrowed_city_df\n",
    "\n",
    "# params dictionary to update each iteration\n",
    "params = {\n",
    "    \"radius\": 5000,\n",
    "    \"types\": \"lodging\",\n",
    "    \"key\": g_key\n",
    "}\n",
    "\n",
    "print(\"Begining Data Retrieval\")\n",
    "print(f\"-------------------------------\")\n",
    "\n",
    "for index, row in hotel_df.iterrows():\n",
    "    # get lat, lng from df\n",
    "    lat = row[\"Lat\"]\n",
    "    lng = row[\"Lng\"]\n",
    "\n",
    "    # change location each iteration while leaving original params in place\n",
    "    params[\"location\"] = f\"{lat},{lng}\"\n",
    "    \n",
    "    base_url = \"https://maps.googleapis.com/maps/api/place/nearbysearch/json\"\n",
    "    \n",
    "    \n",
    "    # assemble url and make API request\n",
    "    print(f\"Retrieving Results for Index {index}: {row['City']}.\")\n",
    "    response = requests.get(base_url, params=params).json()\n",
    "   \n",
    "    results = response['results']\n",
    "        \n",
    "    try:\n",
    "        print(f\"Closest hotel is {results[0]['name']}.\")\n",
    "        hotel_df.loc[index, 'Hotel Name'] = results[0]['name']\n",
    "        hotel_df.dropna()\n",
    "        \n",
    "    except(KeyError, IndexError):\n",
    "        print(\"Missing field/result... skipping.\")\n",
    "        \n",
    "    print(\"------------\")\n"
   ]
  },
  {
   "cell_type": "code",
   "execution_count": 8,
   "metadata": {},
   "outputs": [
    {
     "data": {
      "text/html": [
       "<div>\n",
       "<style scoped>\n",
       "    .dataframe tbody tr th:only-of-type {\n",
       "        vertical-align: middle;\n",
       "    }\n",
       "\n",
       "    .dataframe tbody tr th {\n",
       "        vertical-align: top;\n",
       "    }\n",
       "\n",
       "    .dataframe thead th {\n",
       "        text-align: right;\n",
       "    }\n",
       "</style>\n",
       "<table border=\"1\" class=\"dataframe\">\n",
       "  <thead>\n",
       "    <tr style=\"text-align: right;\">\n",
       "      <th></th>\n",
       "      <th>index</th>\n",
       "      <th>Unnamed: 0</th>\n",
       "      <th>City</th>\n",
       "      <th>Cloudiness</th>\n",
       "      <th>Country</th>\n",
       "      <th>Date</th>\n",
       "      <th>Humidity</th>\n",
       "      <th>Lat</th>\n",
       "      <th>Lng</th>\n",
       "      <th>Max Temp</th>\n",
       "      <th>Wind Speed</th>\n",
       "      <th>Hotel Name</th>\n",
       "    </tr>\n",
       "  </thead>\n",
       "  <tbody>\n",
       "    <tr>\n",
       "      <th>0</th>\n",
       "      <td>279</td>\n",
       "      <td>279</td>\n",
       "      <td>Torbay</td>\n",
       "      <td>90</td>\n",
       "      <td>CA</td>\n",
       "      <td>1613947041</td>\n",
       "      <td>61</td>\n",
       "      <td>47.6666</td>\n",
       "      <td>-52.7314</td>\n",
       "      <td>12.0</td>\n",
       "      <td>21.85</td>\n",
       "      <td>Gallows Cove</td>\n",
       "    </tr>\n",
       "    <tr>\n",
       "      <th>1</th>\n",
       "      <td>471</td>\n",
       "      <td>471</td>\n",
       "      <td>Lloydminster</td>\n",
       "      <td>90</td>\n",
       "      <td>CA</td>\n",
       "      <td>1613948519</td>\n",
       "      <td>52</td>\n",
       "      <td>53.2835</td>\n",
       "      <td>-110.0016</td>\n",
       "      <td>41.0</td>\n",
       "      <td>20.71</td>\n",
       "      <td>BCMInns - Lloydminster</td>\n",
       "    </tr>\n",
       "  </tbody>\n",
       "</table>\n",
       "</div>"
      ],
      "text/plain": [
       "   index  Unnamed: 0          City  Cloudiness Country        Date  Humidity  \\\n",
       "0    279         279        Torbay          90      CA  1613947041        61   \n",
       "1    471         471  Lloydminster          90      CA  1613948519        52   \n",
       "\n",
       "       Lat       Lng  Max Temp  Wind Speed              Hotel Name  \n",
       "0  47.6666  -52.7314      12.0       21.85            Gallows Cove  \n",
       "1  53.2835 -110.0016      41.0       20.71  BCMInns - Lloydminster  "
      ]
     },
     "execution_count": 8,
     "metadata": {},
     "output_type": "execute_result"
    }
   ],
   "source": [
    "hotel_df"
   ]
  },
  {
   "cell_type": "code",
   "execution_count": 9,
   "metadata": {},
   "outputs": [],
   "source": [
    "# NOTE: Do not change any of the code in this cell\n",
    "locations = hotel_df[[\"Lat\", \"Lng\"]]\n",
    "markers = gmaps.marker_layer(locations)\n",
    "\n",
    "# Using the template add the hotel marks to the heatmap\n",
    "info_box_template = \"\"\"\n",
    "<dl>\n",
    "<dt>Name</dt><dd>{Hotel Name}</dd>\n",
    "<dt>City</dt><dd>{City}</dd>\n",
    "<dt>Country</dt><dd>{Country}</dd>\n",
    "</dl>\n",
    "\"\"\"\n",
    "# Store the DataFrame Row\n",
    "# NOTE: be sure to update with your DataFrame name\n",
    "hotel_info = [info_box_template.format(**row) for index, row in hotel_df.iterrows()]\n",
    "locations = hotel_df[[\"Lat\", \"Lng\"]]"
   ]
  },
  {
   "cell_type": "code",
   "execution_count": 10,
   "metadata": {
    "scrolled": true
   },
   "outputs": [
    {
     "data": {
      "application/vnd.jupyter.widget-view+json": {
       "model_id": "90c57403eb05402ea7514926543cbfcd",
       "version_major": 2,
       "version_minor": 0
      },
      "text/plain": [
       "Figure(layout=FigureLayout(height='420px'))"
      ]
     },
     "metadata": {},
     "output_type": "display_data"
    }
   ],
   "source": [
    "# Add marker layer ontop of heat map\n",
    "\n",
    "hotel_layer = gmaps.symbol_layer(\n",
    "    locations, fill_color='rgba(0, 150, 0, 0.4)',\n",
    "    stroke_color='rgba(0, 0, 150, 0.4)', scale=2,\n",
    "    info_box_content=hotel_info\n",
    ")\n",
    "\n",
    "# Display figure\n",
    "fig.add_layer(markers)\n",
    "fig.add_layer(hotel_layer)\n",
    "fig\n",
    "\n",
    "\n"
   ]
  },
  {
   "cell_type": "code",
   "execution_count": null,
   "metadata": {},
   "outputs": [],
   "source": []
  },
  {
   "cell_type": "code",
   "execution_count": null,
   "metadata": {},
   "outputs": [],
   "source": []
  }
 ],
 "metadata": {
  "kernelspec": {
   "display_name": "Python 3",
   "language": "python",
   "name": "python3"
  },
  "language_info": {
   "codemirror_mode": {
    "name": "ipython",
    "version": 3
   },
   "file_extension": ".py",
   "mimetype": "text/x-python",
   "name": "python",
   "nbconvert_exporter": "python",
   "pygments_lexer": "ipython3",
   "version": "3.8.5"
  },
  "latex_envs": {
   "LaTeX_envs_menu_present": true,
   "autoclose": false,
   "autocomplete": true,
   "bibliofile": "biblio.bib",
   "cite_by": "apalike",
   "current_citInitial": 1,
   "eqLabelWithNumbers": true,
   "eqNumInitial": 1,
   "hotkeys": {
    "equation": "Ctrl-E",
    "itemize": "Ctrl-I"
   },
   "labels_anchors": false,
   "latex_user_defs": false,
   "report_style_numbering": false,
   "user_envs_cfg": false
  }
 },
 "nbformat": 4,
 "nbformat_minor": 4
}
